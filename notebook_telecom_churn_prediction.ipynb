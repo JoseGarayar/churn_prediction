{
 "cells": [
  {
   "cell_type": "markdown",
   "metadata": {
    "id": "9caqdLmcVxnG"
   },
   "source": [
    "# Preprocessing"
   ]
  },
  {
   "cell_type": "markdown",
   "metadata": {
    "id": "E7qxLjzvVxnJ"
   },
   "source": [
    "Importing needed libraries"
   ]
  },
  {
   "cell_type": "code",
   "execution_count": 1,
   "metadata": {
    "id": "b5GiT8W5Vyrg"
   },
   "outputs": [],
   "source": [
    "!pip install -q scikit-optimize"
   ]
  },
  {
   "cell_type": "code",
   "execution_count": 2,
   "metadata": {
    "id": "50SzlQvjXG9X"
   },
   "outputs": [],
   "source": [
    "!pip install -q scikit-learn==1.3.0"
   ]
  },
  {
   "cell_type": "code",
   "execution_count": 3,
   "metadata": {
    "id": "H_eYnv1sYRaa"
   },
   "outputs": [],
   "source": [
    "!pip install -q umap-learn"
   ]
  },
  {
   "cell_type": "code",
   "execution_count": 111,
   "metadata": {
    "id": "rYzhekMKVxnK"
   },
   "outputs": [],
   "source": [
    "import pandas as pd\n",
    "import numpy as np\n",
    "import seaborn as sns\n",
    "import matplotlib.pyplot as plt\n",
    "import dask\n",
    "import joblib\n",
    "import warnings\n",
    "from dask.distributed import LocalCluster, Client\n",
    "from sklearn.model_selection import train_test_split, RandomizedSearchCV, StratifiedKFold, cross_validate\n",
    "from sklearn.base import BaseEstimator, TransformerMixin\n",
    "from sklearn.pipeline import Pipeline, make_pipeline\n",
    "from sklearn.impute import SimpleImputer\n",
    "from sklearn.compose import ColumnTransformer\n",
    "from sklearn.preprocessing import StandardScaler, OneHotEncoder, LabelEncoder, TargetEncoder\n",
    "from sklearn.base import TransformerMixin\n",
    "from sklearn.linear_model import LogisticRegression\n",
    "from sklearn.cluster import DBSCAN\n",
    "from sklearn.neighbors import KNeighborsClassifier\n",
    "from sklearn.tree import DecisionTreeClassifier\n",
    "from sklearn.ensemble import RandomForestClassifier\n",
    "from sklearn.neural_network import MLPClassifier\n",
    "from xgboost import XGBClassifier\n",
    "from lightgbm import LGBMClassifier\n",
    "from sklearn.metrics import roc_auc_score, recall_score, precision_score, accuracy_score, f1_score, confusion_matrix, precision_recall_curve\n",
    "from skopt import BayesSearchCV\n",
    "from skopt.space import Real, Categorical, Integer\n",
    "from umap import UMAP\n",
    "from scipy.stats import randint, uniform\n",
    "from statsmodels.stats.outliers_influence import variance_inflation_factor\n",
    "warnings.filterwarnings('ignore')"
   ]
  },
  {
   "cell_type": "markdown",
   "metadata": {
    "id": "c83L54HsVxnL"
   },
   "source": [
    "Initialize cluster"
   ]
  },
  {
   "cell_type": "code",
   "execution_count": 3,
   "metadata": {
    "colab": {
     "base_uri": "https://localhost:8080/"
    },
    "id": "hd0Q3ZE9VxnM",
    "outputId": "1b8c5c3a-5fd9-4b5b-a8c1-6ea7b77c09a8"
   },
   "outputs": [],
   "source": [
    "cluster = LocalCluster(n_workers = 4, threads_per_worker = 1, memory_limit = '6GB')\n",
    "client = Client(cluster)"
   ]
  },
  {
   "cell_type": "markdown",
   "metadata": {
    "id": "kF53zS0vVxnM"
   },
   "source": [
    "Reading csv file"
   ]
  },
  {
   "cell_type": "code",
   "execution_count": 4,
   "metadata": {
    "colab": {
     "base_uri": "https://localhost:8080/",
     "height": 256
    },
    "id": "F6wzJmNNVxnN",
    "outputId": "91759bb0-79ca-4ef7-dae3-f3c9c04ed695"
   },
   "outputs": [
    {
     "data": {
      "text/html": [
       "<div>\n",
       "<style scoped>\n",
       "    .dataframe tbody tr th:only-of-type {\n",
       "        vertical-align: middle;\n",
       "    }\n",
       "\n",
       "    .dataframe tbody tr th {\n",
       "        vertical-align: top;\n",
       "    }\n",
       "\n",
       "    .dataframe thead th {\n",
       "        text-align: right;\n",
       "    }\n",
       "</style>\n",
       "<table border=\"1\" class=\"dataframe\">\n",
       "  <thead>\n",
       "    <tr style=\"text-align: right;\">\n",
       "      <th></th>\n",
       "      <th>CustomerID</th>\n",
       "      <th>Churn</th>\n",
       "      <th>MonthlyRevenue</th>\n",
       "      <th>MonthlyMinutes</th>\n",
       "      <th>TotalRecurringCharge</th>\n",
       "      <th>DirectorAssistedCalls</th>\n",
       "      <th>OverageMinutes</th>\n",
       "      <th>RoamingCalls</th>\n",
       "      <th>PercChangeMinutes</th>\n",
       "      <th>PercChangeRevenues</th>\n",
       "      <th>...</th>\n",
       "      <th>ReferralsMadeBySubscriber</th>\n",
       "      <th>IncomeGroup</th>\n",
       "      <th>OwnsMotorcycle</th>\n",
       "      <th>AdjustmentsToCreditRating</th>\n",
       "      <th>HandsetPrice</th>\n",
       "      <th>MadeCallToRetentionTeam</th>\n",
       "      <th>CreditRating</th>\n",
       "      <th>PrizmCode</th>\n",
       "      <th>Occupation</th>\n",
       "      <th>MaritalStatus</th>\n",
       "    </tr>\n",
       "  </thead>\n",
       "  <tbody>\n",
       "    <tr>\n",
       "      <th>0</th>\n",
       "      <td>3000002</td>\n",
       "      <td>Yes</td>\n",
       "      <td>24.00</td>\n",
       "      <td>219.0</td>\n",
       "      <td>22.0</td>\n",
       "      <td>0.25</td>\n",
       "      <td>0.0</td>\n",
       "      <td>0.0</td>\n",
       "      <td>-157.0</td>\n",
       "      <td>-19.0</td>\n",
       "      <td>...</td>\n",
       "      <td>0</td>\n",
       "      <td>4</td>\n",
       "      <td>No</td>\n",
       "      <td>0</td>\n",
       "      <td>30</td>\n",
       "      <td>Yes</td>\n",
       "      <td>1-Highest</td>\n",
       "      <td>Suburban</td>\n",
       "      <td>Professional</td>\n",
       "      <td>No</td>\n",
       "    </tr>\n",
       "    <tr>\n",
       "      <th>1</th>\n",
       "      <td>3000010</td>\n",
       "      <td>Yes</td>\n",
       "      <td>16.99</td>\n",
       "      <td>10.0</td>\n",
       "      <td>17.0</td>\n",
       "      <td>0.00</td>\n",
       "      <td>0.0</td>\n",
       "      <td>0.0</td>\n",
       "      <td>-4.0</td>\n",
       "      <td>0.0</td>\n",
       "      <td>...</td>\n",
       "      <td>0</td>\n",
       "      <td>5</td>\n",
       "      <td>No</td>\n",
       "      <td>0</td>\n",
       "      <td>30</td>\n",
       "      <td>No</td>\n",
       "      <td>4-Medium</td>\n",
       "      <td>Suburban</td>\n",
       "      <td>Professional</td>\n",
       "      <td>Yes</td>\n",
       "    </tr>\n",
       "    <tr>\n",
       "      <th>2</th>\n",
       "      <td>3000014</td>\n",
       "      <td>No</td>\n",
       "      <td>38.00</td>\n",
       "      <td>8.0</td>\n",
       "      <td>38.0</td>\n",
       "      <td>0.00</td>\n",
       "      <td>0.0</td>\n",
       "      <td>0.0</td>\n",
       "      <td>-2.0</td>\n",
       "      <td>0.0</td>\n",
       "      <td>...</td>\n",
       "      <td>0</td>\n",
       "      <td>6</td>\n",
       "      <td>No</td>\n",
       "      <td>0</td>\n",
       "      <td>Unknown</td>\n",
       "      <td>No</td>\n",
       "      <td>3-Good</td>\n",
       "      <td>Town</td>\n",
       "      <td>Crafts</td>\n",
       "      <td>Yes</td>\n",
       "    </tr>\n",
       "    <tr>\n",
       "      <th>3</th>\n",
       "      <td>3000022</td>\n",
       "      <td>No</td>\n",
       "      <td>82.28</td>\n",
       "      <td>1312.0</td>\n",
       "      <td>75.0</td>\n",
       "      <td>1.24</td>\n",
       "      <td>0.0</td>\n",
       "      <td>0.0</td>\n",
       "      <td>157.0</td>\n",
       "      <td>8.1</td>\n",
       "      <td>...</td>\n",
       "      <td>0</td>\n",
       "      <td>6</td>\n",
       "      <td>No</td>\n",
       "      <td>0</td>\n",
       "      <td>10</td>\n",
       "      <td>No</td>\n",
       "      <td>4-Medium</td>\n",
       "      <td>Other</td>\n",
       "      <td>Other</td>\n",
       "      <td>No</td>\n",
       "    </tr>\n",
       "    <tr>\n",
       "      <th>4</th>\n",
       "      <td>3000026</td>\n",
       "      <td>Yes</td>\n",
       "      <td>17.14</td>\n",
       "      <td>0.0</td>\n",
       "      <td>17.0</td>\n",
       "      <td>0.00</td>\n",
       "      <td>0.0</td>\n",
       "      <td>0.0</td>\n",
       "      <td>0.0</td>\n",
       "      <td>-0.2</td>\n",
       "      <td>...</td>\n",
       "      <td>0</td>\n",
       "      <td>9</td>\n",
       "      <td>No</td>\n",
       "      <td>1</td>\n",
       "      <td>10</td>\n",
       "      <td>No</td>\n",
       "      <td>1-Highest</td>\n",
       "      <td>Other</td>\n",
       "      <td>Professional</td>\n",
       "      <td>Yes</td>\n",
       "    </tr>\n",
       "  </tbody>\n",
       "</table>\n",
       "<p>5 rows × 58 columns</p>\n",
       "</div>"
      ],
      "text/plain": [
       "   CustomerID Churn  MonthlyRevenue  MonthlyMinutes  TotalRecurringCharge  \\\n",
       "0     3000002   Yes           24.00           219.0                  22.0   \n",
       "1     3000010   Yes           16.99            10.0                  17.0   \n",
       "2     3000014    No           38.00             8.0                  38.0   \n",
       "3     3000022    No           82.28          1312.0                  75.0   \n",
       "4     3000026   Yes           17.14             0.0                  17.0   \n",
       "\n",
       "   DirectorAssistedCalls  OverageMinutes  RoamingCalls  PercChangeMinutes  \\\n",
       "0                   0.25             0.0           0.0             -157.0   \n",
       "1                   0.00             0.0           0.0               -4.0   \n",
       "2                   0.00             0.0           0.0               -2.0   \n",
       "3                   1.24             0.0           0.0              157.0   \n",
       "4                   0.00             0.0           0.0                0.0   \n",
       "\n",
       "   PercChangeRevenues  ...  ReferralsMadeBySubscriber  IncomeGroup  \\\n",
       "0               -19.0  ...                          0            4   \n",
       "1                 0.0  ...                          0            5   \n",
       "2                 0.0  ...                          0            6   \n",
       "3                 8.1  ...                          0            6   \n",
       "4                -0.2  ...                          0            9   \n",
       "\n",
       "   OwnsMotorcycle  AdjustmentsToCreditRating  HandsetPrice  \\\n",
       "0              No                          0            30   \n",
       "1              No                          0            30   \n",
       "2              No                          0       Unknown   \n",
       "3              No                          0            10   \n",
       "4              No                          1            10   \n",
       "\n",
       "   MadeCallToRetentionTeam  CreditRating  PrizmCode    Occupation  \\\n",
       "0                      Yes     1-Highest   Suburban  Professional   \n",
       "1                       No      4-Medium   Suburban  Professional   \n",
       "2                       No        3-Good       Town        Crafts   \n",
       "3                       No      4-Medium      Other         Other   \n",
       "4                       No     1-Highest      Other  Professional   \n",
       "\n",
       "   MaritalStatus  \n",
       "0             No  \n",
       "1            Yes  \n",
       "2            Yes  \n",
       "3             No  \n",
       "4            Yes  \n",
       "\n",
       "[5 rows x 58 columns]"
      ]
     },
     "execution_count": 4,
     "metadata": {},
     "output_type": "execute_result"
    }
   ],
   "source": [
    "df = pd.read_csv('Churn.csv', low_memory = False)\n",
    "df.head()"
   ]
  },
  {
   "cell_type": "markdown",
   "metadata": {
    "id": "XB4cA-UqVxnN"
   },
   "source": [
    "Checking dtypes"
   ]
  },
  {
   "cell_type": "code",
   "execution_count": 5,
   "metadata": {
    "colab": {
     "base_uri": "https://localhost:8080/"
    },
    "id": "PQlhca73VxnN",
    "outputId": "61f713c5-f33a-4144-a9fc-074fa81685a1"
   },
   "outputs": [
    {
     "name": "stdout",
     "output_type": "stream",
     "text": [
      "<class 'pandas.core.frame.DataFrame'>\n",
      "RangeIndex: 71047 entries, 0 to 71046\n",
      "Data columns (total 58 columns):\n",
      " #   Column                     Non-Null Count  Dtype  \n",
      "---  ------                     --------------  -----  \n",
      " 0   CustomerID                 71047 non-null  int64  \n",
      " 1   Churn                      51047 non-null  object \n",
      " 2   MonthlyRevenue             70831 non-null  float64\n",
      " 3   MonthlyMinutes             70831 non-null  float64\n",
      " 4   TotalRecurringCharge       70831 non-null  float64\n",
      " 5   DirectorAssistedCalls      70831 non-null  float64\n",
      " 6   OverageMinutes             70831 non-null  float64\n",
      " 7   RoamingCalls               70831 non-null  float64\n",
      " 8   PercChangeMinutes          70545 non-null  float64\n",
      " 9   PercChangeRevenues         70545 non-null  float64\n",
      " 10  DroppedCalls               71047 non-null  float64\n",
      " 11  BlockedCalls               71047 non-null  float64\n",
      " 12  UnansweredCalls            71047 non-null  float64\n",
      " 13  CustomerCareCalls          71047 non-null  float64\n",
      " 14  ThreewayCalls              71047 non-null  float64\n",
      " 15  ReceivedCalls              71047 non-null  float64\n",
      " 16  OutboundCalls              71047 non-null  float64\n",
      " 17  InboundCalls               71047 non-null  float64\n",
      " 18  PeakCallsInOut             71047 non-null  float64\n",
      " 19  OffPeakCallsInOut          71047 non-null  float64\n",
      " 20  DroppedBlockedCalls        71047 non-null  float64\n",
      " 21  CallForwardingCalls        71047 non-null  float64\n",
      " 22  CallWaitingCalls           71047 non-null  float64\n",
      " 23  MonthsInService            71047 non-null  int64  \n",
      " 24  UniqueSubs                 71047 non-null  int64  \n",
      " 25  ActiveSubs                 71047 non-null  int64  \n",
      " 26  ServiceArea                71019 non-null  object \n",
      " 27  Handsets                   71046 non-null  float64\n",
      " 28  HandsetModels              71046 non-null  float64\n",
      " 29  CurrentEquipmentDays       71046 non-null  float64\n",
      " 30  AgeHH1                     69803 non-null  float64\n",
      " 31  AgeHH2                     69803 non-null  float64\n",
      " 32  ChildrenInHH               71047 non-null  object \n",
      " 33  HandsetRefurbished         71047 non-null  object \n",
      " 34  HandsetWebCapable          71047 non-null  object \n",
      " 35  TruckOwner                 71047 non-null  object \n",
      " 36  RVOwner                    71047 non-null  object \n",
      " 37  Homeownership              71047 non-null  object \n",
      " 38  BuysViaMailOrder           71047 non-null  object \n",
      " 39  RespondsToMailOffers       71047 non-null  object \n",
      " 40  OptOutMailings             71047 non-null  object \n",
      " 41  NonUSTravel                71047 non-null  object \n",
      " 42  OwnsComputer               71047 non-null  object \n",
      " 43  HasCreditCard              71047 non-null  object \n",
      " 44  RetentionCalls             71047 non-null  int64  \n",
      " 45  RetentionOffersAccepted    71047 non-null  int64  \n",
      " 46  NewCellphoneUser           71047 non-null  object \n",
      " 47  NotNewCellphoneUser        71047 non-null  object \n",
      " 48  ReferralsMadeBySubscriber  71047 non-null  int64  \n",
      " 49  IncomeGroup                71047 non-null  int64  \n",
      " 50  OwnsMotorcycle             71047 non-null  object \n",
      " 51  AdjustmentsToCreditRating  71047 non-null  int64  \n",
      " 52  HandsetPrice               71047 non-null  object \n",
      " 53  MadeCallToRetentionTeam    71047 non-null  object \n",
      " 54  CreditRating               71047 non-null  object \n",
      " 55  PrizmCode                  71047 non-null  object \n",
      " 56  Occupation                 71047 non-null  object \n",
      " 57  MaritalStatus              71047 non-null  object \n",
      "dtypes: float64(26), int64(9), object(23)\n",
      "memory usage: 31.4+ MB\n"
     ]
    }
   ],
   "source": [
    "df.info()"
   ]
  },
  {
   "cell_type": "markdown",
   "metadata": {
    "id": "bUMl3gewVxnO"
   },
   "source": [
    "Verifying null values"
   ]
  },
  {
   "cell_type": "code",
   "execution_count": 6,
   "metadata": {
    "colab": {
     "base_uri": "https://localhost:8080/",
     "height": 520
    },
    "id": "esXJK5SoVxnO",
    "outputId": "29932de4-e03f-49b1-fb95-6aee318caf94"
   },
   "outputs": [
    {
     "data": {
      "text/html": [
       "<div>\n",
       "<style scoped>\n",
       "    .dataframe tbody tr th:only-of-type {\n",
       "        vertical-align: middle;\n",
       "    }\n",
       "\n",
       "    .dataframe tbody tr th {\n",
       "        vertical-align: top;\n",
       "    }\n",
       "\n",
       "    .dataframe thead th {\n",
       "        text-align: right;\n",
       "    }\n",
       "</style>\n",
       "<table border=\"1\" class=\"dataframe\">\n",
       "  <thead>\n",
       "    <tr style=\"text-align: right;\">\n",
       "      <th></th>\n",
       "      <th>feature</th>\n",
       "      <th>missing_count</th>\n",
       "      <th>missin_count_relavite</th>\n",
       "      <th>dtype</th>\n",
       "    </tr>\n",
       "  </thead>\n",
       "  <tbody>\n",
       "    <tr>\n",
       "      <th>0</th>\n",
       "      <td>Churn</td>\n",
       "      <td>20000</td>\n",
       "      <td>0.281504</td>\n",
       "      <td>object</td>\n",
       "    </tr>\n",
       "    <tr>\n",
       "      <th>1</th>\n",
       "      <td>MonthlyRevenue</td>\n",
       "      <td>216</td>\n",
       "      <td>0.003040</td>\n",
       "      <td>float64</td>\n",
       "    </tr>\n",
       "    <tr>\n",
       "      <th>2</th>\n",
       "      <td>MonthlyMinutes</td>\n",
       "      <td>216</td>\n",
       "      <td>0.003040</td>\n",
       "      <td>float64</td>\n",
       "    </tr>\n",
       "    <tr>\n",
       "      <th>3</th>\n",
       "      <td>TotalRecurringCharge</td>\n",
       "      <td>216</td>\n",
       "      <td>0.003040</td>\n",
       "      <td>float64</td>\n",
       "    </tr>\n",
       "    <tr>\n",
       "      <th>4</th>\n",
       "      <td>DirectorAssistedCalls</td>\n",
       "      <td>216</td>\n",
       "      <td>0.003040</td>\n",
       "      <td>float64</td>\n",
       "    </tr>\n",
       "    <tr>\n",
       "      <th>5</th>\n",
       "      <td>OverageMinutes</td>\n",
       "      <td>216</td>\n",
       "      <td>0.003040</td>\n",
       "      <td>float64</td>\n",
       "    </tr>\n",
       "    <tr>\n",
       "      <th>6</th>\n",
       "      <td>RoamingCalls</td>\n",
       "      <td>216</td>\n",
       "      <td>0.003040</td>\n",
       "      <td>float64</td>\n",
       "    </tr>\n",
       "    <tr>\n",
       "      <th>7</th>\n",
       "      <td>PercChangeMinutes</td>\n",
       "      <td>502</td>\n",
       "      <td>0.007066</td>\n",
       "      <td>float64</td>\n",
       "    </tr>\n",
       "    <tr>\n",
       "      <th>8</th>\n",
       "      <td>PercChangeRevenues</td>\n",
       "      <td>502</td>\n",
       "      <td>0.007066</td>\n",
       "      <td>float64</td>\n",
       "    </tr>\n",
       "    <tr>\n",
       "      <th>9</th>\n",
       "      <td>ServiceArea</td>\n",
       "      <td>28</td>\n",
       "      <td>0.000394</td>\n",
       "      <td>object</td>\n",
       "    </tr>\n",
       "    <tr>\n",
       "      <th>10</th>\n",
       "      <td>Handsets</td>\n",
       "      <td>1</td>\n",
       "      <td>0.000014</td>\n",
       "      <td>float64</td>\n",
       "    </tr>\n",
       "    <tr>\n",
       "      <th>11</th>\n",
       "      <td>HandsetModels</td>\n",
       "      <td>1</td>\n",
       "      <td>0.000014</td>\n",
       "      <td>float64</td>\n",
       "    </tr>\n",
       "    <tr>\n",
       "      <th>12</th>\n",
       "      <td>CurrentEquipmentDays</td>\n",
       "      <td>1</td>\n",
       "      <td>0.000014</td>\n",
       "      <td>float64</td>\n",
       "    </tr>\n",
       "    <tr>\n",
       "      <th>13</th>\n",
       "      <td>AgeHH1</td>\n",
       "      <td>1244</td>\n",
       "      <td>0.017510</td>\n",
       "      <td>float64</td>\n",
       "    </tr>\n",
       "    <tr>\n",
       "      <th>14</th>\n",
       "      <td>AgeHH2</td>\n",
       "      <td>1244</td>\n",
       "      <td>0.017510</td>\n",
       "      <td>float64</td>\n",
       "    </tr>\n",
       "  </tbody>\n",
       "</table>\n",
       "</div>"
      ],
      "text/plain": [
       "                  feature  missing_count  missin_count_relavite    dtype\n",
       "0                   Churn          20000               0.281504   object\n",
       "1          MonthlyRevenue            216               0.003040  float64\n",
       "2          MonthlyMinutes            216               0.003040  float64\n",
       "3    TotalRecurringCharge            216               0.003040  float64\n",
       "4   DirectorAssistedCalls            216               0.003040  float64\n",
       "5          OverageMinutes            216               0.003040  float64\n",
       "6            RoamingCalls            216               0.003040  float64\n",
       "7       PercChangeMinutes            502               0.007066  float64\n",
       "8      PercChangeRevenues            502               0.007066  float64\n",
       "9             ServiceArea             28               0.000394   object\n",
       "10               Handsets              1               0.000014  float64\n",
       "11          HandsetModels              1               0.000014  float64\n",
       "12   CurrentEquipmentDays              1               0.000014  float64\n",
       "13                 AgeHH1           1244               0.017510  float64\n",
       "14                 AgeHH2           1244               0.017510  float64"
      ]
     },
     "execution_count": 6,
     "metadata": {},
     "output_type": "execute_result"
    }
   ],
   "source": [
    "# grabbing all missing values\n",
    "total_missing = df.isnull().sum().reset_index().rename(columns = {'index': 'feature', 0: 'missing_count'})\n",
    "\n",
    "# selecting ones whic have missing_count greater than 0\n",
    "actual_missing = total_missing[total_missing.missing_count > 0].copy().reset_index(drop = True)\n",
    "\n",
    "# showing in terms of relative percentages\n",
    "actual_missing['missin_count_relavite'] = actual_missing['missing_count'] / len(df)\n",
    "\n",
    "# adding its dtypes\n",
    "dtype_dict = df.dtypes.to_dict()\n",
    "actual_missing['dtype'] = actual_missing.feature.map(dtype_dict)\n",
    "\n",
    "# missing dataframe\n",
    "actual_missing"
   ]
  },
  {
   "cell_type": "markdown",
   "metadata": {
    "id": "AZn4pK1HVxnO"
   },
   "source": [
    "As it can be seen, there are 20000 missing values on the target \"Churn\", this group is stored in another datadrame for future purposes, but as first step we clean the null values by dropping their rows cause they represent fewer than 2%"
   ]
  },
  {
   "cell_type": "code",
   "execution_count": 7,
   "metadata": {
    "colab": {
     "base_uri": "https://localhost:8080/"
    },
    "id": "NDKpmPStVxnP",
    "outputId": "b0776ced-30c9-44be-ab2b-f199c36a4145"
   },
   "outputs": [
    {
     "data": {
      "text/plain": [
       "(49752, 58)"
      ]
     },
     "execution_count": 7,
     "metadata": {},
     "output_type": "execute_result"
    }
   ],
   "source": [
    "# drop null values\n",
    "values_to_drop = actual_missing.feature.tolist()[1:]\n",
    "\n",
    "df = df.dropna(subset = values_to_drop, axis = 0)\n",
    "\n",
    "# getting those\n",
    "df_no_target = df[df.Churn.isnull()].copy().reset_index(drop = True)\n",
    "\n",
    "# dropping 20000 nan values in the original dataframe\n",
    "df = df.dropna(subset = 'Churn')\n",
    "\n",
    "# removing churn feature from actual_missing\n",
    "actual_missing = actual_missing[actual_missing.feature != 'Churn']\n",
    "\n",
    "# verifying new shape\n",
    "df.shape"
   ]
  },
  {
   "cell_type": "markdown",
   "metadata": {
    "id": "6d58DjvwVxnP"
   },
   "source": [
    "Verifying null values"
   ]
  },
  {
   "cell_type": "code",
   "execution_count": 8,
   "metadata": {
    "colab": {
     "base_uri": "https://localhost:8080/"
    },
    "id": "BrYC6QlOVxnP",
    "outputId": "a2f89dca-70ee-494e-f6ad-1c05b8bc6a00"
   },
   "outputs": [
    {
     "data": {
      "text/plain": [
       "0"
      ]
     },
     "execution_count": 8,
     "metadata": {},
     "output_type": "execute_result"
    }
   ],
   "source": [
    "df.isnull().sum().sum()"
   ]
  },
  {
   "cell_type": "markdown",
   "metadata": {
    "id": "2RMCBWezVxnP"
   },
   "source": [
    "Labeling target"
   ]
  },
  {
   "cell_type": "code",
   "execution_count": 9,
   "metadata": {
    "id": "ZyP2U8fXVxnP"
   },
   "outputs": [],
   "source": [
    "df['Churn'] = np.where(df['Churn'] == 'Yes', 1, 0)"
   ]
  },
  {
   "cell_type": "markdown",
   "metadata": {
    "id": "xIcLSOgZVxnP"
   },
   "source": [
    "Creating a class to clean outliers"
   ]
  },
  {
   "cell_type": "code",
   "execution_count": 10,
   "metadata": {
    "id": "1GuUgddkVxnP"
   },
   "outputs": [],
   "source": [
    "class CleanOutliers(TransformerMixin):\n",
    "    def __init__(self):\n",
    "        '''\n",
    "        Treat outliers\n",
    "        '''\n",
    "    def set_output(self, transform = 'pandas'):\n",
    "        return self\n",
    "\n",
    "    def _get_boundaries(self, X_feature):\n",
    "        q1 = X_feature.quantile(0.25)\n",
    "        q3 = X_feature.quantile(0.75)\n",
    "        irs = q3 - q1\n",
    "        lower_bound = q1 - 1.5 * irs\n",
    "        upper_bound = q3 + 1.5 * irs\n",
    "        return lower_bound, upper_bound\n",
    "\n",
    "    def fit(self, X, y = None):\n",
    "        self.boundary = {column: self._get_boundaries(X[column]) for column in X.columns}\n",
    "        return self\n",
    "\n",
    "    def transform(self, X, y = None):\n",
    "        X_gei = X.copy()\n",
    "        current_columns = X_gei.columns.tolist()\n",
    "        for column in current_columns:\n",
    "            lower_bound, upper_bound = self.boundary[column]\n",
    "            X_gei[column] = X_gei[column].clip(lower = lower_bound,\n",
    "                                        upper = upper_bound)\n",
    "        return X_gei.copy()"
   ]
  },
  {
   "cell_type": "markdown",
   "metadata": {
    "id": "1-7TZNMVVxnQ"
   },
   "source": [
    "Verfying categorical values before performing encoding"
   ]
  },
  {
   "cell_type": "code",
   "execution_count": 11,
   "metadata": {
    "colab": {
     "base_uri": "https://localhost:8080/",
     "height": 175
    },
    "id": "qxbRzz8oVxnQ",
    "outputId": "5dc7aa69-7b2d-43f8-bf45-605d9bec11c8"
   },
   "outputs": [
    {
     "data": {
      "text/html": [
       "<div>\n",
       "<style scoped>\n",
       "    .dataframe tbody tr th:only-of-type {\n",
       "        vertical-align: middle;\n",
       "    }\n",
       "\n",
       "    .dataframe tbody tr th {\n",
       "        vertical-align: top;\n",
       "    }\n",
       "\n",
       "    .dataframe thead th {\n",
       "        text-align: right;\n",
       "    }\n",
       "</style>\n",
       "<table border=\"1\" class=\"dataframe\">\n",
       "  <thead>\n",
       "    <tr style=\"text-align: right;\">\n",
       "      <th></th>\n",
       "      <th>count</th>\n",
       "      <th>unique</th>\n",
       "      <th>top</th>\n",
       "      <th>freq</th>\n",
       "    </tr>\n",
       "  </thead>\n",
       "  <tbody>\n",
       "    <tr>\n",
       "      <th>ServiceArea</th>\n",
       "      <td>49752</td>\n",
       "      <td>743</td>\n",
       "      <td>NYCBRO917</td>\n",
       "      <td>1646</td>\n",
       "    </tr>\n",
       "    <tr>\n",
       "      <th>HandsetPrice</th>\n",
       "      <td>49752</td>\n",
       "      <td>16</td>\n",
       "      <td>Unknown</td>\n",
       "      <td>28263</td>\n",
       "    </tr>\n",
       "    <tr>\n",
       "      <th>CreditRating</th>\n",
       "      <td>49752</td>\n",
       "      <td>7</td>\n",
       "      <td>2-High</td>\n",
       "      <td>18692</td>\n",
       "    </tr>\n",
       "    <tr>\n",
       "      <th>Occupation</th>\n",
       "      <td>49752</td>\n",
       "      <td>8</td>\n",
       "      <td>Other</td>\n",
       "      <td>36453</td>\n",
       "    </tr>\n",
       "  </tbody>\n",
       "</table>\n",
       "</div>"
      ],
      "text/plain": [
       "              count unique        top   freq\n",
       "ServiceArea   49752    743  NYCBRO917   1646\n",
       "HandsetPrice  49752     16    Unknown  28263\n",
       "CreditRating  49752      7     2-High  18692\n",
       "Occupation    49752      8      Other  36453"
      ]
     },
     "execution_count": 11,
     "metadata": {},
     "output_type": "execute_result"
    }
   ],
   "source": [
    "cat_features = df.describe(include = object).T\n",
    "cat_features_to_regroup = cat_features[cat_features.unique > 4]\n",
    "cat_features_to_regroup"
   ]
  },
  {
   "cell_type": "markdown",
   "metadata": {
    "id": "RNQZvvjYVxnQ"
   },
   "source": [
    "Selecting those columns to check on its values"
   ]
  },
  {
   "cell_type": "code",
   "execution_count": 12,
   "metadata": {
    "colab": {
     "base_uri": "https://localhost:8080/",
     "height": 424
    },
    "id": "Tf91AI-EVxnQ",
    "outputId": "051a32bd-7791-4a7b-d60c-571fa694e002"
   },
   "outputs": [
    {
     "data": {
      "text/html": [
       "<div>\n",
       "<style scoped>\n",
       "    .dataframe tbody tr th:only-of-type {\n",
       "        vertical-align: middle;\n",
       "    }\n",
       "\n",
       "    .dataframe tbody tr th {\n",
       "        vertical-align: top;\n",
       "    }\n",
       "\n",
       "    .dataframe thead th {\n",
       "        text-align: right;\n",
       "    }\n",
       "</style>\n",
       "<table border=\"1\" class=\"dataframe\">\n",
       "  <thead>\n",
       "    <tr style=\"text-align: right;\">\n",
       "      <th></th>\n",
       "      <th>ServiceArea</th>\n",
       "      <th>HandsetPrice</th>\n",
       "      <th>CreditRating</th>\n",
       "      <th>Occupation</th>\n",
       "    </tr>\n",
       "  </thead>\n",
       "  <tbody>\n",
       "    <tr>\n",
       "      <th>0</th>\n",
       "      <td>SEAPOR503</td>\n",
       "      <td>30</td>\n",
       "      <td>1-Highest</td>\n",
       "      <td>Professional</td>\n",
       "    </tr>\n",
       "    <tr>\n",
       "      <th>1</th>\n",
       "      <td>PITHOM412</td>\n",
       "      <td>30</td>\n",
       "      <td>4-Medium</td>\n",
       "      <td>Professional</td>\n",
       "    </tr>\n",
       "    <tr>\n",
       "      <th>2</th>\n",
       "      <td>MILMIL414</td>\n",
       "      <td>Unknown</td>\n",
       "      <td>3-Good</td>\n",
       "      <td>Crafts</td>\n",
       "    </tr>\n",
       "    <tr>\n",
       "      <th>3</th>\n",
       "      <td>PITHOM412</td>\n",
       "      <td>10</td>\n",
       "      <td>4-Medium</td>\n",
       "      <td>Other</td>\n",
       "    </tr>\n",
       "    <tr>\n",
       "      <th>4</th>\n",
       "      <td>OKCTUL918</td>\n",
       "      <td>10</td>\n",
       "      <td>1-Highest</td>\n",
       "      <td>Professional</td>\n",
       "    </tr>\n",
       "    <tr>\n",
       "      <th>...</th>\n",
       "      <td>...</td>\n",
       "      <td>...</td>\n",
       "      <td>...</td>\n",
       "      <td>...</td>\n",
       "    </tr>\n",
       "    <tr>\n",
       "      <th>51035</th>\n",
       "      <td>NEVELC619</td>\n",
       "      <td>Unknown</td>\n",
       "      <td>2-High</td>\n",
       "      <td>Professional</td>\n",
       "    </tr>\n",
       "    <tr>\n",
       "      <th>51037</th>\n",
       "      <td>NEVENC760</td>\n",
       "      <td>Unknown</td>\n",
       "      <td>3-Good</td>\n",
       "      <td>Other</td>\n",
       "    </tr>\n",
       "    <tr>\n",
       "      <th>51040</th>\n",
       "      <td>LAXVNY818</td>\n",
       "      <td>Unknown</td>\n",
       "      <td>1-Highest</td>\n",
       "      <td>Professional</td>\n",
       "    </tr>\n",
       "    <tr>\n",
       "      <th>51041</th>\n",
       "      <td>LAXDOW562</td>\n",
       "      <td>30</td>\n",
       "      <td>5-Low</td>\n",
       "      <td>Professional</td>\n",
       "    </tr>\n",
       "    <tr>\n",
       "      <th>51043</th>\n",
       "      <td>LAXCDG310</td>\n",
       "      <td>60</td>\n",
       "      <td>3-Good</td>\n",
       "      <td>Other</td>\n",
       "    </tr>\n",
       "  </tbody>\n",
       "</table>\n",
       "<p>49752 rows × 4 columns</p>\n",
       "</div>"
      ],
      "text/plain": [
       "      ServiceArea HandsetPrice CreditRating    Occupation\n",
       "0       SEAPOR503           30    1-Highest  Professional\n",
       "1       PITHOM412           30     4-Medium  Professional\n",
       "2       MILMIL414      Unknown       3-Good        Crafts\n",
       "3       PITHOM412           10     4-Medium         Other\n",
       "4       OKCTUL918           10    1-Highest  Professional\n",
       "...           ...          ...          ...           ...\n",
       "51035   NEVELC619      Unknown       2-High  Professional\n",
       "51037   NEVENC760      Unknown       3-Good         Other\n",
       "51040   LAXVNY818      Unknown    1-Highest  Professional\n",
       "51041   LAXDOW562           30        5-Low  Professional\n",
       "51043   LAXCDG310           60       3-Good         Other\n",
       "\n",
       "[49752 rows x 4 columns]"
      ]
     },
     "execution_count": 12,
     "metadata": {},
     "output_type": "execute_result"
    }
   ],
   "source": [
    "df_cat_features_to_regroup = df[['ServiceArea', 'HandsetPrice', 'CreditRating', 'Occupation']]\n",
    "df_cat_features_to_regroup"
   ]
  },
  {
   "cell_type": "markdown",
   "metadata": {
    "id": "CVS_L1AVVxnQ"
   },
   "source": [
    "Value counts per cat feature"
   ]
  },
  {
   "cell_type": "code",
   "execution_count": 13,
   "metadata": {
    "colab": {
     "base_uri": "https://localhost:8080/"
    },
    "id": "GI-DzdgrVxnR",
    "outputId": "c01f82ae-82c3-4ec9-9990-c8bf5d02eb15"
   },
   "outputs": [
    {
     "data": {
      "text/plain": [
       "NYCBRO917    1646\n",
       "DALDAL214    1479\n",
       "HOUHOU281    1471\n",
       "NYCMAN917    1156\n",
       "DALFTW817     771\n",
       "             ... \n",
       "SANROM956       1\n",
       "INDCRA765       1\n",
       "SEWSUN509       1\n",
       "ATLDBL478       1\n",
       "NCRDNN910       1\n",
       "Name: ServiceArea, Length: 743, dtype: int64"
      ]
     },
     "execution_count": 13,
     "metadata": {},
     "output_type": "execute_result"
    }
   ],
   "source": [
    "df.ServiceArea.value_counts()"
   ]
  },
  {
   "cell_type": "code",
   "execution_count": 14,
   "metadata": {
    "colab": {
     "base_uri": "https://localhost:8080/"
    },
    "id": "eaQ_d8i5VxnR",
    "outputId": "a602c67d-e6bc-4c96-9d48-f80361dadcfe"
   },
   "outputs": [
    {
     "data": {
      "text/plain": [
       "Unknown    28263\n",
       "30          7147\n",
       "150         4024\n",
       "130         2043\n",
       "80          1901\n",
       "10          1869\n",
       "60          1730\n",
       "200         1227\n",
       "100         1209\n",
       "40           240\n",
       "400           45\n",
       "250           20\n",
       "300           12\n",
       "180            9\n",
       "500            7\n",
       "240            6\n",
       "Name: HandsetPrice, dtype: int64"
      ]
     },
     "execution_count": 14,
     "metadata": {},
     "output_type": "execute_result"
    }
   ],
   "source": [
    "df.HandsetPrice.value_counts()"
   ]
  },
  {
   "cell_type": "markdown",
   "metadata": {
    "id": "Uvrke5IhVxnR"
   },
   "source": [
    "Creating a function to regroup specific features"
   ]
  },
  {
   "cell_type": "code",
   "execution_count": 15,
   "metadata": {
    "colab": {
     "base_uri": "https://localhost:8080/"
    },
    "id": "RmqkhF1NVxnR",
    "outputId": "3444af21-a2c4-4d20-aa8f-71361edba32e"
   },
   "outputs": [
    {
     "data": {
      "text/plain": [
       "array(['30', 'Unknown', '10', '80', '150', '300', '40', '200', '100',\n",
       "       '130', '60', '400', '240', '250', '180', '500'], dtype=object)"
      ]
     },
     "execution_count": 15,
     "metadata": {},
     "output_type": "execute_result"
    }
   ],
   "source": [
    "df.HandsetPrice.unique()"
   ]
  },
  {
   "cell_type": "code",
   "execution_count": 16,
   "metadata": {
    "id": "MQ9_2Je8VxnR"
   },
   "outputs": [],
   "source": [
    "def regroup_cat_values(data):\n",
    "    # ServiceArea\n",
    "    top_4 = df.ServiceArea.value_counts().head(4).index.tolist()\n",
    "    data['ServiceArea'] = np.where(data['ServiceArea'].isin(top_4),\n",
    "                                    data['ServiceArea'],\n",
    "                                    'OTHER')\n",
    "    # HandsetPrice\n",
    "    data['HandsetPrice'] = np.where(data['HandsetPrice'] == 'Unknown', '30', data['HandsetPrice'])\n",
    "    data['HandsetPrice'] = data['HandsetPrice'].astype('int16')\n",
    "\n",
    "    return data"
   ]
  },
  {
   "cell_type": "markdown",
   "metadata": {
    "id": "YocWJIcnVxnR"
   },
   "source": [
    "Apply the function to both dataframes"
   ]
  },
  {
   "cell_type": "code",
   "execution_count": 17,
   "metadata": {
    "id": "iqQ9g1J6VxnR"
   },
   "outputs": [],
   "source": [
    "df = regroup_cat_values(df)\n",
    "df_no_target = regroup_cat_values(df_no_target)"
   ]
  },
  {
   "cell_type": "code",
   "execution_count": 18,
   "metadata": {
    "colab": {
     "base_uri": "https://localhost:8080/",
     "height": 708
    },
    "id": "kVpR9e1UVxnS",
    "outputId": "1a530a83-95a6-4bd3-e806-03ebf7e0977b"
   },
   "outputs": [
    {
     "data": {
      "text/html": [
       "<div>\n",
       "<style scoped>\n",
       "    .dataframe tbody tr th:only-of-type {\n",
       "        vertical-align: middle;\n",
       "    }\n",
       "\n",
       "    .dataframe tbody tr th {\n",
       "        vertical-align: top;\n",
       "    }\n",
       "\n",
       "    .dataframe thead th {\n",
       "        text-align: right;\n",
       "    }\n",
       "</style>\n",
       "<table border=\"1\" class=\"dataframe\">\n",
       "  <thead>\n",
       "    <tr style=\"text-align: right;\">\n",
       "      <th></th>\n",
       "      <th>count</th>\n",
       "      <th>unique</th>\n",
       "      <th>top</th>\n",
       "      <th>freq</th>\n",
       "    </tr>\n",
       "  </thead>\n",
       "  <tbody>\n",
       "    <tr>\n",
       "      <th>ServiceArea</th>\n",
       "      <td>49752</td>\n",
       "      <td>5</td>\n",
       "      <td>OTHER</td>\n",
       "      <td>44000</td>\n",
       "    </tr>\n",
       "    <tr>\n",
       "      <th>ChildrenInHH</th>\n",
       "      <td>49752</td>\n",
       "      <td>2</td>\n",
       "      <td>No</td>\n",
       "      <td>37483</td>\n",
       "    </tr>\n",
       "    <tr>\n",
       "      <th>HandsetRefurbished</th>\n",
       "      <td>49752</td>\n",
       "      <td>2</td>\n",
       "      <td>No</td>\n",
       "      <td>42852</td>\n",
       "    </tr>\n",
       "    <tr>\n",
       "      <th>HandsetWebCapable</th>\n",
       "      <td>49752</td>\n",
       "      <td>2</td>\n",
       "      <td>Yes</td>\n",
       "      <td>44905</td>\n",
       "    </tr>\n",
       "    <tr>\n",
       "      <th>TruckOwner</th>\n",
       "      <td>49752</td>\n",
       "      <td>2</td>\n",
       "      <td>No</td>\n",
       "      <td>40280</td>\n",
       "    </tr>\n",
       "    <tr>\n",
       "      <th>RVOwner</th>\n",
       "      <td>49752</td>\n",
       "      <td>2</td>\n",
       "      <td>No</td>\n",
       "      <td>45619</td>\n",
       "    </tr>\n",
       "    <tr>\n",
       "      <th>Homeownership</th>\n",
       "      <td>49752</td>\n",
       "      <td>2</td>\n",
       "      <td>Known</td>\n",
       "      <td>33725</td>\n",
       "    </tr>\n",
       "    <tr>\n",
       "      <th>BuysViaMailOrder</th>\n",
       "      <td>49752</td>\n",
       "      <td>2</td>\n",
       "      <td>No</td>\n",
       "      <td>31432</td>\n",
       "    </tr>\n",
       "    <tr>\n",
       "      <th>RespondsToMailOffers</th>\n",
       "      <td>49752</td>\n",
       "      <td>2</td>\n",
       "      <td>No</td>\n",
       "      <td>30667</td>\n",
       "    </tr>\n",
       "    <tr>\n",
       "      <th>OptOutMailings</th>\n",
       "      <td>49752</td>\n",
       "      <td>2</td>\n",
       "      <td>No</td>\n",
       "      <td>49006</td>\n",
       "    </tr>\n",
       "    <tr>\n",
       "      <th>NonUSTravel</th>\n",
       "      <td>49752</td>\n",
       "      <td>2</td>\n",
       "      <td>No</td>\n",
       "      <td>46896</td>\n",
       "    </tr>\n",
       "    <tr>\n",
       "      <th>OwnsComputer</th>\n",
       "      <td>49752</td>\n",
       "      <td>2</td>\n",
       "      <td>No</td>\n",
       "      <td>40368</td>\n",
       "    </tr>\n",
       "    <tr>\n",
       "      <th>HasCreditCard</th>\n",
       "      <td>49752</td>\n",
       "      <td>2</td>\n",
       "      <td>Yes</td>\n",
       "      <td>34241</td>\n",
       "    </tr>\n",
       "    <tr>\n",
       "      <th>NewCellphoneUser</th>\n",
       "      <td>49752</td>\n",
       "      <td>2</td>\n",
       "      <td>No</td>\n",
       "      <td>40141</td>\n",
       "    </tr>\n",
       "    <tr>\n",
       "      <th>NotNewCellphoneUser</th>\n",
       "      <td>49752</td>\n",
       "      <td>2</td>\n",
       "      <td>No</td>\n",
       "      <td>42877</td>\n",
       "    </tr>\n",
       "    <tr>\n",
       "      <th>OwnsMotorcycle</th>\n",
       "      <td>49752</td>\n",
       "      <td>2</td>\n",
       "      <td>No</td>\n",
       "      <td>49078</td>\n",
       "    </tr>\n",
       "    <tr>\n",
       "      <th>MadeCallToRetentionTeam</th>\n",
       "      <td>49752</td>\n",
       "      <td>2</td>\n",
       "      <td>No</td>\n",
       "      <td>48131</td>\n",
       "    </tr>\n",
       "    <tr>\n",
       "      <th>CreditRating</th>\n",
       "      <td>49752</td>\n",
       "      <td>7</td>\n",
       "      <td>2-High</td>\n",
       "      <td>18692</td>\n",
       "    </tr>\n",
       "    <tr>\n",
       "      <th>PrizmCode</th>\n",
       "      <td>49752</td>\n",
       "      <td>4</td>\n",
       "      <td>Other</td>\n",
       "      <td>23820</td>\n",
       "    </tr>\n",
       "    <tr>\n",
       "      <th>Occupation</th>\n",
       "      <td>49752</td>\n",
       "      <td>8</td>\n",
       "      <td>Other</td>\n",
       "      <td>36453</td>\n",
       "    </tr>\n",
       "    <tr>\n",
       "      <th>MaritalStatus</th>\n",
       "      <td>49752</td>\n",
       "      <td>3</td>\n",
       "      <td>Unknown</td>\n",
       "      <td>18649</td>\n",
       "    </tr>\n",
       "  </tbody>\n",
       "</table>\n",
       "</div>"
      ],
      "text/plain": [
       "                         count unique      top   freq\n",
       "ServiceArea              49752      5    OTHER  44000\n",
       "ChildrenInHH             49752      2       No  37483\n",
       "HandsetRefurbished       49752      2       No  42852\n",
       "HandsetWebCapable        49752      2      Yes  44905\n",
       "TruckOwner               49752      2       No  40280\n",
       "RVOwner                  49752      2       No  45619\n",
       "Homeownership            49752      2    Known  33725\n",
       "BuysViaMailOrder         49752      2       No  31432\n",
       "RespondsToMailOffers     49752      2       No  30667\n",
       "OptOutMailings           49752      2       No  49006\n",
       "NonUSTravel              49752      2       No  46896\n",
       "OwnsComputer             49752      2       No  40368\n",
       "HasCreditCard            49752      2      Yes  34241\n",
       "NewCellphoneUser         49752      2       No  40141\n",
       "NotNewCellphoneUser      49752      2       No  42877\n",
       "OwnsMotorcycle           49752      2       No  49078\n",
       "MadeCallToRetentionTeam  49752      2       No  48131\n",
       "CreditRating             49752      7   2-High  18692\n",
       "PrizmCode                49752      4    Other  23820\n",
       "Occupation               49752      8    Other  36453\n",
       "MaritalStatus            49752      3  Unknown  18649"
      ]
     },
     "execution_count": 18,
     "metadata": {},
     "output_type": "execute_result"
    }
   ],
   "source": [
    "df.describe(include = object).T"
   ]
  },
  {
   "cell_type": "markdown",
   "metadata": {
    "id": "Z3tF2C6uVxnS"
   },
   "source": [
    "It is observed that can be label encoded is CreditRating"
   ]
  },
  {
   "cell_type": "code",
   "execution_count": 19,
   "metadata": {
    "colab": {
     "base_uri": "https://localhost:8080/"
    },
    "id": "Sr1L-8k0VxnS",
    "outputId": "7b20d200-1246-42f9-90c0-c9a5f2e684e6"
   },
   "outputs": [
    {
     "data": {
      "text/plain": [
       "array(['1-Highest', '4-Medium', '3-Good', '2-High', '5-Low', '6-VeryLow',\n",
       "       '7-Lowest'], dtype=object)"
      ]
     },
     "execution_count": 19,
     "metadata": {},
     "output_type": "execute_result"
    }
   ],
   "source": [
    "df.CreditRating.unique()"
   ]
  },
  {
   "cell_type": "markdown",
   "metadata": {
    "id": "9MvZBTuWVxnS"
   },
   "source": [
    "Creating a local class for label encoding"
   ]
  },
  {
   "cell_type": "markdown",
   "metadata": {
    "id": "iisp7E-6VxnS"
   },
   "source": [
    "Splitting dataframe"
   ]
  },
  {
   "cell_type": "code",
   "execution_count": 20,
   "metadata": {
    "id": "L8Jx6OQ6VxnS"
   },
   "outputs": [],
   "source": [
    "# Getting X and y matrices\n",
    "X = df.drop(columns = ['CustomerID','Churn'])\n",
    "y = df.Churn\n",
    "\n",
    "# splitting\n",
    "X_train, X_test, y_train, y_test = train_test_split(X, y, test_size = 0.2, shuffle = True, random_state = 24)"
   ]
  },
  {
   "cell_type": "markdown",
   "metadata": {
    "id": "eDT4P9XfVxnT"
   },
   "source": [
    "Performing the final treatment"
   ]
  },
  {
   "cell_type": "code",
   "execution_count": 21,
   "metadata": {
    "id": "x29QMlTjVxnT"
   },
   "outputs": [],
   "source": [
    "# selecting dtypes\n",
    "num_col = X_train.select_dtypes(include = np.number).columns.tolist()\n",
    "cat_col = X_train.select_dtypes(include = ['object', 'category']).columns.tolist()\n",
    "\n",
    "# creating pipelines or transformers\n",
    "num_prep = Pipeline([('outlier', CleanOutliers().set_output(transform ='pandas')),\n",
    "                    ('impute', SimpleImputer(strategy = 'mean').set_output(transform = 'pandas'))])\n",
    "\n",
    "cat_prep = TargetEncoder(random_state=23).set_output(transform = 'pandas')\n",
    "\n",
    "# creating transformer\n",
    "column_transformer = ColumnTransformer([('num', num_prep, num_col),\n",
    "                                        ('cat', cat_prep, cat_col)],\n",
    "                                        remainder = 'passthrough')\\\n",
    "                                    .set_output(transform = 'pandas')\n",
    "\n",
    "# testing transformer\n",
    "X_train_tr = column_transformer.fit_transform(X_train, y_train)"
   ]
  },
  {
   "cell_type": "markdown",
   "metadata": {
    "id": "uBYmjEzGVyH_"
   },
   "source": [
    "Removing multivariate outliers from testing set"
   ]
  },
  {
   "cell_type": "code",
   "execution_count": 22,
   "metadata": {
    "colab": {
     "base_uri": "https://localhost:8080/"
    },
    "id": "DQPC81SzV3M3",
    "outputId": "0d62e6bc-a00e-4b6e-dc38-1a0deed37a7c"
   },
   "outputs": [],
   "source": [
    "# In order to verify outlier groups, it is important to reduce the data into a two-featured one so that the\n",
    "# minority class would be considered as outlier\n",
    "min_samples = len(X_train) * 0.05\n",
    "reducer = UMAP(n_components = 2, random_state = 23)\n",
    "detector = DBSCAN(eps = 1.2, min_samples = int(min_samples), n_jobs = -1)\n",
    "# scaling\n",
    "scaler = StandardScaler()\n",
    "X_train_sc = scaler.fit_transform(X_train_tr)\n",
    "# reducing\n",
    "X_train_re = reducer.fit_transform(X_train_sc)\n",
    "# detecting labels\n",
    "labels = detector.fit_predict(X_train_re)"
   ]
  },
  {
   "cell_type": "markdown",
   "metadata": {
    "id": "F8TM88TUWGEI"
   },
   "source": [
    "Plotting classes"
   ]
  },
  {
   "cell_type": "code",
   "execution_count": 23,
   "metadata": {
    "colab": {
     "base_uri": "https://localhost:8080/",
     "height": 449
    },
    "id": "01UC0FWWWHIy",
    "outputId": "20b9a65a-8708-476a-f2f6-534b7d574c91"
   },
   "outputs": [
    {
     "data": {
      "image/png": "[encoded data removed]",
      "text/plain": [
       "<Figure size 432x288 with 1 Axes>"
      ]
     },
     "metadata": {
      "needs_background": "light"
     },
     "output_type": "display_data"
    }
   ],
   "source": [
    "evaluator = pd.DataFrame(X_train_re, columns = ['Feature 1', 'Feature 2'])\n",
    "outlier = pd.DataFrame(labels, columns = ['label'])\n",
    "evaluator = pd.concat([evaluator, outlier], axis = 1)\n",
    "sns.scatterplot(evaluator, x = 'Feature 1', y = 'Feature 2', hue = 'label')\n",
    "plt.show()"
   ]
  },
  {
   "cell_type": "markdown",
   "metadata": {
    "id": "7xAUeZ8GWJTW"
   },
   "source": [
    "Creating a class to clean multivariate outliers"
   ]
  },
  {
   "cell_type": "code",
   "execution_count": 24,
   "metadata": {
    "id": "kiInE6i8WJu6"
   },
   "outputs": [],
   "source": [
    "class MultivariateOutliers(BaseEstimator, TransformerMixin):\n",
    "    def __init__(self):\n",
    "        \"\"\"\n",
    "        Removes outliers\n",
    "        \"\"\"\n",
    "    def set_output(self, transform = 'pandas'):\n",
    "        return self\n",
    "\n",
    "    def fit(self, X, y = None):\n",
    "        scaler = StandardScaler()\n",
    "        reducer = UMAP(n_components = 2, random_state = 23)\n",
    "        self.pipe_transform = make_pipeline(scaler, reducer)\n",
    "        self.pipe_transform.fit(X)\n",
    "        return self\n",
    "\n",
    "    def transform(self, X, y):\n",
    "        min_samples = len(X) * 0.05\n",
    "        X_tr = self.pipe_transform.transform(X)\n",
    "        detector = DBSCAN(eps = 1.2, min_samples = int(min_samples), n_jobs = -1)\n",
    "        labels = detector.fit_predict(X_tr)\n",
    "        outlier = pd.DataFrame(labels, columns = ['label'])\n",
    "        df = pd.concat([X, y], axis = 1).reset_index(drop = True)\n",
    "        data = pd.concat([df, outlier], axis = 1)\n",
    "        most_common = data.label.value_counts().index.values[0]\n",
    "        data = data[data['label'] == most_common].drop(columns = 'label')\n",
    "        return data.drop(columns = 'Churn'), data.Churn"
   ]
  },
  {
   "cell_type": "markdown",
   "metadata": {
    "id": "YdzwZFX_WLc3"
   },
   "source": [
    "Removing outliers"
   ]
  },
  {
   "cell_type": "code",
   "execution_count": 25,
   "metadata": {
    "colab": {
     "base_uri": "https://localhost:8080/"
    },
    "id": "Sebrf706WMqa",
    "outputId": "3631d3d9-8494-48a0-e7a7-81ee03ff35c4"
   },
   "outputs": [],
   "source": [
    "# declaring outlier detector\n",
    "outlier_removal = MultivariateOutliers()\n",
    "\n",
    "# transform features\n",
    "X_train_tr = column_transformer.fit_transform(X_train, y_train)\n",
    "X_test_tr = column_transformer.transform(X_test)\n",
    "\n",
    "# removing outliers\n",
    "outlier_removal.fit(X_train_tr)\n",
    "X_train_tr, y_train = outlier_removal.transform(X_train_tr, y_train)"
   ]
  },
  {
   "cell_type": "markdown",
   "metadata": {},
   "source": [
    "Count correlations which values are either greater than 0.6 or fewer than -0.6 (not counting 1)"
   ]
  },
  {
   "cell_type": "code",
   "execution_count": 26,
   "metadata": {
    "tags": []
   },
   "outputs": [
    {
     "data": {
      "text/plain": [
       "49.0"
      ]
     },
     "execution_count": 26,
     "metadata": {},
     "output_type": "execute_result"
    }
   ],
   "source": [
    "((X_train_tr.corr() != 1) & (X_train_tr.corr() > 0.6)).sum().sum() / 2"
   ]
  },
  {
   "cell_type": "code",
   "execution_count": 31,
   "metadata": {
    "tags": []
   },
   "outputs": [
    {
     "data": {
      "text/html": [
       "<div>\n",
       "<style scoped>\n",
       "    .dataframe tbody tr th:only-of-type {\n",
       "        vertical-align: middle;\n",
       "    }\n",
       "\n",
       "    .dataframe tbody tr th {\n",
       "        vertical-align: top;\n",
       "    }\n",
       "\n",
       "    .dataframe thead th {\n",
       "        text-align: right;\n",
       "    }\n",
       "</style>\n",
       "<table border=\"1\" class=\"dataframe\">\n",
       "  <thead>\n",
       "    <tr style=\"text-align: right;\">\n",
       "      <th></th>\n",
       "      <th>feature</th>\n",
       "      <th>VIF</th>\n",
       "    </tr>\n",
       "  </thead>\n",
       "  <tbody>\n",
       "    <tr>\n",
       "      <th>0</th>\n",
       "      <td>num__MonthlyRevenue</td>\n",
       "      <td>32.713074</td>\n",
       "    </tr>\n",
       "    <tr>\n",
       "      <th>1</th>\n",
       "      <td>num__MonthlyMinutes</td>\n",
       "      <td>13.270049</td>\n",
       "    </tr>\n",
       "    <tr>\n",
       "      <th>2</th>\n",
       "      <td>num__TotalRecurringCharge</td>\n",
       "      <td>22.962663</td>\n",
       "    </tr>\n",
       "    <tr>\n",
       "      <th>3</th>\n",
       "      <td>num__DirectorAssistedCalls</td>\n",
       "      <td>2.092350</td>\n",
       "    </tr>\n",
       "    <tr>\n",
       "      <th>4</th>\n",
       "      <td>num__OverageMinutes</td>\n",
       "      <td>5.498395</td>\n",
       "    </tr>\n",
       "  </tbody>\n",
       "</table>\n",
       "</div>"
      ],
      "text/plain": [
       "                      feature        VIF\n",
       "0         num__MonthlyRevenue  32.713074\n",
       "1         num__MonthlyMinutes  13.270049\n",
       "2   num__TotalRecurringCharge  22.962663\n",
       "3  num__DirectorAssistedCalls   2.092350\n",
       "4         num__OverageMinutes   5.498395"
      ]
     },
     "execution_count": 31,
     "metadata": {},
     "output_type": "execute_result"
    }
   ],
   "source": [
    "# VIF dataframe \n",
    "vif_data = pd.DataFrame() \n",
    "vif_data[\"feature\"] = X_train_tr.columns \n",
    "  \n",
    "# calculating VIF for each feature \n",
    "vif_data[\"VIF\"] = [variance_inflation_factor(X_train_tr.values, i) \n",
    "                          for i in range(len(X_train_tr.columns))]\n",
    "vif_data.head()"
   ]
  },
  {
   "cell_type": "markdown",
   "metadata": {},
   "source": [
    "Removing ones that have a VIF value greater than 5"
   ]
  },
  {
   "cell_type": "code",
   "execution_count": 32,
   "metadata": {
    "tags": []
   },
   "outputs": [],
   "source": [
    "selected_features = vif_data.loc[vif_data['VIF'] <= 5, 'feature'].values.tolist()"
   ]
  },
  {
   "cell_type": "code",
   "execution_count": 33,
   "metadata": {
    "tags": []
   },
   "outputs": [
    {
     "data": {
      "text/html": [
       "<div>\n",
       "<style scoped>\n",
       "    .dataframe tbody tr th:only-of-type {\n",
       "        vertical-align: middle;\n",
       "    }\n",
       "\n",
       "    .dataframe tbody tr th {\n",
       "        vertical-align: top;\n",
       "    }\n",
       "\n",
       "    .dataframe thead th {\n",
       "        text-align: right;\n",
       "    }\n",
       "</style>\n",
       "<table border=\"1\" class=\"dataframe\">\n",
       "  <thead>\n",
       "    <tr style=\"text-align: right;\">\n",
       "      <th></th>\n",
       "      <th>feature</th>\n",
       "      <th>VIF</th>\n",
       "    </tr>\n",
       "  </thead>\n",
       "  <tbody>\n",
       "    <tr>\n",
       "      <th>0</th>\n",
       "      <td>num__DirectorAssistedCalls</td>\n",
       "      <td>1.665435</td>\n",
       "    </tr>\n",
       "    <tr>\n",
       "      <th>1</th>\n",
       "      <td>num__RoamingCalls</td>\n",
       "      <td>1.303639</td>\n",
       "    </tr>\n",
       "    <tr>\n",
       "      <th>2</th>\n",
       "      <td>num__PercChangeMinutes</td>\n",
       "      <td>1.473668</td>\n",
       "    </tr>\n",
       "    <tr>\n",
       "      <th>3</th>\n",
       "      <td>num__PercChangeRevenues</td>\n",
       "      <td>1.543727</td>\n",
       "    </tr>\n",
       "    <tr>\n",
       "      <th>4</th>\n",
       "      <td>num__CustomerCareCalls</td>\n",
       "      <td>1.772625</td>\n",
       "    </tr>\n",
       "    <tr>\n",
       "      <th>5</th>\n",
       "      <td>num__ThreewayCalls</td>\n",
       "      <td>1.476549</td>\n",
       "    </tr>\n",
       "    <tr>\n",
       "      <th>6</th>\n",
       "      <td>num__InboundCalls</td>\n",
       "      <td>2.307753</td>\n",
       "    </tr>\n",
       "    <tr>\n",
       "      <th>7</th>\n",
       "      <td>num__CallWaitingCalls</td>\n",
       "      <td>2.530463</td>\n",
       "    </tr>\n",
       "    <tr>\n",
       "      <th>8</th>\n",
       "      <td>num__AgeHH2</td>\n",
       "      <td>1.231370</td>\n",
       "    </tr>\n",
       "  </tbody>\n",
       "</table>\n",
       "</div>"
      ],
      "text/plain": [
       "                      feature       VIF\n",
       "0  num__DirectorAssistedCalls  1.665435\n",
       "1           num__RoamingCalls  1.303639\n",
       "2      num__PercChangeMinutes  1.473668\n",
       "3     num__PercChangeRevenues  1.543727\n",
       "4      num__CustomerCareCalls  1.772625\n",
       "5          num__ThreewayCalls  1.476549\n",
       "6           num__InboundCalls  2.307753\n",
       "7       num__CallWaitingCalls  2.530463\n",
       "8                 num__AgeHH2  1.231370"
      ]
     },
     "execution_count": 33,
     "metadata": {},
     "output_type": "execute_result"
    }
   ],
   "source": [
    "# it can be observed that new VIF values are acceptable\n",
    "vif_data = pd.DataFrame() \n",
    "vif_data[\"feature\"] = X_train_tr[selected_features].columns \n",
    "  \n",
    "# calculating VIF for each feature \n",
    "vif_data[\"VIF\"] = [variance_inflation_factor(X_train_tr[selected_features].values, i) \n",
    "                          for i in range(len(X_train_tr[selected_features].columns))]\n",
    "vif_data"
   ]
  },
  {
   "cell_type": "markdown",
   "metadata": {},
   "source": [
    "Selecting filtered features"
   ]
  },
  {
   "cell_type": "code",
   "execution_count": 43,
   "metadata": {},
   "outputs": [],
   "source": [
    "X_train_sel = X_train_tr[selected_features].copy()\n",
    "X_test_sel = X_test_tr[selected_features].copy()"
   ]
  },
  {
   "cell_type": "markdown",
   "metadata": {
    "id": "10Lup_1fVxnb"
   },
   "source": [
    "# Data Modelling"
   ]
  },
  {
   "cell_type": "markdown",
   "metadata": {
    "id": "4l-i1EbcVxnb"
   },
   "source": [
    "Creating a function to evaluate performance"
   ]
  },
  {
   "cell_type": "code",
   "execution_count": 35,
   "metadata": {
    "id": "kFE3B10VVxnb"
   },
   "outputs": [],
   "source": [
    "def evaluation_metric(model_name, y_train_actual, y_train_pred, y_test_actual, y_test_pred):\n",
    "\n",
    "    recall_train = recall_score(y_train_actual, y_train_pred)\n",
    "    recall_test = recall_score(y_test_actual, y_test_pred)\n",
    "\n",
    "    precision_train = precision_score(y_train_actual, y_train_pred)\n",
    "    precision_test = precision_score(y_test_actual, y_test_pred)\n",
    "\n",
    "    f1_train = f1_score(y_train_actual, y_train_pred)\n",
    "    f1_test = f1_score(y_test_actual, y_test_pred)\n",
    "\n",
    "    accuracy_train = accuracy_score(y_train_actual, y_train_pred)\n",
    "    accuracy_test = accuracy_score(y_test_actual, y_test_pred)\n",
    "\n",
    "    # Table creation\n",
    "    results_dict = {f'{model_name} Train set': [recall_train, precision_train, f1_train, accuracy_train],\n",
    "                f'{model_name} Test set': [recall_test, precision_test, f1_test, accuracy_test]}\n",
    "\n",
    "    results = pd.DataFrame(results_dict, index = ['Recall Score', 'Precision Score', 'F1 Score', 'Accuracy Score'])\n",
    "    return results"
   ]
  },
  {
   "cell_type": "markdown",
   "metadata": {
    "id": "BNqNvfDzVxnb"
   },
   "source": [
    "Creating base models"
   ]
  },
  {
   "cell_type": "code",
   "execution_count": 45,
   "metadata": {
    "colab": {
     "base_uri": "https://localhost:8080/"
    },
    "id": "lVOq8jqsVxnb",
    "outputId": "b520a939-0db5-4008-e8cd-550e1e46a0ab"
   },
   "outputs": [
    {
     "name": "stdout",
     "output_type": "stream",
     "text": [
      "[LightGBM] [Info] Number of positive: 8650, number of negative: 23176\n",
      "[LightGBM] [Info] Auto-choosing row-wise multi-threading, the overhead of testing was 0.000375 seconds.\n",
      "You can set `force_row_wise=true` to remove the overhead.\n",
      "And if memory is not enough, you can set `force_col_wise=true`.\n",
      "[LightGBM] [Info] Total Bins 678\n",
      "[LightGBM] [Info] Number of data points in the train set: 31826, number of used features: 9\n",
      "[LightGBM] [Info] [binary:BoostFromScore]: pavg=0.271790 -> initscore=-0.985558\n",
      "[LightGBM] [Info] Start training from score -0.985558\n"
     ]
    }
   ],
   "source": [
    "# X and y matrices\n",
    "X_chosen = X_train_sel.copy()\n",
    "y_chosen = y_train.copy()\n",
    "\n",
    "# params for boosting\n",
    "ratio = len(y_train[y_train == 0]) / len(y_train[y_train == 1])\n",
    "# classifiers and scaler\n",
    "scaler = StandardScaler()\n",
    "lr = LogisticRegression(class_weight = 'balanced', random_state = 24, n_jobs = -1)\n",
    "knn = KNeighborsClassifier(weights = 'distance', n_jobs = -1)\n",
    "dtc = DecisionTreeClassifier(class_weight = 'balanced', random_state = 24)\n",
    "rfc = RandomForestClassifier(class_weight = 'balanced', random_state = 24)\n",
    "xgb = XGBClassifier(scale_pos_weight = ratio * 1.4, random_state = 24, n_jobs = -1)\n",
    "lgbm = LGBMClassifier(scale_pos_weight = ratio * 1.4, random_state = 24, n_jobs = -1)\n",
    "\n",
    "# declaring pipelines\n",
    "lr_pipe = Pipeline([('sc', scaler), ('clf', lr)])\n",
    "knn_pipe = Pipeline([('sc', scaler), ('clf', knn)])\n",
    "dtc_pipe = Pipeline([('sc', scaler), ('clf', dtc)])\n",
    "rfc_pipe = Pipeline([('sc', scaler), ('clf', rfc)])\n",
    "xgb_pipe = Pipeline([('sc', scaler), ('clf', xgb)])\n",
    "lgbm_pipe = Pipeline([('sc', scaler), ('clf', lgbm)])\n",
    "\n",
    "# fitting pipelines\n",
    "with joblib.parallel_backend('dask', scatter = (X_chosen, y_chosen)):\n",
    "    lr_pipe.fit(X_chosen, y_chosen)\n",
    "    knn_pipe.fit(X_chosen, y_chosen)\n",
    "    dtc_pipe.fit(X_chosen, y_chosen)\n",
    "    rfc_pipe.fit(X_chosen, y_chosen)\n",
    "    xgb_pipe.fit(X_chosen, y_chosen)\n",
    "    lgbm_pipe.fit(X_chosen, y_chosen)"
   ]
  },
  {
   "cell_type": "markdown",
   "metadata": {
    "id": "LbsGS15KVxnb"
   },
   "source": [
    "Base metrics"
   ]
  },
  {
   "cell_type": "code",
   "execution_count": 46,
   "metadata": {
    "colab": {
     "base_uri": "https://localhost:8080/",
     "height": 324
    },
    "id": "Yqcfs6m7Vxnc",
    "outputId": "a4dcec9b-c44f-44c0-8f78-d147b3c55ad5"
   },
   "outputs": [
    {
     "data": {
      "text/html": [
       "<div>\n",
       "<style scoped>\n",
       "    .dataframe tbody tr th:only-of-type {\n",
       "        vertical-align: middle;\n",
       "    }\n",
       "\n",
       "    .dataframe tbody tr th {\n",
       "        vertical-align: top;\n",
       "    }\n",
       "\n",
       "    .dataframe thead th {\n",
       "        text-align: right;\n",
       "    }\n",
       "</style>\n",
       "<table border=\"1\" class=\"dataframe\">\n",
       "  <thead>\n",
       "    <tr style=\"text-align: right;\">\n",
       "      <th></th>\n",
       "      <th>LR Train set</th>\n",
       "      <th>LR Test set</th>\n",
       "      <th>KNN Train set</th>\n",
       "      <th>KNN Test set</th>\n",
       "      <th>DTC Train set</th>\n",
       "      <th>DTC Test set</th>\n",
       "      <th>RFC Train set</th>\n",
       "      <th>RFC Test set</th>\n",
       "      <th>XGB Train set</th>\n",
       "      <th>XGB Test set</th>\n",
       "      <th>LGBM Train set</th>\n",
       "      <th>LGBM Test set</th>\n",
       "    </tr>\n",
       "  </thead>\n",
       "  <tbody>\n",
       "    <tr>\n",
       "      <th>Recall Score</th>\n",
       "      <td>0.590058</td>\n",
       "      <td>0.618143</td>\n",
       "      <td>0.976416</td>\n",
       "      <td>0.169480</td>\n",
       "      <td>0.996763</td>\n",
       "      <td>0.302743</td>\n",
       "      <td>0.993295</td>\n",
       "      <td>0.084037</td>\n",
       "      <td>0.943006</td>\n",
       "      <td>0.634318</td>\n",
       "      <td>0.961734</td>\n",
       "      <td>0.822785</td>\n",
       "    </tr>\n",
       "    <tr>\n",
       "      <th>Precision Score</th>\n",
       "      <td>0.296279</td>\n",
       "      <td>0.320861</td>\n",
       "      <td>0.987028</td>\n",
       "      <td>0.328114</td>\n",
       "      <td>0.963460</td>\n",
       "      <td>0.312070</td>\n",
       "      <td>0.969095</td>\n",
       "      <td>0.388618</td>\n",
       "      <td>0.445348</td>\n",
       "      <td>0.307902</td>\n",
       "      <td>0.335931</td>\n",
       "      <td>0.298127</td>\n",
       "    </tr>\n",
       "    <tr>\n",
       "      <th>F1 Score</th>\n",
       "      <td>0.394482</td>\n",
       "      <td>0.422444</td>\n",
       "      <td>0.981693</td>\n",
       "      <td>0.223510</td>\n",
       "      <td>0.979828</td>\n",
       "      <td>0.307335</td>\n",
       "      <td>0.981046</td>\n",
       "      <td>0.138190</td>\n",
       "      <td>0.604984</td>\n",
       "      <td>0.414570</td>\n",
       "      <td>0.497935</td>\n",
       "      <td>0.437670</td>\n",
       "    </tr>\n",
       "    <tr>\n",
       "      <th>Accuracy Score</th>\n",
       "      <td>0.507667</td>\n",
       "      <td>0.516933</td>\n",
       "      <td>0.990102</td>\n",
       "      <td>0.663451</td>\n",
       "      <td>0.988846</td>\n",
       "      <td>0.609989</td>\n",
       "      <td>0.989568</td>\n",
       "      <td>0.700432</td>\n",
       "      <td>0.665305</td>\n",
       "      <td>0.487991</td>\n",
       "      <td>0.472884</td>\n",
       "      <td>0.395739</td>\n",
       "    </tr>\n",
       "  </tbody>\n",
       "</table>\n",
       "</div>"
      ],
      "text/plain": [
       "                 LR Train set  LR Test set  KNN Train set  KNN Test set  \\\n",
       "Recall Score         0.590058     0.618143       0.976416      0.169480   \n",
       "Precision Score      0.296279     0.320861       0.987028      0.328114   \n",
       "F1 Score             0.394482     0.422444       0.981693      0.223510   \n",
       "Accuracy Score       0.507667     0.516933       0.990102      0.663451   \n",
       "\n",
       "                 DTC Train set  DTC Test set  RFC Train set  RFC Test set  \\\n",
       "Recall Score          0.996763      0.302743       0.993295      0.084037   \n",
       "Precision Score       0.963460      0.312070       0.969095      0.388618   \n",
       "F1 Score              0.979828      0.307335       0.981046      0.138190   \n",
       "Accuracy Score        0.988846      0.609989       0.989568      0.700432   \n",
       "\n",
       "                 XGB Train set  XGB Test set  LGBM Train set  LGBM Test set  \n",
       "Recall Score          0.943006      0.634318        0.961734       0.822785  \n",
       "Precision Score       0.445348      0.307902        0.335931       0.298127  \n",
       "F1 Score              0.604984      0.414570        0.497935       0.437670  \n",
       "Accuracy Score        0.665305      0.487991        0.472884       0.395739  "
      ]
     },
     "execution_count": 46,
     "metadata": {},
     "output_type": "execute_result"
    }
   ],
   "source": [
    "total_metrics = pd.DataFrame()\n",
    "\n",
    "pipes = [('LR', lr_pipe), ('KNN', knn_pipe), ('DTC', dtc_pipe),\n",
    "         ('RFC', rfc_pipe), ('XGB', xgb_pipe), ('LGBM', lgbm_pipe)]\n",
    "\n",
    "for clf_name, clf in pipes:\n",
    "    y_train_pred = clf.predict(X_train_sel)\n",
    "    y_test_pred = clf.predict(X_test_sel)\n",
    "\n",
    "    result = evaluation_metric(clf_name, y_train, y_train_pred, y_test, y_test_pred)\n",
    "\n",
    "    total_metrics = pd.concat([total_metrics, result], axis = 1)\n",
    "\n",
    "total_metrics"
   ]
  },
  {
   "cell_type": "markdown",
   "metadata": {
    "id": "pNjDEP9qVxnc"
   },
   "source": [
    "# Hyperparameter Tuning Search :)"
   ]
  },
  {
   "cell_type": "markdown",
   "metadata": {
    "id": "NopJ0EBpa54R"
   },
   "source": [
    "Setting a function to compare metrics"
   ]
  },
  {
   "cell_type": "code",
   "execution_count": 53,
   "metadata": {
    "id": "qWY_Wm9Ga6Mn",
    "tags": []
   },
   "outputs": [],
   "source": [
    "def compare_base_tuner(name, base_pipe, tuned_pipe, X_train, X_test, y_train, y_test):\n",
    "    total_metrics = pd.DataFrame()\n",
    "    pipes = [(name, base_pipe), (f'{name}_TUNED', tuned_pipe.best_estimator_)]\n",
    "\n",
    "    for clf_name, clf in pipes:\n",
    "        y_train_pred = clf.predict(X_train)\n",
    "        y_test_pred = clf.predict(X_test)\n",
    "\n",
    "        result = evaluation_metric(clf_name, y_train, y_train_pred, y_test, y_test_pred)\n",
    "\n",
    "        total_metrics = pd.concat([total_metrics, result], axis = 1)\n",
    "\n",
    "    return total_metrics"
   ]
  },
  {
   "cell_type": "markdown",
   "metadata": {},
   "source": [
    "Confusion Matrix function"
   ]
  },
  {
   "cell_type": "code",
   "execution_count": 87,
   "metadata": {},
   "outputs": [],
   "source": [
    "def plot_confusion_matrix(y_actual, y_pred):\n",
    "    sns.heatmap(confusion_matrix(y_actual, y_pred),\n",
    "               annot = True,\n",
    "               cmap = 'Blues',\n",
    "               fmt = 'd')\n",
    "    plt.xlabel('Predicted')\n",
    "    plt.ylabel('Actual')\n",
    "    plt.show()"
   ]
  },
  {
   "cell_type": "markdown",
   "metadata": {
    "id": "KKS0PenbVxnc"
   },
   "source": [
    "## Logistic Regression"
   ]
  },
  {
   "cell_type": "code",
   "execution_count": 48,
   "metadata": {
    "colab": {
     "base_uri": "https://localhost:8080/",
     "height": 323
    },
    "id": "QpRH1xYjWwOE",
    "outputId": "8e7245f1-61ff-4fa3-b965-ce99ba870f2b"
   },
   "outputs": [
    {
     "name": "stdout",
     "output_type": "stream",
     "text": [
      "CPU times: total: 8.19 s\n",
      "Wall time: 29.4 s\n"
     ]
    },
    {
     "data": {
      "text/html": [
       "<style>#sk-container-id-1 {color: black;}#sk-container-id-1 pre{padding: 0;}#sk-container-id-1 div.sk-toggleable {background-color: white;}#sk-container-id-1 label.sk-toggleable__label {cursor: pointer;display: block;width: 100%;margin-bottom: 0;padding: 0.3em;box-sizing: border-box;text-align: center;}#sk-container-id-1 label.sk-toggleable__label-arrow:before {content: \"▸\";float: left;margin-right: 0.25em;color: #696969;}#sk-container-id-1 label.sk-toggleable__label-arrow:hover:before {color: black;}#sk-container-id-1 div.sk-estimator:hover label.sk-toggleable__label-arrow:before {color: black;}#sk-container-id-1 div.sk-toggleable__content {max-height: 0;max-width: 0;overflow: hidden;text-align: left;background-color: #f0f8ff;}#sk-container-id-1 div.sk-toggleable__content pre {margin: 0.2em;color: black;border-radius: 0.25em;background-color: #f0f8ff;}#sk-container-id-1 input.sk-toggleable__control:checked~div.sk-toggleable__content {max-height: 200px;max-width: 100%;overflow: auto;}#sk-container-id-1 input.sk-toggleable__control:checked~label.sk-toggleable__label-arrow:before {content: \"▾\";}#sk-container-id-1 div.sk-estimator input.sk-toggleable__control:checked~label.sk-toggleable__label {background-color: #d4ebff;}#sk-container-id-1 div.sk-label input.sk-toggleable__control:checked~label.sk-toggleable__label {background-color: #d4ebff;}#sk-container-id-1 input.sk-hidden--visually {border: 0;clip: rect(1px 1px 1px 1px);clip: rect(1px, 1px, 1px, 1px);height: 1px;margin: -1px;overflow: hidden;padding: 0;position: absolute;width: 1px;}#sk-container-id-1 div.sk-estimator {font-family: monospace;background-color: #f0f8ff;border: 1px dotted black;border-radius: 0.25em;box-sizing: border-box;margin-bottom: 0.5em;}#sk-container-id-1 div.sk-estimator:hover {background-color: #d4ebff;}#sk-container-id-1 div.sk-parallel-item::after {content: \"\";width: 100%;border-bottom: 1px solid gray;flex-grow: 1;}#sk-container-id-1 div.sk-label:hover label.sk-toggleable__label {background-color: #d4ebff;}#sk-container-id-1 div.sk-serial::before {content: \"\";position: absolute;border-left: 1px solid gray;box-sizing: border-box;top: 0;bottom: 0;left: 50%;z-index: 0;}#sk-container-id-1 div.sk-serial {display: flex;flex-direction: column;align-items: center;background-color: white;padding-right: 0.2em;padding-left: 0.2em;position: relative;}#sk-container-id-1 div.sk-item {position: relative;z-index: 1;}#sk-container-id-1 div.sk-parallel {display: flex;align-items: stretch;justify-content: center;background-color: white;position: relative;}#sk-container-id-1 div.sk-item::before, #sk-container-id-1 div.sk-parallel-item::before {content: \"\";position: absolute;border-left: 1px solid gray;box-sizing: border-box;top: 0;bottom: 0;left: 50%;z-index: -1;}#sk-container-id-1 div.sk-parallel-item {display: flex;flex-direction: column;z-index: 1;position: relative;background-color: white;}#sk-container-id-1 div.sk-parallel-item:first-child::after {align-self: flex-end;width: 50%;}#sk-container-id-1 div.sk-parallel-item:last-child::after {align-self: flex-start;width: 50%;}#sk-container-id-1 div.sk-parallel-item:only-child::after {width: 0;}#sk-container-id-1 div.sk-dashed-wrapped {border: 1px dashed gray;margin: 0 0.4em 0.5em 0.4em;box-sizing: border-box;padding-bottom: 0.4em;background-color: white;}#sk-container-id-1 div.sk-label label {font-family: monospace;font-weight: bold;display: inline-block;line-height: 1.2em;}#sk-container-id-1 div.sk-label-container {text-align: center;}#sk-container-id-1 div.sk-container {/* jupyter's `normalize.less` sets `[hidden] { display: none; }` but bootstrap.min.css set `[hidden] { display: none !important; }` so we also need the `!important` here to be able to override the default hidden behavior on the sphinx rendered scikit-learn.org. See: https://github.com/scikit-learn/scikit-learn/issues/21755 */display: inline-block !important;position: relative;}#sk-container-id-1 div.sk-text-repr-fallback {display: none;}</style><div id=\"sk-container-id-1\" class=\"sk-top-container\"><div class=\"sk-text-repr-fallback\"><pre>RandomizedSearchCV(cv=10, error_score=0,\n",
       "                   estimator=Pipeline(steps=[(&#x27;sc&#x27;, StandardScaler()),\n",
       "                                             (&#x27;clf&#x27;,\n",
       "                                              LogisticRegression(class_weight=&#x27;balanced&#x27;,\n",
       "                                                                 n_jobs=-1,\n",
       "                                                                 random_state=24))]),\n",
       "                   n_iter=100, n_jobs=-1,\n",
       "                   param_distributions={&#x27;clf__C&#x27;: &lt;scipy.stats._distn_infrastructure.rv_discrete_frozen object at 0x0000013CB5F6B460&gt;,\n",
       "                                        &#x27;clf__max_iter&#x27;: &lt;scipy.stats._distn_infrastructure.rv_discrete_frozen object at 0x0000013CB34C1C30&gt;,\n",
       "                                        &#x27;clf__penalty&#x27;: [&#x27;l2&#x27;, None],\n",
       "                                        &#x27;clf__solver&#x27;: [&#x27;lbfgs&#x27;, &#x27;newton-cg&#x27;,\n",
       "                                                        &#x27;newton-cholesky&#x27;,\n",
       "                                                        &#x27;sag&#x27;, &#x27;saga&#x27;]},\n",
       "                   random_state=23, return_train_score=True,\n",
       "                   scoring=&#x27;precision&#x27;)</pre><b>In a Jupyter environment, please rerun this cell to show the HTML representation or trust the notebook. <br />On GitHub, the HTML representation is unable to render, please try loading this page with nbviewer.org.</b></div><div class=\"sk-container\" hidden><div class=\"sk-item sk-dashed-wrapped\"><div class=\"sk-label-container\"><div class=\"sk-label sk-toggleable\"><input class=\"sk-toggleable__control sk-hidden--visually\" id=\"sk-estimator-id-1\" type=\"checkbox\" ><label for=\"sk-estimator-id-1\" class=\"sk-toggleable__label sk-toggleable__label-arrow\">RandomizedSearchCV</label><div class=\"sk-toggleable__content\"><pre>RandomizedSearchCV(cv=10, error_score=0,\n",
       "                   estimator=Pipeline(steps=[(&#x27;sc&#x27;, StandardScaler()),\n",
       "                                             (&#x27;clf&#x27;,\n",
       "                                              LogisticRegression(class_weight=&#x27;balanced&#x27;,\n",
       "                                                                 n_jobs=-1,\n",
       "                                                                 random_state=24))]),\n",
       "                   n_iter=100, n_jobs=-1,\n",
       "                   param_distributions={&#x27;clf__C&#x27;: &lt;scipy.stats._distn_infrastructure.rv_discrete_frozen object at 0x0000013CB5F6B460&gt;,\n",
       "                                        &#x27;clf__max_iter&#x27;: &lt;scipy.stats._distn_infrastructure.rv_discrete_frozen object at 0x0000013CB34C1C30&gt;,\n",
       "                                        &#x27;clf__penalty&#x27;: [&#x27;l2&#x27;, None],\n",
       "                                        &#x27;clf__solver&#x27;: [&#x27;lbfgs&#x27;, &#x27;newton-cg&#x27;,\n",
       "                                                        &#x27;newton-cholesky&#x27;,\n",
       "                                                        &#x27;sag&#x27;, &#x27;saga&#x27;]},\n",
       "                   random_state=23, return_train_score=True,\n",
       "                   scoring=&#x27;precision&#x27;)</pre></div></div></div><div class=\"sk-parallel\"><div class=\"sk-parallel-item\"><div class=\"sk-item\"><div class=\"sk-label-container\"><div class=\"sk-label sk-toggleable\"><input class=\"sk-toggleable__control sk-hidden--visually\" id=\"sk-estimator-id-2\" type=\"checkbox\" ><label for=\"sk-estimator-id-2\" class=\"sk-toggleable__label sk-toggleable__label-arrow\">estimator: Pipeline</label><div class=\"sk-toggleable__content\"><pre>Pipeline(steps=[(&#x27;sc&#x27;, StandardScaler()),\n",
       "                (&#x27;clf&#x27;,\n",
       "                 LogisticRegression(class_weight=&#x27;balanced&#x27;, n_jobs=-1,\n",
       "                                    random_state=24))])</pre></div></div></div><div class=\"sk-serial\"><div class=\"sk-item\"><div class=\"sk-serial\"><div class=\"sk-item\"><div class=\"sk-estimator sk-toggleable\"><input class=\"sk-toggleable__control sk-hidden--visually\" id=\"sk-estimator-id-3\" type=\"checkbox\" ><label for=\"sk-estimator-id-3\" class=\"sk-toggleable__label sk-toggleable__label-arrow\">StandardScaler</label><div class=\"sk-toggleable__content\"><pre>StandardScaler()</pre></div></div></div><div class=\"sk-item\"><div class=\"sk-estimator sk-toggleable\"><input class=\"sk-toggleable__control sk-hidden--visually\" id=\"sk-estimator-id-4\" type=\"checkbox\" ><label for=\"sk-estimator-id-4\" class=\"sk-toggleable__label sk-toggleable__label-arrow\">LogisticRegression</label><div class=\"sk-toggleable__content\"><pre>LogisticRegression(class_weight=&#x27;balanced&#x27;, n_jobs=-1, random_state=24)</pre></div></div></div></div></div></div></div></div></div></div></div></div>"
      ],
      "text/plain": [
       "RandomizedSearchCV(cv=10, error_score=0,\n",
       "                   estimator=Pipeline(steps=[('sc', StandardScaler()),\n",
       "                                             ('clf',\n",
       "                                              LogisticRegression(class_weight='balanced',\n",
       "                                                                 n_jobs=-1,\n",
       "                                                                 random_state=24))]),\n",
       "                   n_iter=100, n_jobs=-1,\n",
       "                   param_distributions={'clf__C': <scipy.stats._distn_infrastructure.rv_discrete_frozen object at 0x0000013CB5F6B460>,\n",
       "                                        'clf__max_iter': <scipy.stats._distn_infrastructure.rv_discrete_frozen object at 0x0000013CB34C1C30>,\n",
       "                                        'clf__penalty': ['l2', None],\n",
       "                                        'clf__solver': ['lbfgs', 'newton-cg',\n",
       "                                                        'newton-cholesky',\n",
       "                                                        'sag', 'saga']},\n",
       "                   random_state=23, return_train_score=True,\n",
       "                   scoring='precision')"
      ]
     },
     "execution_count": 48,
     "metadata": {},
     "output_type": "execute_result"
    }
   ],
   "source": [
    "%%time\n",
    "\n",
    "# creating model\n",
    "model = LogisticRegression(class_weight='balanced', random_state=24, n_jobs=-1)\n",
    "pipe = Pipeline([('sc', scaler), ('clf', model)])\n",
    "\n",
    "# define random search space\n",
    "hyperparameter_random = {\n",
    "    'clf__C': randint(1, 101),  # random values between 1 and 100\n",
    "    'clf__solver': ['lbfgs', 'newton-cg', 'newton-cholesky', 'sag', 'saga'],\n",
    "    'clf__penalty': ['l2', None],\n",
    "    'clf__max_iter': randint(100, 501),  # random values between 100 and 500\n",
    "}\n",
    "\n",
    "# creating randomized search\n",
    "lr_random_search = RandomizedSearchCV(estimator=pipe,\n",
    "                                      param_distributions=hyperparameter_random,\n",
    "                                      n_iter=100,  # maximum of 100 iterations\n",
    "                                      n_jobs=-1,\n",
    "                                      cv=10,\n",
    "                                      scoring='precision',\n",
    "                                      error_score=0,\n",
    "                                      random_state=23,\n",
    "                                      return_train_score=True)\n",
    "\n",
    "# Fit the model to the data\n",
    "lr_random_search.fit(X_train_sel, y_train)"
   ]
  },
  {
   "cell_type": "code",
   "execution_count": 50,
   "metadata": {
    "colab": {
     "base_uri": "https://localhost:8080/"
    },
    "id": "0_MZJZNyfXdc",
    "outputId": "69c7c7d7-ee14-4fb6-b5ec-a86e8d4dbc6f"
   },
   "outputs": [
    {
     "data": {
      "text/plain": [
       "{'clf__C': 50,\n",
       " 'clf__max_iter': 294,\n",
       " 'clf__penalty': None,\n",
       " 'clf__solver': 'lbfgs'}"
      ]
     },
     "execution_count": 50,
     "metadata": {},
     "output_type": "execute_result"
    }
   ],
   "source": [
    "lr_random_search.best_params_"
   ]
  },
  {
   "cell_type": "code",
   "execution_count": 51,
   "metadata": {
    "colab": {
     "base_uri": "https://localhost:8080/"
    },
    "id": "pNKmoE24ffw_",
    "outputId": "bd35f806-4ea9-482f-bc8d-18dc7ba3eb03"
   },
   "outputs": [
    {
     "data": {
      "text/plain": [
       "{'C': 1.0,\n",
       " 'class_weight': 'balanced',\n",
       " 'dual': False,\n",
       " 'fit_intercept': True,\n",
       " 'intercept_scaling': 1,\n",
       " 'l1_ratio': None,\n",
       " 'max_iter': 100,\n",
       " 'multi_class': 'auto',\n",
       " 'n_jobs': -1,\n",
       " 'penalty': 'l2',\n",
       " 'random_state': 24,\n",
       " 'solver': 'lbfgs',\n",
       " 'tol': 0.0001,\n",
       " 'verbose': 0,\n",
       " 'warm_start': False}"
      ]
     },
     "execution_count": 51,
     "metadata": {},
     "output_type": "execute_result"
    }
   ],
   "source": [
    "lr_pipe[-1].get_params()"
   ]
  },
  {
   "cell_type": "code",
   "execution_count": 54,
   "metadata": {
    "colab": {
     "base_uri": "https://localhost:8080/",
     "height": 238
    },
    "id": "U0dD0WlzZaZL",
    "outputId": "06405720-e016-418b-cf65-7a5133caa867",
    "scrolled": true
   },
   "outputs": [
    {
     "data": {
      "text/html": [
       "<div>\n",
       "<style scoped>\n",
       "    .dataframe tbody tr th:only-of-type {\n",
       "        vertical-align: middle;\n",
       "    }\n",
       "\n",
       "    .dataframe tbody tr th {\n",
       "        vertical-align: top;\n",
       "    }\n",
       "\n",
       "    .dataframe thead th {\n",
       "        text-align: right;\n",
       "    }\n",
       "</style>\n",
       "<table border=\"1\" class=\"dataframe\">\n",
       "  <thead>\n",
       "    <tr style=\"text-align: right;\">\n",
       "      <th></th>\n",
       "      <th>LR Train set</th>\n",
       "      <th>LR Test set</th>\n",
       "      <th>LR_TUNED Train set</th>\n",
       "      <th>LR_TUNED Test set</th>\n",
       "    </tr>\n",
       "  </thead>\n",
       "  <tbody>\n",
       "    <tr>\n",
       "      <th>Recall Score</th>\n",
       "      <td>0.590058</td>\n",
       "      <td>0.618143</td>\n",
       "      <td>0.590058</td>\n",
       "      <td>0.618495</td>\n",
       "    </tr>\n",
       "    <tr>\n",
       "      <th>Precision Score</th>\n",
       "      <td>0.296279</td>\n",
       "      <td>0.320861</td>\n",
       "      <td>0.296279</td>\n",
       "      <td>0.320985</td>\n",
       "    </tr>\n",
       "    <tr>\n",
       "      <th>F1 Score</th>\n",
       "      <td>0.394482</td>\n",
       "      <td>0.422444</td>\n",
       "      <td>0.394482</td>\n",
       "      <td>0.422633</td>\n",
       "    </tr>\n",
       "    <tr>\n",
       "      <th>Accuracy Score</th>\n",
       "      <td>0.507667</td>\n",
       "      <td>0.516933</td>\n",
       "      <td>0.507667</td>\n",
       "      <td>0.517033</td>\n",
       "    </tr>\n",
       "  </tbody>\n",
       "</table>\n",
       "</div>"
      ],
      "text/plain": [
       "                 LR Train set  LR Test set  LR_TUNED Train set  \\\n",
       "Recall Score         0.590058     0.618143            0.590058   \n",
       "Precision Score      0.296279     0.320861            0.296279   \n",
       "F1 Score             0.394482     0.422444            0.394482   \n",
       "Accuracy Score       0.507667     0.516933            0.507667   \n",
       "\n",
       "                 LR_TUNED Test set  \n",
       "Recall Score              0.618495  \n",
       "Precision Score           0.320985  \n",
       "F1 Score                  0.422633  \n",
       "Accuracy Score            0.517033  "
      ]
     },
     "execution_count": 54,
     "metadata": {},
     "output_type": "execute_result"
    }
   ],
   "source": [
    "lr_metrics = compare_base_tuner('LR', lr_pipe, lr_random_search,\n",
    "                                X_train_sel, X_test_sel, y_train, y_test)\n",
    "lr_metrics"
   ]
  },
  {
   "cell_type": "markdown",
   "metadata": {},
   "source": [
    "Predictions and confusion matrix"
   ]
  },
  {
   "cell_type": "code",
   "execution_count": 88,
   "metadata": {},
   "outputs": [
    {
     "data": {
      "image/png": "[encoded data removed]",
      "text/plain": [
       "<Figure size 432x288 with 2 Axes>"
      ]
     },
     "metadata": {
      "needs_background": "light"
     },
     "output_type": "display_data"
    }
   ],
   "source": [
    "y_test_pred = lr_random_search.predict(X_test_sel)\n",
    "plot_confusion_matrix(y_test, y_test_pred)"
   ]
  },
  {
   "cell_type": "markdown",
   "metadata": {
    "id": "w1Dl2m7wf7Il"
   },
   "source": [
    "## KNN"
   ]
  },
  {
   "cell_type": "code",
   "execution_count": 55,
   "metadata": {
    "id": "O50ZeNEkf8iN"
   },
   "outputs": [
    {
     "name": "stdout",
     "output_type": "stream",
     "text": [
      "CPU times: total: 21.6 s\n",
      "Wall time: 11min 10s\n"
     ]
    },
    {
     "data": {
      "text/html": [
       "<style>#sk-container-id-2 {color: black;}#sk-container-id-2 pre{padding: 0;}#sk-container-id-2 div.sk-toggleable {background-color: white;}#sk-container-id-2 label.sk-toggleable__label {cursor: pointer;display: block;width: 100%;margin-bottom: 0;padding: 0.3em;box-sizing: border-box;text-align: center;}#sk-container-id-2 label.sk-toggleable__label-arrow:before {content: \"▸\";float: left;margin-right: 0.25em;color: #696969;}#sk-container-id-2 label.sk-toggleable__label-arrow:hover:before {color: black;}#sk-container-id-2 div.sk-estimator:hover label.sk-toggleable__label-arrow:before {color: black;}#sk-container-id-2 div.sk-toggleable__content {max-height: 0;max-width: 0;overflow: hidden;text-align: left;background-color: #f0f8ff;}#sk-container-id-2 div.sk-toggleable__content pre {margin: 0.2em;color: black;border-radius: 0.25em;background-color: #f0f8ff;}#sk-container-id-2 input.sk-toggleable__control:checked~div.sk-toggleable__content {max-height: 200px;max-width: 100%;overflow: auto;}#sk-container-id-2 input.sk-toggleable__control:checked~label.sk-toggleable__label-arrow:before {content: \"▾\";}#sk-container-id-2 div.sk-estimator input.sk-toggleable__control:checked~label.sk-toggleable__label {background-color: #d4ebff;}#sk-container-id-2 div.sk-label input.sk-toggleable__control:checked~label.sk-toggleable__label {background-color: #d4ebff;}#sk-container-id-2 input.sk-hidden--visually {border: 0;clip: rect(1px 1px 1px 1px);clip: rect(1px, 1px, 1px, 1px);height: 1px;margin: -1px;overflow: hidden;padding: 0;position: absolute;width: 1px;}#sk-container-id-2 div.sk-estimator {font-family: monospace;background-color: #f0f8ff;border: 1px dotted black;border-radius: 0.25em;box-sizing: border-box;margin-bottom: 0.5em;}#sk-container-id-2 div.sk-estimator:hover {background-color: #d4ebff;}#sk-container-id-2 div.sk-parallel-item::after {content: \"\";width: 100%;border-bottom: 1px solid gray;flex-grow: 1;}#sk-container-id-2 div.sk-label:hover label.sk-toggleable__label {background-color: #d4ebff;}#sk-container-id-2 div.sk-serial::before {content: \"\";position: absolute;border-left: 1px solid gray;box-sizing: border-box;top: 0;bottom: 0;left: 50%;z-index: 0;}#sk-container-id-2 div.sk-serial {display: flex;flex-direction: column;align-items: center;background-color: white;padding-right: 0.2em;padding-left: 0.2em;position: relative;}#sk-container-id-2 div.sk-item {position: relative;z-index: 1;}#sk-container-id-2 div.sk-parallel {display: flex;align-items: stretch;justify-content: center;background-color: white;position: relative;}#sk-container-id-2 div.sk-item::before, #sk-container-id-2 div.sk-parallel-item::before {content: \"\";position: absolute;border-left: 1px solid gray;box-sizing: border-box;top: 0;bottom: 0;left: 50%;z-index: -1;}#sk-container-id-2 div.sk-parallel-item {display: flex;flex-direction: column;z-index: 1;position: relative;background-color: white;}#sk-container-id-2 div.sk-parallel-item:first-child::after {align-self: flex-end;width: 50%;}#sk-container-id-2 div.sk-parallel-item:last-child::after {align-self: flex-start;width: 50%;}#sk-container-id-2 div.sk-parallel-item:only-child::after {width: 0;}#sk-container-id-2 div.sk-dashed-wrapped {border: 1px dashed gray;margin: 0 0.4em 0.5em 0.4em;box-sizing: border-box;padding-bottom: 0.4em;background-color: white;}#sk-container-id-2 div.sk-label label {font-family: monospace;font-weight: bold;display: inline-block;line-height: 1.2em;}#sk-container-id-2 div.sk-label-container {text-align: center;}#sk-container-id-2 div.sk-container {/* jupyter's `normalize.less` sets `[hidden] { display: none; }` but bootstrap.min.css set `[hidden] { display: none !important; }` so we also need the `!important` here to be able to override the default hidden behavior on the sphinx rendered scikit-learn.org. See: https://github.com/scikit-learn/scikit-learn/issues/21755 */display: inline-block !important;position: relative;}#sk-container-id-2 div.sk-text-repr-fallback {display: none;}</style><div id=\"sk-container-id-2\" class=\"sk-top-container\"><div class=\"sk-text-repr-fallback\"><pre>RandomizedSearchCV(cv=10, error_score=0,\n",
       "                   estimator=Pipeline(steps=[(&#x27;sc&#x27;, StandardScaler()),\n",
       "                                             (&#x27;clf&#x27;,\n",
       "                                              KNeighborsClassifier(n_jobs=-1,\n",
       "                                                                   weights=&#x27;distance&#x27;))]),\n",
       "                   n_iter=100, n_jobs=-1,\n",
       "                   param_distributions={&#x27;clf__n_neighbors&#x27;: &lt;scipy.stats._distn_infrastructure.rv_discrete_frozen object at 0x0000013CB6016140&gt;,\n",
       "                                        &#x27;clf__p&#x27;: &lt;scipy.stats._distn_infrastructure.rv_discrete_frozen object at 0x0000013CA70AB460&gt;},\n",
       "                   random_state=23, return_train_score=True,\n",
       "                   scoring=&#x27;precision&#x27;)</pre><b>In a Jupyter environment, please rerun this cell to show the HTML representation or trust the notebook. <br />On GitHub, the HTML representation is unable to render, please try loading this page with nbviewer.org.</b></div><div class=\"sk-container\" hidden><div class=\"sk-item sk-dashed-wrapped\"><div class=\"sk-label-container\"><div class=\"sk-label sk-toggleable\"><input class=\"sk-toggleable__control sk-hidden--visually\" id=\"sk-estimator-id-5\" type=\"checkbox\" ><label for=\"sk-estimator-id-5\" class=\"sk-toggleable__label sk-toggleable__label-arrow\">RandomizedSearchCV</label><div class=\"sk-toggleable__content\"><pre>RandomizedSearchCV(cv=10, error_score=0,\n",
       "                   estimator=Pipeline(steps=[(&#x27;sc&#x27;, StandardScaler()),\n",
       "                                             (&#x27;clf&#x27;,\n",
       "                                              KNeighborsClassifier(n_jobs=-1,\n",
       "                                                                   weights=&#x27;distance&#x27;))]),\n",
       "                   n_iter=100, n_jobs=-1,\n",
       "                   param_distributions={&#x27;clf__n_neighbors&#x27;: &lt;scipy.stats._distn_infrastructure.rv_discrete_frozen object at 0x0000013CB6016140&gt;,\n",
       "                                        &#x27;clf__p&#x27;: &lt;scipy.stats._distn_infrastructure.rv_discrete_frozen object at 0x0000013CA70AB460&gt;},\n",
       "                   random_state=23, return_train_score=True,\n",
       "                   scoring=&#x27;precision&#x27;)</pre></div></div></div><div class=\"sk-parallel\"><div class=\"sk-parallel-item\"><div class=\"sk-item\"><div class=\"sk-label-container\"><div class=\"sk-label sk-toggleable\"><input class=\"sk-toggleable__control sk-hidden--visually\" id=\"sk-estimator-id-6\" type=\"checkbox\" ><label for=\"sk-estimator-id-6\" class=\"sk-toggleable__label sk-toggleable__label-arrow\">estimator: Pipeline</label><div class=\"sk-toggleable__content\"><pre>Pipeline(steps=[(&#x27;sc&#x27;, StandardScaler()),\n",
       "                (&#x27;clf&#x27;, KNeighborsClassifier(n_jobs=-1, weights=&#x27;distance&#x27;))])</pre></div></div></div><div class=\"sk-serial\"><div class=\"sk-item\"><div class=\"sk-serial\"><div class=\"sk-item\"><div class=\"sk-estimator sk-toggleable\"><input class=\"sk-toggleable__control sk-hidden--visually\" id=\"sk-estimator-id-7\" type=\"checkbox\" ><label for=\"sk-estimator-id-7\" class=\"sk-toggleable__label sk-toggleable__label-arrow\">StandardScaler</label><div class=\"sk-toggleable__content\"><pre>StandardScaler()</pre></div></div></div><div class=\"sk-item\"><div class=\"sk-estimator sk-toggleable\"><input class=\"sk-toggleable__control sk-hidden--visually\" id=\"sk-estimator-id-8\" type=\"checkbox\" ><label for=\"sk-estimator-id-8\" class=\"sk-toggleable__label sk-toggleable__label-arrow\">KNeighborsClassifier</label><div class=\"sk-toggleable__content\"><pre>KNeighborsClassifier(n_jobs=-1, weights=&#x27;distance&#x27;)</pre></div></div></div></div></div></div></div></div></div></div></div></div>"
      ],
      "text/plain": [
       "RandomizedSearchCV(cv=10, error_score=0,\n",
       "                   estimator=Pipeline(steps=[('sc', StandardScaler()),\n",
       "                                             ('clf',\n",
       "                                              KNeighborsClassifier(n_jobs=-1,\n",
       "                                                                   weights='distance'))]),\n",
       "                   n_iter=100, n_jobs=-1,\n",
       "                   param_distributions={'clf__n_neighbors': <scipy.stats._distn_infrastructure.rv_discrete_frozen object at 0x0000013CB6016140>,\n",
       "                                        'clf__p': <scipy.stats._distn_infrastructure.rv_discrete_frozen object at 0x0000013CA70AB460>},\n",
       "                   random_state=23, return_train_score=True,\n",
       "                   scoring='precision')"
      ]
     },
     "execution_count": 55,
     "metadata": {},
     "output_type": "execute_result"
    }
   ],
   "source": [
    "%%time\n",
    "\n",
    "# creating model\n",
    "model = KNeighborsClassifier(weights='distance', n_jobs=-1)\n",
    "pipe = Pipeline([('sc', scaler), ('clf', model)])\n",
    "\n",
    "# define random search space\n",
    "hyperparameter_random = {\n",
    "    'clf__n_neighbors': randint(2, 11),  # valores aleatorios entre 2 y 10\n",
    "    'clf__p': randint(1, 3)  # valores aleatorios entre 1 y 2\n",
    "}\n",
    "\n",
    "# creating randomized search for precision\n",
    "knn_random_search = RandomizedSearchCV(estimator=pipe,\n",
    "                                                 param_distributions=hyperparameter_random,\n",
    "                                                 n_iter=100,  # máximo de 100 iteraciones\n",
    "                                                 n_jobs=-1,\n",
    "                                                 cv=10,\n",
    "                                                 scoring='precision',  # cambiar a precision\n",
    "                                                 error_score=0,\n",
    "                                                 random_state=23,\n",
    "                                                 return_train_score=True)\n",
    "# Fit the model to the data\n",
    "knn_random_search.fit(X_train_sel, y_train)"
   ]
  },
  {
   "cell_type": "code",
   "execution_count": 56,
   "metadata": {
    "id": "2HmoH32Dhzi0"
   },
   "outputs": [
    {
     "data": {
      "text/plain": [
       "{'clf__n_neighbors': 9, 'clf__p': 2}"
      ]
     },
     "execution_count": 56,
     "metadata": {},
     "output_type": "execute_result"
    }
   ],
   "source": [
    "knn_random_search.best_params_"
   ]
  },
  {
   "cell_type": "code",
   "execution_count": 57,
   "metadata": {
    "id": "mEYatKETMf4z"
   },
   "outputs": [
    {
     "data": {
      "text/html": [
       "<div>\n",
       "<style scoped>\n",
       "    .dataframe tbody tr th:only-of-type {\n",
       "        vertical-align: middle;\n",
       "    }\n",
       "\n",
       "    .dataframe tbody tr th {\n",
       "        vertical-align: top;\n",
       "    }\n",
       "\n",
       "    .dataframe thead th {\n",
       "        text-align: right;\n",
       "    }\n",
       "</style>\n",
       "<table border=\"1\" class=\"dataframe\">\n",
       "  <thead>\n",
       "    <tr style=\"text-align: right;\">\n",
       "      <th></th>\n",
       "      <th>KNN Train set</th>\n",
       "      <th>KNN Test set</th>\n",
       "      <th>KNN_TUNED Train set</th>\n",
       "      <th>KNN_TUNED Test set</th>\n",
       "    </tr>\n",
       "  </thead>\n",
       "  <tbody>\n",
       "    <tr>\n",
       "      <th>Recall Score</th>\n",
       "      <td>0.976416</td>\n",
       "      <td>0.169480</td>\n",
       "      <td>0.976647</td>\n",
       "      <td>0.120956</td>\n",
       "    </tr>\n",
       "    <tr>\n",
       "      <th>Precision Score</th>\n",
       "      <td>0.987028</td>\n",
       "      <td>0.328114</td>\n",
       "      <td>0.987147</td>\n",
       "      <td>0.338583</td>\n",
       "    </tr>\n",
       "    <tr>\n",
       "      <th>F1 Score</th>\n",
       "      <td>0.981693</td>\n",
       "      <td>0.223510</td>\n",
       "      <td>0.981869</td>\n",
       "      <td>0.178238</td>\n",
       "    </tr>\n",
       "    <tr>\n",
       "      <th>Accuracy Score</th>\n",
       "      <td>0.990102</td>\n",
       "      <td>0.663451</td>\n",
       "      <td>0.990197</td>\n",
       "      <td>0.681238</td>\n",
       "    </tr>\n",
       "  </tbody>\n",
       "</table>\n",
       "</div>"
      ],
      "text/plain": [
       "                 KNN Train set  KNN Test set  KNN_TUNED Train set  \\\n",
       "Recall Score          0.976416      0.169480             0.976647   \n",
       "Precision Score       0.987028      0.328114             0.987147   \n",
       "F1 Score              0.981693      0.223510             0.981869   \n",
       "Accuracy Score        0.990102      0.663451             0.990197   \n",
       "\n",
       "                 KNN_TUNED Test set  \n",
       "Recall Score               0.120956  \n",
       "Precision Score            0.338583  \n",
       "F1 Score                   0.178238  \n",
       "Accuracy Score             0.681238  "
      ]
     },
     "execution_count": 57,
     "metadata": {},
     "output_type": "execute_result"
    }
   ],
   "source": [
    "knn_metrics =  compare_base_tuner('KNN', knn_pipe, knn_random_search,\n",
    "                                X_train_sel, X_test_sel, y_train, y_test)\n",
    "knn_metrics"
   ]
  },
  {
   "cell_type": "code",
   "execution_count": 89,
   "metadata": {},
   "outputs": [
    {
     "data": {
      "image/png": "[encoded data removed]",
      "text/plain": [
       "<Figure size 432x288 with 2 Axes>"
      ]
     },
     "metadata": {
      "needs_background": "light"
     },
     "output_type": "display_data"
    }
   ],
   "source": [
    "y_test_pred = knn_random_search.predict(X_test_sel)\n",
    "plot_confusion_matrix(y_test, y_test_pred)"
   ]
  },
  {
   "cell_type": "markdown",
   "metadata": {
    "id": "t6Bp9JxUNrF3"
   },
   "source": [
    "## Decision Tree"
   ]
  },
  {
   "cell_type": "code",
   "execution_count": 58,
   "metadata": {
    "id": "EIq0nIMdNqmN"
   },
   "outputs": [
    {
     "name": "stdout",
     "output_type": "stream",
     "text": [
      "CPU times: total: 2.98 s\n",
      "Wall time: 6.73 s\n"
     ]
    },
    {
     "data": {
      "text/html": [
       "<style>#sk-container-id-3 {color: black;}#sk-container-id-3 pre{padding: 0;}#sk-container-id-3 div.sk-toggleable {background-color: white;}#sk-container-id-3 label.sk-toggleable__label {cursor: pointer;display: block;width: 100%;margin-bottom: 0;padding: 0.3em;box-sizing: border-box;text-align: center;}#sk-container-id-3 label.sk-toggleable__label-arrow:before {content: \"▸\";float: left;margin-right: 0.25em;color: #696969;}#sk-container-id-3 label.sk-toggleable__label-arrow:hover:before {color: black;}#sk-container-id-3 div.sk-estimator:hover label.sk-toggleable__label-arrow:before {color: black;}#sk-container-id-3 div.sk-toggleable__content {max-height: 0;max-width: 0;overflow: hidden;text-align: left;background-color: #f0f8ff;}#sk-container-id-3 div.sk-toggleable__content pre {margin: 0.2em;color: black;border-radius: 0.25em;background-color: #f0f8ff;}#sk-container-id-3 input.sk-toggleable__control:checked~div.sk-toggleable__content {max-height: 200px;max-width: 100%;overflow: auto;}#sk-container-id-3 input.sk-toggleable__control:checked~label.sk-toggleable__label-arrow:before {content: \"▾\";}#sk-container-id-3 div.sk-estimator input.sk-toggleable__control:checked~label.sk-toggleable__label {background-color: #d4ebff;}#sk-container-id-3 div.sk-label input.sk-toggleable__control:checked~label.sk-toggleable__label {background-color: #d4ebff;}#sk-container-id-3 input.sk-hidden--visually {border: 0;clip: rect(1px 1px 1px 1px);clip: rect(1px, 1px, 1px, 1px);height: 1px;margin: -1px;overflow: hidden;padding: 0;position: absolute;width: 1px;}#sk-container-id-3 div.sk-estimator {font-family: monospace;background-color: #f0f8ff;border: 1px dotted black;border-radius: 0.25em;box-sizing: border-box;margin-bottom: 0.5em;}#sk-container-id-3 div.sk-estimator:hover {background-color: #d4ebff;}#sk-container-id-3 div.sk-parallel-item::after {content: \"\";width: 100%;border-bottom: 1px solid gray;flex-grow: 1;}#sk-container-id-3 div.sk-label:hover label.sk-toggleable__label {background-color: #d4ebff;}#sk-container-id-3 div.sk-serial::before {content: \"\";position: absolute;border-left: 1px solid gray;box-sizing: border-box;top: 0;bottom: 0;left: 50%;z-index: 0;}#sk-container-id-3 div.sk-serial {display: flex;flex-direction: column;align-items: center;background-color: white;padding-right: 0.2em;padding-left: 0.2em;position: relative;}#sk-container-id-3 div.sk-item {position: relative;z-index: 1;}#sk-container-id-3 div.sk-parallel {display: flex;align-items: stretch;justify-content: center;background-color: white;position: relative;}#sk-container-id-3 div.sk-item::before, #sk-container-id-3 div.sk-parallel-item::before {content: \"\";position: absolute;border-left: 1px solid gray;box-sizing: border-box;top: 0;bottom: 0;left: 50%;z-index: -1;}#sk-container-id-3 div.sk-parallel-item {display: flex;flex-direction: column;z-index: 1;position: relative;background-color: white;}#sk-container-id-3 div.sk-parallel-item:first-child::after {align-self: flex-end;width: 50%;}#sk-container-id-3 div.sk-parallel-item:last-child::after {align-self: flex-start;width: 50%;}#sk-container-id-3 div.sk-parallel-item:only-child::after {width: 0;}#sk-container-id-3 div.sk-dashed-wrapped {border: 1px dashed gray;margin: 0 0.4em 0.5em 0.4em;box-sizing: border-box;padding-bottom: 0.4em;background-color: white;}#sk-container-id-3 div.sk-label label {font-family: monospace;font-weight: bold;display: inline-block;line-height: 1.2em;}#sk-container-id-3 div.sk-label-container {text-align: center;}#sk-container-id-3 div.sk-container {/* jupyter's `normalize.less` sets `[hidden] { display: none; }` but bootstrap.min.css set `[hidden] { display: none !important; }` so we also need the `!important` here to be able to override the default hidden behavior on the sphinx rendered scikit-learn.org. See: https://github.com/scikit-learn/scikit-learn/issues/21755 */display: inline-block !important;position: relative;}#sk-container-id-3 div.sk-text-repr-fallback {display: none;}</style><div id=\"sk-container-id-3\" class=\"sk-top-container\"><div class=\"sk-text-repr-fallback\"><pre>RandomizedSearchCV(cv=10, error_score=0,\n",
       "                   estimator=Pipeline(steps=[(&#x27;sc&#x27;, StandardScaler()),\n",
       "                                             (&#x27;clf&#x27;,\n",
       "                                              DecisionTreeClassifier(class_weight=&#x27;balanced&#x27;,\n",
       "                                                                     random_state=24))]),\n",
       "                   n_iter=100, n_jobs=-1,\n",
       "                   param_distributions={&#x27;clf__criterion&#x27;: [&#x27;gini&#x27;, &#x27;entropy&#x27;,\n",
       "                                                           &#x27;log_loss&#x27;],\n",
       "                                        &#x27;clf__max_depth&#x27;: &lt;scipy.stats._distn_infrastructure.rv_discrete_frozen object at 0x0000013CA6EE35B0&gt;,\n",
       "                                        &#x27;clf__max_features&#x27;: [&#x27;sqrt&#x27;, &#x27;log2&#x27;],\n",
       "                                        &#x27;clf__min_samples_leaf&#x27;: &lt;scipy.stats._distn_infrastructure.rv_discrete_frozen object at 0x0000013CB33C0940&gt;,\n",
       "                                        &#x27;clf__min_samples_split&#x27;: &lt;scipy.stats._distn_infrastructure.rv_discrete_frozen object at 0x0000013CB6015B10&gt;,\n",
       "                                        &#x27;clf__splitter&#x27;: [&#x27;best&#x27;, &#x27;random&#x27;]},\n",
       "                   random_state=23, return_train_score=True,\n",
       "                   scoring=&#x27;precision&#x27;)</pre><b>In a Jupyter environment, please rerun this cell to show the HTML representation or trust the notebook. <br />On GitHub, the HTML representation is unable to render, please try loading this page with nbviewer.org.</b></div><div class=\"sk-container\" hidden><div class=\"sk-item sk-dashed-wrapped\"><div class=\"sk-label-container\"><div class=\"sk-label sk-toggleable\"><input class=\"sk-toggleable__control sk-hidden--visually\" id=\"sk-estimator-id-9\" type=\"checkbox\" ><label for=\"sk-estimator-id-9\" class=\"sk-toggleable__label sk-toggleable__label-arrow\">RandomizedSearchCV</label><div class=\"sk-toggleable__content\"><pre>RandomizedSearchCV(cv=10, error_score=0,\n",
       "                   estimator=Pipeline(steps=[(&#x27;sc&#x27;, StandardScaler()),\n",
       "                                             (&#x27;clf&#x27;,\n",
       "                                              DecisionTreeClassifier(class_weight=&#x27;balanced&#x27;,\n",
       "                                                                     random_state=24))]),\n",
       "                   n_iter=100, n_jobs=-1,\n",
       "                   param_distributions={&#x27;clf__criterion&#x27;: [&#x27;gini&#x27;, &#x27;entropy&#x27;,\n",
       "                                                           &#x27;log_loss&#x27;],\n",
       "                                        &#x27;clf__max_depth&#x27;: &lt;scipy.stats._distn_infrastructure.rv_discrete_frozen object at 0x0000013CA6EE35B0&gt;,\n",
       "                                        &#x27;clf__max_features&#x27;: [&#x27;sqrt&#x27;, &#x27;log2&#x27;],\n",
       "                                        &#x27;clf__min_samples_leaf&#x27;: &lt;scipy.stats._distn_infrastructure.rv_discrete_frozen object at 0x0000013CB33C0940&gt;,\n",
       "                                        &#x27;clf__min_samples_split&#x27;: &lt;scipy.stats._distn_infrastructure.rv_discrete_frozen object at 0x0000013CB6015B10&gt;,\n",
       "                                        &#x27;clf__splitter&#x27;: [&#x27;best&#x27;, &#x27;random&#x27;]},\n",
       "                   random_state=23, return_train_score=True,\n",
       "                   scoring=&#x27;precision&#x27;)</pre></div></div></div><div class=\"sk-parallel\"><div class=\"sk-parallel-item\"><div class=\"sk-item\"><div class=\"sk-label-container\"><div class=\"sk-label sk-toggleable\"><input class=\"sk-toggleable__control sk-hidden--visually\" id=\"sk-estimator-id-10\" type=\"checkbox\" ><label for=\"sk-estimator-id-10\" class=\"sk-toggleable__label sk-toggleable__label-arrow\">estimator: Pipeline</label><div class=\"sk-toggleable__content\"><pre>Pipeline(steps=[(&#x27;sc&#x27;, StandardScaler()),\n",
       "                (&#x27;clf&#x27;,\n",
       "                 DecisionTreeClassifier(class_weight=&#x27;balanced&#x27;,\n",
       "                                        random_state=24))])</pre></div></div></div><div class=\"sk-serial\"><div class=\"sk-item\"><div class=\"sk-serial\"><div class=\"sk-item\"><div class=\"sk-estimator sk-toggleable\"><input class=\"sk-toggleable__control sk-hidden--visually\" id=\"sk-estimator-id-11\" type=\"checkbox\" ><label for=\"sk-estimator-id-11\" class=\"sk-toggleable__label sk-toggleable__label-arrow\">StandardScaler</label><div class=\"sk-toggleable__content\"><pre>StandardScaler()</pre></div></div></div><div class=\"sk-item\"><div class=\"sk-estimator sk-toggleable\"><input class=\"sk-toggleable__control sk-hidden--visually\" id=\"sk-estimator-id-12\" type=\"checkbox\" ><label for=\"sk-estimator-id-12\" class=\"sk-toggleable__label sk-toggleable__label-arrow\">DecisionTreeClassifier</label><div class=\"sk-toggleable__content\"><pre>DecisionTreeClassifier(class_weight=&#x27;balanced&#x27;, random_state=24)</pre></div></div></div></div></div></div></div></div></div></div></div></div>"
      ],
      "text/plain": [
       "RandomizedSearchCV(cv=10, error_score=0,\n",
       "                   estimator=Pipeline(steps=[('sc', StandardScaler()),\n",
       "                                             ('clf',\n",
       "                                              DecisionTreeClassifier(class_weight='balanced',\n",
       "                                                                     random_state=24))]),\n",
       "                   n_iter=100, n_jobs=-1,\n",
       "                   param_distributions={'clf__criterion': ['gini', 'entropy',\n",
       "                                                           'log_loss'],\n",
       "                                        'clf__max_depth': <scipy.stats._distn_infrastructure.rv_discrete_frozen object at 0x0000013CA6EE35B0>,\n",
       "                                        'clf__max_features': ['sqrt', 'log2'],\n",
       "                                        'clf__min_samples_leaf': <scipy.stats._distn_infrastructure.rv_discrete_frozen object at 0x0000013CB33C0940>,\n",
       "                                        'clf__min_samples_split': <scipy.stats._distn_infrastructure.rv_discrete_frozen object at 0x0000013CB6015B10>,\n",
       "                                        'clf__splitter': ['best', 'random']},\n",
       "                   random_state=23, return_train_score=True,\n",
       "                   scoring='precision')"
      ]
     },
     "execution_count": 58,
     "metadata": {},
     "output_type": "execute_result"
    }
   ],
   "source": [
    "%%time\n",
    "\n",
    "# creating model\n",
    "model = DecisionTreeClassifier(class_weight='balanced', random_state=24)\n",
    "pipe = Pipeline([('sc', scaler), ('clf', model)])\n",
    "\n",
    "# define random search space\n",
    "hyperparameter_random = {\n",
    "    'clf__criterion': ['gini', 'entropy', 'log_loss'],\n",
    "    'clf__splitter': ['best', 'random'],\n",
    "    'clf__max_depth': randint(2, 16),  # random values between 2 and 15\n",
    "    'clf__min_samples_split': randint(2, 11),  # random values between 2 and 10\n",
    "    'clf__min_samples_leaf': randint(1, 11),  # random values between 1 and 10\n",
    "    'clf__max_features': ['sqrt', 'log2']\n",
    "}\n",
    "\n",
    "# creating randomized search for precision\n",
    "dtc_random_search = RandomizedSearchCV(estimator=pipe,\n",
    "                                        param_distributions=hyperparameter_random,\n",
    "                                        n_iter=100,  # maximum of 100 iterations\n",
    "                                        n_jobs=-1,\n",
    "                                        cv=10,\n",
    "                                        scoring='precision',\n",
    "                                        error_score=0,\n",
    "                                        random_state=23,\n",
    "                                        return_train_score=True)\n",
    "# Fit the model to the data\n",
    "dtc_random_search.fit(X_train_sel, y_train)"
   ]
  },
  {
   "cell_type": "code",
   "execution_count": 59,
   "metadata": {
    "id": "-vEhYMOBPXtu"
   },
   "outputs": [
    {
     "data": {
      "text/plain": [
       "{'clf__criterion': 'entropy',\n",
       " 'clf__max_depth': 5,\n",
       " 'clf__max_features': 'log2',\n",
       " 'clf__min_samples_leaf': 2,\n",
       " 'clf__min_samples_split': 6,\n",
       " 'clf__splitter': 'best'}"
      ]
     },
     "execution_count": 59,
     "metadata": {},
     "output_type": "execute_result"
    }
   ],
   "source": [
    "dtc_random_search.best_params_"
   ]
  },
  {
   "cell_type": "code",
   "execution_count": 60,
   "metadata": {
    "id": "zLDkvYUmPYuO"
   },
   "outputs": [
    {
     "data": {
      "text/html": [
       "<div>\n",
       "<style scoped>\n",
       "    .dataframe tbody tr th:only-of-type {\n",
       "        vertical-align: middle;\n",
       "    }\n",
       "\n",
       "    .dataframe tbody tr th {\n",
       "        vertical-align: top;\n",
       "    }\n",
       "\n",
       "    .dataframe thead th {\n",
       "        text-align: right;\n",
       "    }\n",
       "</style>\n",
       "<table border=\"1\" class=\"dataframe\">\n",
       "  <thead>\n",
       "    <tr style=\"text-align: right;\">\n",
       "      <th></th>\n",
       "      <th>DTC Train set</th>\n",
       "      <th>DTC Test set</th>\n",
       "      <th>DTC_TUNED Train set</th>\n",
       "      <th>DTC_TUNED Test set</th>\n",
       "    </tr>\n",
       "  </thead>\n",
       "  <tbody>\n",
       "    <tr>\n",
       "      <th>Recall Score</th>\n",
       "      <td>0.996763</td>\n",
       "      <td>0.302743</td>\n",
       "      <td>0.522428</td>\n",
       "      <td>0.509494</td>\n",
       "    </tr>\n",
       "    <tr>\n",
       "      <th>Precision Score</th>\n",
       "      <td>0.963460</td>\n",
       "      <td>0.312070</td>\n",
       "      <td>0.327061</td>\n",
       "      <td>0.329468</td>\n",
       "    </tr>\n",
       "    <tr>\n",
       "      <th>F1 Score</th>\n",
       "      <td>0.979828</td>\n",
       "      <td>0.307335</td>\n",
       "      <td>0.402279</td>\n",
       "      <td>0.400166</td>\n",
       "    </tr>\n",
       "    <tr>\n",
       "      <th>Accuracy Score</th>\n",
       "      <td>0.988846</td>\n",
       "      <td>0.609989</td>\n",
       "      <td>0.578049</td>\n",
       "      <td>0.563461</td>\n",
       "    </tr>\n",
       "  </tbody>\n",
       "</table>\n",
       "</div>"
      ],
      "text/plain": [
       "                 DTC Train set  DTC Test set  DTC_TUNED Train set  \\\n",
       "Recall Score          0.996763      0.302743             0.522428   \n",
       "Precision Score       0.963460      0.312070             0.327061   \n",
       "F1 Score              0.979828      0.307335             0.402279   \n",
       "Accuracy Score        0.988846      0.609989             0.578049   \n",
       "\n",
       "                 DTC_TUNED Test set  \n",
       "Recall Score               0.509494  \n",
       "Precision Score            0.329468  \n",
       "F1 Score                   0.400166  \n",
       "Accuracy Score             0.563461  "
      ]
     },
     "execution_count": 60,
     "metadata": {},
     "output_type": "execute_result"
    }
   ],
   "source": [
    "dtc_metrics =  compare_base_tuner('DTC', dtc_pipe, dtc_random_search,\n",
    "                                X_train_sel, X_test_sel, y_train, y_test)\n",
    "dtc_metrics"
   ]
  },
  {
   "cell_type": "code",
   "execution_count": 93,
   "metadata": {},
   "outputs": [
    {
     "data": {
      "image/png": "[encoded data removed]",
      "text/plain": [
       "<Figure size 432x288 with 2 Axes>"
      ]
     },
     "metadata": {
      "needs_background": "light"
     },
     "output_type": "display_data"
    }
   ],
   "source": [
    "y_test_pred = dtc_random_search.predict(X_test_sel)\n",
    "plot_confusion_matrix(y_test, y_test_pred)"
   ]
  },
  {
   "cell_type": "markdown",
   "metadata": {
    "id": "9zaLgTm9QmoK"
   },
   "source": [
    "## Random Forest"
   ]
  },
  {
   "cell_type": "code",
   "execution_count": 64,
   "metadata": {
    "id": "f4a4D1I1QpKa"
   },
   "outputs": [
    {
     "name": "stdout",
     "output_type": "stream",
     "text": [
      "CPU times: total: 25.8 s\n",
      "Wall time: 2min 57s\n"
     ]
    },
    {
     "data": {
      "text/html": [
       "<style>#sk-container-id-5 {color: black;}#sk-container-id-5 pre{padding: 0;}#sk-container-id-5 div.sk-toggleable {background-color: white;}#sk-container-id-5 label.sk-toggleable__label {cursor: pointer;display: block;width: 100%;margin-bottom: 0;padding: 0.3em;box-sizing: border-box;text-align: center;}#sk-container-id-5 label.sk-toggleable__label-arrow:before {content: \"▸\";float: left;margin-right: 0.25em;color: #696969;}#sk-container-id-5 label.sk-toggleable__label-arrow:hover:before {color: black;}#sk-container-id-5 div.sk-estimator:hover label.sk-toggleable__label-arrow:before {color: black;}#sk-container-id-5 div.sk-toggleable__content {max-height: 0;max-width: 0;overflow: hidden;text-align: left;background-color: #f0f8ff;}#sk-container-id-5 div.sk-toggleable__content pre {margin: 0.2em;color: black;border-radius: 0.25em;background-color: #f0f8ff;}#sk-container-id-5 input.sk-toggleable__control:checked~div.sk-toggleable__content {max-height: 200px;max-width: 100%;overflow: auto;}#sk-container-id-5 input.sk-toggleable__control:checked~label.sk-toggleable__label-arrow:before {content: \"▾\";}#sk-container-id-5 div.sk-estimator input.sk-toggleable__control:checked~label.sk-toggleable__label {background-color: #d4ebff;}#sk-container-id-5 div.sk-label input.sk-toggleable__control:checked~label.sk-toggleable__label {background-color: #d4ebff;}#sk-container-id-5 input.sk-hidden--visually {border: 0;clip: rect(1px 1px 1px 1px);clip: rect(1px, 1px, 1px, 1px);height: 1px;margin: -1px;overflow: hidden;padding: 0;position: absolute;width: 1px;}#sk-container-id-5 div.sk-estimator {font-family: monospace;background-color: #f0f8ff;border: 1px dotted black;border-radius: 0.25em;box-sizing: border-box;margin-bottom: 0.5em;}#sk-container-id-5 div.sk-estimator:hover {background-color: #d4ebff;}#sk-container-id-5 div.sk-parallel-item::after {content: \"\";width: 100%;border-bottom: 1px solid gray;flex-grow: 1;}#sk-container-id-5 div.sk-label:hover label.sk-toggleable__label {background-color: #d4ebff;}#sk-container-id-5 div.sk-serial::before {content: \"\";position: absolute;border-left: 1px solid gray;box-sizing: border-box;top: 0;bottom: 0;left: 50%;z-index: 0;}#sk-container-id-5 div.sk-serial {display: flex;flex-direction: column;align-items: center;background-color: white;padding-right: 0.2em;padding-left: 0.2em;position: relative;}#sk-container-id-5 div.sk-item {position: relative;z-index: 1;}#sk-container-id-5 div.sk-parallel {display: flex;align-items: stretch;justify-content: center;background-color: white;position: relative;}#sk-container-id-5 div.sk-item::before, #sk-container-id-5 div.sk-parallel-item::before {content: \"\";position: absolute;border-left: 1px solid gray;box-sizing: border-box;top: 0;bottom: 0;left: 50%;z-index: -1;}#sk-container-id-5 div.sk-parallel-item {display: flex;flex-direction: column;z-index: 1;position: relative;background-color: white;}#sk-container-id-5 div.sk-parallel-item:first-child::after {align-self: flex-end;width: 50%;}#sk-container-id-5 div.sk-parallel-item:last-child::after {align-self: flex-start;width: 50%;}#sk-container-id-5 div.sk-parallel-item:only-child::after {width: 0;}#sk-container-id-5 div.sk-dashed-wrapped {border: 1px dashed gray;margin: 0 0.4em 0.5em 0.4em;box-sizing: border-box;padding-bottom: 0.4em;background-color: white;}#sk-container-id-5 div.sk-label label {font-family: monospace;font-weight: bold;display: inline-block;line-height: 1.2em;}#sk-container-id-5 div.sk-label-container {text-align: center;}#sk-container-id-5 div.sk-container {/* jupyter's `normalize.less` sets `[hidden] { display: none; }` but bootstrap.min.css set `[hidden] { display: none !important; }` so we also need the `!important` here to be able to override the default hidden behavior on the sphinx rendered scikit-learn.org. See: https://github.com/scikit-learn/scikit-learn/issues/21755 */display: inline-block !important;position: relative;}#sk-container-id-5 div.sk-text-repr-fallback {display: none;}</style><div id=\"sk-container-id-5\" class=\"sk-top-container\"><div class=\"sk-text-repr-fallback\"><pre>RandomizedSearchCV(cv=10, error_score=0,\n",
       "                   estimator=Pipeline(steps=[(&#x27;sc&#x27;, StandardScaler()),\n",
       "                                             (&#x27;clf&#x27;,\n",
       "                                              RandomForestClassifier(class_weight=&#x27;balanced&#x27;,\n",
       "                                                                     random_state=24))]),\n",
       "                   n_iter=100, n_jobs=-1,\n",
       "                   param_distributions={&#x27;clf__criterion&#x27;: [&#x27;gini&#x27;, &#x27;entropy&#x27;,\n",
       "                                                           &#x27;log_loss&#x27;],\n",
       "                                        &#x27;clf__max_depth&#x27;: &lt;scipy.stats._distn_infrastructure.rv_discrete_frozen object at 0x0000013CB3D3E170&gt;,\n",
       "                                        &#x27;clf__max_features&#x27;: [&#x27;sqrt&#x27;, &#x27;log2&#x27;],\n",
       "                                        &#x27;clf__min_samples_leaf&#x27;: &lt;scipy.stats._distn_infrastructure.rv_discrete_frozen object at 0x0000013CB1E07A30&gt;,\n",
       "                                        &#x27;clf__min_samples_split&#x27;: &lt;scipy.stats._distn_infrastructure.rv_discrete_frozen object at 0x0000013CAED84FA0&gt;},\n",
       "                   random_state=23, return_train_score=True,\n",
       "                   scoring=&#x27;precision&#x27;)</pre><b>In a Jupyter environment, please rerun this cell to show the HTML representation or trust the notebook. <br />On GitHub, the HTML representation is unable to render, please try loading this page with nbviewer.org.</b></div><div class=\"sk-container\" hidden><div class=\"sk-item sk-dashed-wrapped\"><div class=\"sk-label-container\"><div class=\"sk-label sk-toggleable\"><input class=\"sk-toggleable__control sk-hidden--visually\" id=\"sk-estimator-id-17\" type=\"checkbox\" ><label for=\"sk-estimator-id-17\" class=\"sk-toggleable__label sk-toggleable__label-arrow\">RandomizedSearchCV</label><div class=\"sk-toggleable__content\"><pre>RandomizedSearchCV(cv=10, error_score=0,\n",
       "                   estimator=Pipeline(steps=[(&#x27;sc&#x27;, StandardScaler()),\n",
       "                                             (&#x27;clf&#x27;,\n",
       "                                              RandomForestClassifier(class_weight=&#x27;balanced&#x27;,\n",
       "                                                                     random_state=24))]),\n",
       "                   n_iter=100, n_jobs=-1,\n",
       "                   param_distributions={&#x27;clf__criterion&#x27;: [&#x27;gini&#x27;, &#x27;entropy&#x27;,\n",
       "                                                           &#x27;log_loss&#x27;],\n",
       "                                        &#x27;clf__max_depth&#x27;: &lt;scipy.stats._distn_infrastructure.rv_discrete_frozen object at 0x0000013CB3D3E170&gt;,\n",
       "                                        &#x27;clf__max_features&#x27;: [&#x27;sqrt&#x27;, &#x27;log2&#x27;],\n",
       "                                        &#x27;clf__min_samples_leaf&#x27;: &lt;scipy.stats._distn_infrastructure.rv_discrete_frozen object at 0x0000013CB1E07A30&gt;,\n",
       "                                        &#x27;clf__min_samples_split&#x27;: &lt;scipy.stats._distn_infrastructure.rv_discrete_frozen object at 0x0000013CAED84FA0&gt;},\n",
       "                   random_state=23, return_train_score=True,\n",
       "                   scoring=&#x27;precision&#x27;)</pre></div></div></div><div class=\"sk-parallel\"><div class=\"sk-parallel-item\"><div class=\"sk-item\"><div class=\"sk-label-container\"><div class=\"sk-label sk-toggleable\"><input class=\"sk-toggleable__control sk-hidden--visually\" id=\"sk-estimator-id-18\" type=\"checkbox\" ><label for=\"sk-estimator-id-18\" class=\"sk-toggleable__label sk-toggleable__label-arrow\">estimator: Pipeline</label><div class=\"sk-toggleable__content\"><pre>Pipeline(steps=[(&#x27;sc&#x27;, StandardScaler()),\n",
       "                (&#x27;clf&#x27;,\n",
       "                 RandomForestClassifier(class_weight=&#x27;balanced&#x27;,\n",
       "                                        random_state=24))])</pre></div></div></div><div class=\"sk-serial\"><div class=\"sk-item\"><div class=\"sk-serial\"><div class=\"sk-item\"><div class=\"sk-estimator sk-toggleable\"><input class=\"sk-toggleable__control sk-hidden--visually\" id=\"sk-estimator-id-19\" type=\"checkbox\" ><label for=\"sk-estimator-id-19\" class=\"sk-toggleable__label sk-toggleable__label-arrow\">StandardScaler</label><div class=\"sk-toggleable__content\"><pre>StandardScaler()</pre></div></div></div><div class=\"sk-item\"><div class=\"sk-estimator sk-toggleable\"><input class=\"sk-toggleable__control sk-hidden--visually\" id=\"sk-estimator-id-20\" type=\"checkbox\" ><label for=\"sk-estimator-id-20\" class=\"sk-toggleable__label sk-toggleable__label-arrow\">RandomForestClassifier</label><div class=\"sk-toggleable__content\"><pre>RandomForestClassifier(class_weight=&#x27;balanced&#x27;, random_state=24)</pre></div></div></div></div></div></div></div></div></div></div></div></div>"
      ],
      "text/plain": [
       "RandomizedSearchCV(cv=10, error_score=0,\n",
       "                   estimator=Pipeline(steps=[('sc', StandardScaler()),\n",
       "                                             ('clf',\n",
       "                                              RandomForestClassifier(class_weight='balanced',\n",
       "                                                                     random_state=24))]),\n",
       "                   n_iter=100, n_jobs=-1,\n",
       "                   param_distributions={'clf__criterion': ['gini', 'entropy',\n",
       "                                                           'log_loss'],\n",
       "                                        'clf__max_depth': <scipy.stats._distn_infrastructure.rv_discrete_frozen object at 0x0000013CB3D3E170>,\n",
       "                                        'clf__max_features': ['sqrt', 'log2'],\n",
       "                                        'clf__min_samples_leaf': <scipy.stats._distn_infrastructure.rv_discrete_frozen object at 0x0000013CB1E07A30>,\n",
       "                                        'clf__min_samples_split': <scipy.stats._distn_infrastructure.rv_discrete_frozen object at 0x0000013CAED84FA0>},\n",
       "                   random_state=23, return_train_score=True,\n",
       "                   scoring='precision')"
      ]
     },
     "execution_count": 64,
     "metadata": {},
     "output_type": "execute_result"
    }
   ],
   "source": [
    "%%time\n",
    "\n",
    "# creating model\n",
    "model = RandomForestClassifier(class_weight='balanced', random_state=24)\n",
    "pipe = Pipeline([('sc', scaler), ('clf', model)])\n",
    "\n",
    "# define random search space\n",
    "hyperparameter_random = {\n",
    "    'clf__criterion': ['gini', 'entropy', 'log_loss'],\n",
    "    'clf__max_depth': randint(2, 10),\n",
    "    'clf__min_samples_split': randint(2, 11),\n",
    "    'clf__min_samples_leaf': randint(1, 11),\n",
    "    'clf__max_features': ['sqrt', 'log2']\n",
    "}\n",
    "\n",
    "# creating randomized search for precision\n",
    "rfc_random_search = RandomizedSearchCV(estimator=pipe,\n",
    "                                        param_distributions=hyperparameter_random,\n",
    "                                        n_iter=100,  \n",
    "                                        n_jobs=-1,\n",
    "                                        cv=10,\n",
    "                                        scoring='precision',\n",
    "                                        error_score=0,\n",
    "                                        random_state=23,\n",
    "                                        return_train_score=True)\n",
    "# Fit the model to the data\n",
    "rfc_random_search.fit(X_train_sel, y_train)"
   ]
  },
  {
   "cell_type": "code",
   "execution_count": 67,
   "metadata": {
    "id": "gsN-hgaxSkoY"
   },
   "outputs": [
    {
     "data": {
      "text/plain": [
       "{'clf__criterion': 'gini',\n",
       " 'clf__max_depth': 9,\n",
       " 'clf__max_features': 'sqrt',\n",
       " 'clf__min_samples_leaf': 1,\n",
       " 'clf__min_samples_split': 3}"
      ]
     },
     "execution_count": 67,
     "metadata": {},
     "output_type": "execute_result"
    }
   ],
   "source": [
    "rfc_random_search.best_params_"
   ]
  },
  {
   "cell_type": "code",
   "execution_count": 68,
   "metadata": {
    "id": "sXycHM_eSk41"
   },
   "outputs": [
    {
     "data": {
      "text/html": [
       "<div>\n",
       "<style scoped>\n",
       "    .dataframe tbody tr th:only-of-type {\n",
       "        vertical-align: middle;\n",
       "    }\n",
       "\n",
       "    .dataframe tbody tr th {\n",
       "        vertical-align: top;\n",
       "    }\n",
       "\n",
       "    .dataframe thead th {\n",
       "        text-align: right;\n",
       "    }\n",
       "</style>\n",
       "<table border=\"1\" class=\"dataframe\">\n",
       "  <thead>\n",
       "    <tr style=\"text-align: right;\">\n",
       "      <th></th>\n",
       "      <th>RFC Train set</th>\n",
       "      <th>RFC Test set</th>\n",
       "      <th>RFC_TUNED Train set</th>\n",
       "      <th>RFC_TUNED Test set</th>\n",
       "    </tr>\n",
       "  </thead>\n",
       "  <tbody>\n",
       "    <tr>\n",
       "      <th>Recall Score</th>\n",
       "      <td>0.993295</td>\n",
       "      <td>0.084037</td>\n",
       "      <td>0.576416</td>\n",
       "      <td>0.406470</td>\n",
       "    </tr>\n",
       "    <tr>\n",
       "      <th>Precision Score</th>\n",
       "      <td>0.969095</td>\n",
       "      <td>0.388618</td>\n",
       "      <td>0.466679</td>\n",
       "      <td>0.354492</td>\n",
       "    </tr>\n",
       "    <tr>\n",
       "      <th>F1 Score</th>\n",
       "      <td>0.981046</td>\n",
       "      <td>0.138190</td>\n",
       "      <td>0.515775</td>\n",
       "      <td>0.378706</td>\n",
       "    </tr>\n",
       "    <tr>\n",
       "      <th>Accuracy Score</th>\n",
       "      <td>0.989568</td>\n",
       "      <td>0.700432</td>\n",
       "      <td>0.705838</td>\n",
       "      <td>0.618832</td>\n",
       "    </tr>\n",
       "  </tbody>\n",
       "</table>\n",
       "</div>"
      ],
      "text/plain": [
       "                 RFC Train set  RFC Test set  RFC_TUNED Train set  \\\n",
       "Recall Score          0.993295      0.084037             0.576416   \n",
       "Precision Score       0.969095      0.388618             0.466679   \n",
       "F1 Score              0.981046      0.138190             0.515775   \n",
       "Accuracy Score        0.989568      0.700432             0.705838   \n",
       "\n",
       "                 RFC_TUNED Test set  \n",
       "Recall Score               0.406470  \n",
       "Precision Score            0.354492  \n",
       "F1 Score                   0.378706  \n",
       "Accuracy Score             0.618832  "
      ]
     },
     "execution_count": 68,
     "metadata": {},
     "output_type": "execute_result"
    }
   ],
   "source": [
    "rfc_metrics = compare_base_tuner('RFC', rfc_pipe, rfc_random_search,\n",
    "                                X_train_sel, X_test_sel, y_train, y_test)\n",
    "rfc_metrics"
   ]
  },
  {
   "cell_type": "code",
   "execution_count": 92,
   "metadata": {},
   "outputs": [
    {
     "data": {
      "image/png": "[encoded data removed]",
      "text/plain": [
       "<Figure size 432x288 with 2 Axes>"
      ]
     },
     "metadata": {
      "needs_background": "light"
     },
     "output_type": "display_data"
    }
   ],
   "source": [
    "y_test_pred = rfc_random_search.predict(X_test_sel)\n",
    "plot_confusion_matrix(y_test, y_test_pred)"
   ]
  },
  {
   "cell_type": "markdown",
   "metadata": {
    "id": "nkUFXTgyWxND"
   },
   "source": [
    "## XGBoost"
   ]
  },
  {
   "cell_type": "code",
   "execution_count": 79,
   "metadata": {
    "id": "dCA3kA-zVxnc"
   },
   "outputs": [
    {
     "data": {
      "text/html": [
       "<style>#sk-container-id-8 {color: black;}#sk-container-id-8 pre{padding: 0;}#sk-container-id-8 div.sk-toggleable {background-color: white;}#sk-container-id-8 label.sk-toggleable__label {cursor: pointer;display: block;width: 100%;margin-bottom: 0;padding: 0.3em;box-sizing: border-box;text-align: center;}#sk-container-id-8 label.sk-toggleable__label-arrow:before {content: \"▸\";float: left;margin-right: 0.25em;color: #696969;}#sk-container-id-8 label.sk-toggleable__label-arrow:hover:before {color: black;}#sk-container-id-8 div.sk-estimator:hover label.sk-toggleable__label-arrow:before {color: black;}#sk-container-id-8 div.sk-toggleable__content {max-height: 0;max-width: 0;overflow: hidden;text-align: left;background-color: #f0f8ff;}#sk-container-id-8 div.sk-toggleable__content pre {margin: 0.2em;color: black;border-radius: 0.25em;background-color: #f0f8ff;}#sk-container-id-8 input.sk-toggleable__control:checked~div.sk-toggleable__content {max-height: 200px;max-width: 100%;overflow: auto;}#sk-container-id-8 input.sk-toggleable__control:checked~label.sk-toggleable__label-arrow:before {content: \"▾\";}#sk-container-id-8 div.sk-estimator input.sk-toggleable__control:checked~label.sk-toggleable__label {background-color: #d4ebff;}#sk-container-id-8 div.sk-label input.sk-toggleable__control:checked~label.sk-toggleable__label {background-color: #d4ebff;}#sk-container-id-8 input.sk-hidden--visually {border: 0;clip: rect(1px 1px 1px 1px);clip: rect(1px, 1px, 1px, 1px);height: 1px;margin: -1px;overflow: hidden;padding: 0;position: absolute;width: 1px;}#sk-container-id-8 div.sk-estimator {font-family: monospace;background-color: #f0f8ff;border: 1px dotted black;border-radius: 0.25em;box-sizing: border-box;margin-bottom: 0.5em;}#sk-container-id-8 div.sk-estimator:hover {background-color: #d4ebff;}#sk-container-id-8 div.sk-parallel-item::after {content: \"\";width: 100%;border-bottom: 1px solid gray;flex-grow: 1;}#sk-container-id-8 div.sk-label:hover label.sk-toggleable__label {background-color: #d4ebff;}#sk-container-id-8 div.sk-serial::before {content: \"\";position: absolute;border-left: 1px solid gray;box-sizing: border-box;top: 0;bottom: 0;left: 50%;z-index: 0;}#sk-container-id-8 div.sk-serial {display: flex;flex-direction: column;align-items: center;background-color: white;padding-right: 0.2em;padding-left: 0.2em;position: relative;}#sk-container-id-8 div.sk-item {position: relative;z-index: 1;}#sk-container-id-8 div.sk-parallel {display: flex;align-items: stretch;justify-content: center;background-color: white;position: relative;}#sk-container-id-8 div.sk-item::before, #sk-container-id-8 div.sk-parallel-item::before {content: \"\";position: absolute;border-left: 1px solid gray;box-sizing: border-box;top: 0;bottom: 0;left: 50%;z-index: -1;}#sk-container-id-8 div.sk-parallel-item {display: flex;flex-direction: column;z-index: 1;position: relative;background-color: white;}#sk-container-id-8 div.sk-parallel-item:first-child::after {align-self: flex-end;width: 50%;}#sk-container-id-8 div.sk-parallel-item:last-child::after {align-self: flex-start;width: 50%;}#sk-container-id-8 div.sk-parallel-item:only-child::after {width: 0;}#sk-container-id-8 div.sk-dashed-wrapped {border: 1px dashed gray;margin: 0 0.4em 0.5em 0.4em;box-sizing: border-box;padding-bottom: 0.4em;background-color: white;}#sk-container-id-8 div.sk-label label {font-family: monospace;font-weight: bold;display: inline-block;line-height: 1.2em;}#sk-container-id-8 div.sk-label-container {text-align: center;}#sk-container-id-8 div.sk-container {/* jupyter's `normalize.less` sets `[hidden] { display: none; }` but bootstrap.min.css set `[hidden] { display: none !important; }` so we also need the `!important` here to be able to override the default hidden behavior on the sphinx rendered scikit-learn.org. See: https://github.com/scikit-learn/scikit-learn/issues/21755 */display: inline-block !important;position: relative;}#sk-container-id-8 div.sk-text-repr-fallback {display: none;}</style><div id=\"sk-container-id-8\" class=\"sk-top-container\"><div class=\"sk-text-repr-fallback\"><pre>RandomizedSearchCV(cv=10, error_score=0,\n",
       "                   estimator=Pipeline(steps=[(&#x27;sc&#x27;, StandardScaler()),\n",
       "                                             (&#x27;clf&#x27;,\n",
       "                                              XGBClassifier(base_score=None,\n",
       "                                                            booster=None,\n",
       "                                                            callbacks=None,\n",
       "                                                            colsample_bylevel=None,\n",
       "                                                            colsample_bynode=None,\n",
       "                                                            colsample_bytree=None,\n",
       "                                                            device=None,\n",
       "                                                            early_stopping_rounds=None,\n",
       "                                                            enable_categorical=False,\n",
       "                                                            eval_metric=&#x27;logloss&#x27;,\n",
       "                                                            feature_types=None,\n",
       "                                                            gamma=None,\n",
       "                                                            grow_policy=N...\n",
       "                                        &#x27;clf__rate_drop&#x27;: &lt;scipy.stats._distn_infrastructure.rv_continuous_frozen object at 0x0000013CB5E43FD0&gt;,\n",
       "                                        &#x27;clf__skip_drop&#x27;: &lt;scipy.stats._distn_infrastructure.rv_continuous_frozen object at 0x0000013CB1FDA290&gt;,\n",
       "                                        &#x27;clf__subsample&#x27;: &lt;scipy.stats._distn_infrastructure.rv_continuous_frozen object at 0x0000013D19C31480&gt;},\n",
       "                   random_state=23, return_train_score=True,\n",
       "                   scoring=&#x27;precision&#x27;)</pre><b>In a Jupyter environment, please rerun this cell to show the HTML representation or trust the notebook. <br />On GitHub, the HTML representation is unable to render, please try loading this page with nbviewer.org.</b></div><div class=\"sk-container\" hidden><div class=\"sk-item sk-dashed-wrapped\"><div class=\"sk-label-container\"><div class=\"sk-label sk-toggleable\"><input class=\"sk-toggleable__control sk-hidden--visually\" id=\"sk-estimator-id-29\" type=\"checkbox\" ><label for=\"sk-estimator-id-29\" class=\"sk-toggleable__label sk-toggleable__label-arrow\">RandomizedSearchCV</label><div class=\"sk-toggleable__content\"><pre>RandomizedSearchCV(cv=10, error_score=0,\n",
       "                   estimator=Pipeline(steps=[(&#x27;sc&#x27;, StandardScaler()),\n",
       "                                             (&#x27;clf&#x27;,\n",
       "                                              XGBClassifier(base_score=None,\n",
       "                                                            booster=None,\n",
       "                                                            callbacks=None,\n",
       "                                                            colsample_bylevel=None,\n",
       "                                                            colsample_bynode=None,\n",
       "                                                            colsample_bytree=None,\n",
       "                                                            device=None,\n",
       "                                                            early_stopping_rounds=None,\n",
       "                                                            enable_categorical=False,\n",
       "                                                            eval_metric=&#x27;logloss&#x27;,\n",
       "                                                            feature_types=None,\n",
       "                                                            gamma=None,\n",
       "                                                            grow_policy=N...\n",
       "                                        &#x27;clf__rate_drop&#x27;: &lt;scipy.stats._distn_infrastructure.rv_continuous_frozen object at 0x0000013CB5E43FD0&gt;,\n",
       "                                        &#x27;clf__skip_drop&#x27;: &lt;scipy.stats._distn_infrastructure.rv_continuous_frozen object at 0x0000013CB1FDA290&gt;,\n",
       "                                        &#x27;clf__subsample&#x27;: &lt;scipy.stats._distn_infrastructure.rv_continuous_frozen object at 0x0000013D19C31480&gt;},\n",
       "                   random_state=23, return_train_score=True,\n",
       "                   scoring=&#x27;precision&#x27;)</pre></div></div></div><div class=\"sk-parallel\"><div class=\"sk-parallel-item\"><div class=\"sk-item\"><div class=\"sk-label-container\"><div class=\"sk-label sk-toggleable\"><input class=\"sk-toggleable__control sk-hidden--visually\" id=\"sk-estimator-id-30\" type=\"checkbox\" ><label for=\"sk-estimator-id-30\" class=\"sk-toggleable__label sk-toggleable__label-arrow\">estimator: Pipeline</label><div class=\"sk-toggleable__content\"><pre>Pipeline(steps=[(&#x27;sc&#x27;, StandardScaler()),\n",
       "                (&#x27;clf&#x27;,\n",
       "                 XGBClassifier(base_score=None, booster=None, callbacks=None,\n",
       "                               colsample_bylevel=None, colsample_bynode=None,\n",
       "                               colsample_bytree=None, device=None,\n",
       "                               early_stopping_rounds=None,\n",
       "                               enable_categorical=False, eval_metric=&#x27;logloss&#x27;,\n",
       "                               feature_types=None, gamma=None, grow_policy=None,\n",
       "                               importance_type=None,\n",
       "                               interaction_constraints=None, learning_rate=None,\n",
       "                               max_bin=None, max_cat_threshold=None,\n",
       "                               max_cat_to_onehot=None, max_delta_step=None,\n",
       "                               max_depth=None, max_leaves=None,\n",
       "                               min_child_weight=None, missing=nan,\n",
       "                               monotone_constraints=None, multi_strategy=None,\n",
       "                               n_estimators=1000, n_jobs=-1,\n",
       "                               num_parallel_tree=None, random_state=24, ...))])</pre></div></div></div><div class=\"sk-serial\"><div class=\"sk-item\"><div class=\"sk-serial\"><div class=\"sk-item\"><div class=\"sk-estimator sk-toggleable\"><input class=\"sk-toggleable__control sk-hidden--visually\" id=\"sk-estimator-id-31\" type=\"checkbox\" ><label for=\"sk-estimator-id-31\" class=\"sk-toggleable__label sk-toggleable__label-arrow\">StandardScaler</label><div class=\"sk-toggleable__content\"><pre>StandardScaler()</pre></div></div></div><div class=\"sk-item\"><div class=\"sk-estimator sk-toggleable\"><input class=\"sk-toggleable__control sk-hidden--visually\" id=\"sk-estimator-id-32\" type=\"checkbox\" ><label for=\"sk-estimator-id-32\" class=\"sk-toggleable__label sk-toggleable__label-arrow\">XGBClassifier</label><div class=\"sk-toggleable__content\"><pre>XGBClassifier(base_score=None, booster=None, callbacks=None,\n",
       "              colsample_bylevel=None, colsample_bynode=None,\n",
       "              colsample_bytree=None, device=None, early_stopping_rounds=None,\n",
       "              enable_categorical=False, eval_metric=&#x27;logloss&#x27;,\n",
       "              feature_types=None, gamma=None, grow_policy=None,\n",
       "              importance_type=None, interaction_constraints=None,\n",
       "              learning_rate=None, max_bin=None, max_cat_threshold=None,\n",
       "              max_cat_to_onehot=None, max_delta_step=None, max_depth=None,\n",
       "              max_leaves=None, min_child_weight=None, missing=nan,\n",
       "              monotone_constraints=None, multi_strategy=None, n_estimators=1000,\n",
       "              n_jobs=-1, num_parallel_tree=None, random_state=24, ...)</pre></div></div></div></div></div></div></div></div></div></div></div></div>"
      ],
      "text/plain": [
       "RandomizedSearchCV(cv=10, error_score=0,\n",
       "                   estimator=Pipeline(steps=[('sc', StandardScaler()),\n",
       "                                             ('clf',\n",
       "                                              XGBClassifier(base_score=None,\n",
       "                                                            booster=None,\n",
       "                                                            callbacks=None,\n",
       "                                                            colsample_bylevel=None,\n",
       "                                                            colsample_bynode=None,\n",
       "                                                            colsample_bytree=None,\n",
       "                                                            device=None,\n",
       "                                                            early_stopping_rounds=None,\n",
       "                                                            enable_categorical=False,\n",
       "                                                            eval_metric='logloss',\n",
       "                                                            feature_types=None,\n",
       "                                                            gamma=None,\n",
       "                                                            grow_policy=N...\n",
       "                                        'clf__rate_drop': <scipy.stats._distn_infrastructure.rv_continuous_frozen object at 0x0000013CB5E43FD0>,\n",
       "                                        'clf__skip_drop': <scipy.stats._distn_infrastructure.rv_continuous_frozen object at 0x0000013CB1FDA290>,\n",
       "                                        'clf__subsample': <scipy.stats._distn_infrastructure.rv_continuous_frozen object at 0x0000013D19C31480>},\n",
       "                   random_state=23, return_train_score=True,\n",
       "                   scoring='precision')"
      ]
     },
     "execution_count": 79,
     "metadata": {},
     "output_type": "execute_result"
    }
   ],
   "source": [
    "# balancing_param calculation\n",
    "balancing_param = len(y_train[y_train == 0]) / len(y_train[y_train == 1])\n",
    "\n",
    "# creating model\n",
    "model = XGBClassifier(objective = 'binary:logistic',\n",
    "                      eval_metric = 'logloss',\n",
    "                      n_estimators = 1000,\n",
    "                      scale_pos_weight = balancing_param * 1.3, \n",
    "                      random_state = 24,\n",
    "                      n_jobs = -1)\n",
    "\n",
    "pipe = Pipeline([('sc', scaler), ('clf', model)])\n",
    "\n",
    "# define random search space\n",
    "hyperparameter_random = {\n",
    "    'clf__alpha': uniform(0, 1200),\n",
    "    'clf__lambda': uniform(0, 1500),\n",
    "    'clf__gamma': uniform(0, 10),\n",
    "    'clf__max_depth': randint(3, 10),  \n",
    "    'clf__max_delta_step': randint(0, 11),  # 10 + 1 for inclusive range\n",
    "    'clf__subsample': uniform(0.5, 0.5),  # starting from 0.5\n",
    "    'clf__min_child_weight': uniform(0, 120),\n",
    "    'clf__eta': uniform(0.01, 0.89),  # 0.9 - 0.01 for inclusive range\n",
    "    'clf__colsample_bytree': uniform(0.5, 0.5),  # starting from 0.5\n",
    "    'clf__colsample_bynode': uniform(0.1, 0.9),  # starting from 0.1\n",
    "    'clf__colsample_bylevel': uniform(0.1, 0.9),  # starting from 0.1\n",
    "    'clf__rate_drop': uniform(0, 1),\n",
    "    'clf__one_drop': randint(0, 2),  # 1 + 1 for inclusive range\n",
    "    'clf__skip_drop': uniform(0, 1)\n",
    "}\n",
    "\n",
    "# creating randomized search for precision\n",
    "xgb_random_search = RandomizedSearchCV(estimator=pipe,\n",
    "                                        param_distributions=hyperparameter_random,\n",
    "                                        n_iter=100,  # máximo de 100 iteraciones\n",
    "                                        n_jobs=-1,\n",
    "                                        cv=10,\n",
    "                                        scoring='precision',\n",
    "                                        error_score=0,\n",
    "                                        random_state=23,\n",
    "                                        return_train_score=True)\n",
    "\n",
    "# Fit the model to the data\n",
    "xgb_random_search.fit(X_train_sel, y_train)"
   ]
  },
  {
   "cell_type": "code",
   "execution_count": 80,
   "metadata": {
    "id": "j0Hcue6AUM6P"
   },
   "outputs": [
    {
     "data": {
      "text/plain": [
       "{'clf__alpha': 2.2964047317842073,\n",
       " 'clf__colsample_bylevel': 0.14120310328984634,\n",
       " 'clf__colsample_bynode': 0.28180604799634223,\n",
       " 'clf__colsample_bytree': 0.7737307320842972,\n",
       " 'clf__eta': 0.8007786309278301,\n",
       " 'clf__gamma': 0.7552645031202909,\n",
       " 'clf__lambda': 1190.2203630458514,\n",
       " 'clf__max_delta_step': 4,\n",
       " 'clf__max_depth': 8,\n",
       " 'clf__min_child_weight': 75.15663186984013,\n",
       " 'clf__one_drop': 0,\n",
       " 'clf__rate_drop': 0.1552147464040412,\n",
       " 'clf__skip_drop': 0.601118950323519,\n",
       " 'clf__subsample': 0.8690200121507528}"
      ]
     },
     "execution_count": 80,
     "metadata": {},
     "output_type": "execute_result"
    }
   ],
   "source": [
    "xgb_random_search.best_params_"
   ]
  },
  {
   "cell_type": "code",
   "execution_count": 81,
   "metadata": {
    "id": "Jtu98_aVUNH6"
   },
   "outputs": [
    {
     "data": {
      "text/html": [
       "<div>\n",
       "<style scoped>\n",
       "    .dataframe tbody tr th:only-of-type {\n",
       "        vertical-align: middle;\n",
       "    }\n",
       "\n",
       "    .dataframe tbody tr th {\n",
       "        vertical-align: top;\n",
       "    }\n",
       "\n",
       "    .dataframe thead th {\n",
       "        text-align: right;\n",
       "    }\n",
       "</style>\n",
       "<table border=\"1\" class=\"dataframe\">\n",
       "  <thead>\n",
       "    <tr style=\"text-align: right;\">\n",
       "      <th></th>\n",
       "      <th>XGB Train set</th>\n",
       "      <th>XGB Test set</th>\n",
       "      <th>XGB_TUNED Train set</th>\n",
       "      <th>XGB_TUNED Test set</th>\n",
       "    </tr>\n",
       "  </thead>\n",
       "  <tbody>\n",
       "    <tr>\n",
       "      <th>Recall Score</th>\n",
       "      <td>0.943006</td>\n",
       "      <td>0.634318</td>\n",
       "      <td>0.829480</td>\n",
       "      <td>0.755626</td>\n",
       "    </tr>\n",
       "    <tr>\n",
       "      <th>Precision Score</th>\n",
       "      <td>0.445348</td>\n",
       "      <td>0.307902</td>\n",
       "      <td>0.319471</td>\n",
       "      <td>0.302591</td>\n",
       "    </tr>\n",
       "    <tr>\n",
       "      <th>F1 Score</th>\n",
       "      <td>0.604984</td>\n",
       "      <td>0.414570</td>\n",
       "      <td>0.461281</td>\n",
       "      <td>0.432134</td>\n",
       "    </tr>\n",
       "    <tr>\n",
       "      <th>Accuracy Score</th>\n",
       "      <td>0.665305</td>\n",
       "      <td>0.487991</td>\n",
       "      <td>0.473418</td>\n",
       "      <td>0.432419</td>\n",
       "    </tr>\n",
       "  </tbody>\n",
       "</table>\n",
       "</div>"
      ],
      "text/plain": [
       "                 XGB Train set  XGB Test set  XGB_TUNED Train set  \\\n",
       "Recall Score          0.943006      0.634318             0.829480   \n",
       "Precision Score       0.445348      0.307902             0.319471   \n",
       "F1 Score              0.604984      0.414570             0.461281   \n",
       "Accuracy Score        0.665305      0.487991             0.473418   \n",
       "\n",
       "                 XGB_TUNED Test set  \n",
       "Recall Score               0.755626  \n",
       "Precision Score            0.302591  \n",
       "F1 Score                   0.432134  \n",
       "Accuracy Score             0.432419  "
      ]
     },
     "execution_count": 81,
     "metadata": {},
     "output_type": "execute_result"
    }
   ],
   "source": [
    "xgb_metrics = compare_base_tuner('XGB', xgb_pipe, xgb_random_search,\n",
    "                                X_train_sel, X_test_sel, y_train, y_test)\n",
    "xgb_metrics"
   ]
  },
  {
   "cell_type": "code",
   "execution_count": 94,
   "metadata": {},
   "outputs": [
    {
     "data": {
      "image/png": "[encoded data removed]",
      "text/plain": [
       "<Figure size 432x288 with 2 Axes>"
      ]
     },
     "metadata": {
      "needs_background": "light"
     },
     "output_type": "display_data"
    }
   ],
   "source": [
    "y_test_pred = xgb_random_search.predict(X_test_sel)\n",
    "plot_confusion_matrix(y_test, y_test_pred)"
   ]
  },
  {
   "cell_type": "markdown",
   "metadata": {
    "id": "7jiXPNiMStgJ"
   },
   "source": [
    "## LGBM"
   ]
  },
  {
   "cell_type": "code",
   "execution_count": 82,
   "metadata": {
    "id": "P9I8wg7DTYnY",
    "tags": []
   },
   "outputs": [
    {
     "name": "stdout",
     "output_type": "stream",
     "text": [
      "[LightGBM] [Info] Number of positive: 8650, number of negative: 23176\n",
      "[LightGBM] [Info] Auto-choosing row-wise multi-threading, the overhead of testing was 0.000640 seconds.\n",
      "You can set `force_row_wise=true` to remove the overhead.\n",
      "And if memory is not enough, you can set `force_col_wise=true`.\n",
      "[LightGBM] [Info] Total Bins 678\n",
      "[LightGBM] [Info] Number of data points in the train set: 31826, number of used features: 9\n",
      "[LightGBM] [Info] [binary:BoostFromScore]: pavg=0.271790 -> initscore=-0.985558\n",
      "[LightGBM] [Info] Start training from score -0.985558\n",
      "[LightGBM] [Warning] No further splits with positive gain, best gain: -inf\n",
      "[LightGBM] [Warning] No further splits with positive gain, best gain: -inf\n",
      "[LightGBM] [Warning] No further splits with positive gain, best gain: -inf\n",
      "[LightGBM] [Warning] No further splits with positive gain, best gain: -inf\n",
      "[LightGBM] [Warning] No further splits with positive gain, best gain: -inf\n",
      "[LightGBM] [Warning] No further splits with positive gain, best gain: -inf\n",
      "[LightGBM] [Warning] No further splits with positive gain, best gain: -inf\n",
      "[LightGBM] [Warning] No further splits with positive gain, best gain: -inf\n",
      "[LightGBM] [Warning] No further splits with positive gain, best gain: -inf\n",
      "[LightGBM] [Warning] No further splits with positive gain, best gain: -inf\n",
      "[LightGBM] [Warning] No further splits with positive gain, best gain: -inf\n",
      "[LightGBM] [Warning] No further splits with positive gain, best gain: -inf\n",
      "[LightGBM] [Warning] No further splits with positive gain, best gain: -inf\n",
      "[LightGBM] [Warning] No further splits with positive gain, best gain: -inf\n",
      "[LightGBM] [Warning] No further splits with positive gain, best gain: -inf\n",
      "[LightGBM] [Warning] No further splits with positive gain, best gain: -inf\n",
      "[LightGBM] [Warning] No further splits with positive gain, best gain: -inf\n",
      "[LightGBM] [Warning] No further splits with positive gain, best gain: -inf\n",
      "[LightGBM] [Warning] No further splits with positive gain, best gain: -inf\n",
      "[LightGBM] [Warning] No further splits with positive gain, best gain: -inf\n",
      "[LightGBM] [Warning] No further splits with positive gain, best gain: -inf\n",
      "[LightGBM] [Warning] No further splits with positive gain, best gain: -inf\n",
      "[LightGBM] [Warning] No further splits with positive gain, best gain: -inf\n",
      "[LightGBM] [Warning] No further splits with positive gain, best gain: -inf\n",
      "[LightGBM] [Warning] No further splits with positive gain, best gain: -inf\n",
      "[LightGBM] [Warning] No further splits with positive gain, best gain: -inf\n",
      "[LightGBM] [Warning] No further splits with positive gain, best gain: -inf\n",
      "[LightGBM] [Warning] No further splits with positive gain, best gain: -inf\n",
      "[LightGBM] [Warning] No further splits with positive gain, best gain: -inf\n",
      "[LightGBM] [Warning] No further splits with positive gain, best gain: -inf\n",
      "[LightGBM] [Warning] No further splits with positive gain, best gain: -inf\n",
      "[LightGBM] [Warning] No further splits with positive gain, best gain: -inf\n",
      "[LightGBM] [Warning] No further splits with positive gain, best gain: -inf\n",
      "[LightGBM] [Warning] No further splits with positive gain, best gain: -inf\n",
      "[LightGBM] [Warning] No further splits with positive gain, best gain: -inf\n",
      "[LightGBM] [Warning] No further splits with positive gain, best gain: -inf\n",
      "[LightGBM] [Warning] No further splits with positive gain, best gain: -inf\n",
      "[LightGBM] [Warning] No further splits with positive gain, best gain: -inf\n",
      "[LightGBM] [Warning] No further splits with positive gain, best gain: -inf\n",
      "[LightGBM] [Warning] No further splits with positive gain, best gain: -inf\n",
      "[LightGBM] [Warning] No further splits with positive gain, best gain: -inf\n",
      "[LightGBM] [Warning] No further splits with positive gain, best gain: -inf\n",
      "[LightGBM] [Warning] No further splits with positive gain, best gain: -inf\n",
      "[LightGBM] [Warning] No further splits with positive gain, best gain: -inf\n",
      "[LightGBM] [Warning] No further splits with positive gain, best gain: -inf\n",
      "[LightGBM] [Warning] No further splits with positive gain, best gain: -inf\n",
      "[LightGBM] [Warning] No further splits with positive gain, best gain: -inf\n",
      "[LightGBM] [Warning] No further splits with positive gain, best gain: -inf\n",
      "[LightGBM] [Warning] No further splits with positive gain, best gain: -inf\n",
      "[LightGBM] [Warning] No further splits with positive gain, best gain: -inf\n",
      "[LightGBM] [Warning] No further splits with positive gain, best gain: -inf\n",
      "[LightGBM] [Warning] No further splits with positive gain, best gain: -inf\n",
      "[LightGBM] [Warning] No further splits with positive gain, best gain: -inf\n",
      "[LightGBM] [Warning] No further splits with positive gain, best gain: -inf\n",
      "[LightGBM] [Warning] No further splits with positive gain, best gain: -inf\n",
      "[LightGBM] [Warning] No further splits with positive gain, best gain: -inf\n",
      "[LightGBM] [Warning] No further splits with positive gain, best gain: -inf\n",
      "[LightGBM] [Warning] No further splits with positive gain, best gain: -inf\n",
      "[LightGBM] [Warning] No further splits with positive gain, best gain: -inf\n",
      "[LightGBM] [Warning] No further splits with positive gain, best gain: -inf\n",
      "[LightGBM] [Warning] No further splits with positive gain, best gain: -inf\n",
      "[LightGBM] [Warning] No further splits with positive gain, best gain: -inf\n",
      "[LightGBM] [Warning] No further splits with positive gain, best gain: -inf\n",
      "[LightGBM] [Warning] No further splits with positive gain, best gain: -inf\n",
      "[LightGBM] [Warning] No further splits with positive gain, best gain: -inf\n",
      "[LightGBM] [Warning] No further splits with positive gain, best gain: -inf\n",
      "[LightGBM] [Warning] No further splits with positive gain, best gain: -inf\n",
      "[LightGBM] [Warning] No further splits with positive gain, best gain: -inf\n",
      "[LightGBM] [Warning] No further splits with positive gain, best gain: -inf\n",
      "[LightGBM] [Warning] No further splits with positive gain, best gain: -inf\n",
      "[LightGBM] [Warning] No further splits with positive gain, best gain: -inf\n",
      "[LightGBM] [Warning] No further splits with positive gain, best gain: -inf\n",
      "[LightGBM] [Warning] No further splits with positive gain, best gain: -inf\n",
      "[LightGBM] [Warning] No further splits with positive gain, best gain: -inf\n",
      "[LightGBM] [Warning] No further splits with positive gain, best gain: -inf\n",
      "[LightGBM] [Warning] No further splits with positive gain, best gain: -inf\n",
      "[LightGBM] [Warning] No further splits with positive gain, best gain: -inf\n",
      "[LightGBM] [Warning] No further splits with positive gain, best gain: -inf\n",
      "[LightGBM] [Warning] No further splits with positive gain, best gain: -inf\n",
      "[LightGBM] [Warning] No further splits with positive gain, best gain: -inf\n",
      "[LightGBM] [Warning] No further splits with positive gain, best gain: -inf\n",
      "[LightGBM] [Warning] No further splits with positive gain, best gain: -inf\n",
      "[LightGBM] [Warning] No further splits with positive gain, best gain: -inf\n",
      "[LightGBM] [Warning] No further splits with positive gain, best gain: -inf\n",
      "[LightGBM] [Warning] No further splits with positive gain, best gain: -inf\n",
      "[LightGBM] [Warning] No further splits with positive gain, best gain: -inf\n",
      "[LightGBM] [Warning] No further splits with positive gain, best gain: -inf\n",
      "[LightGBM] [Warning] No further splits with positive gain, best gain: -inf\n",
      "[LightGBM] [Warning] No further splits with positive gain, best gain: -inf\n",
      "[LightGBM] [Warning] No further splits with positive gain, best gain: -inf\n",
      "[LightGBM] [Warning] No further splits with positive gain, best gain: -inf\n",
      "[LightGBM] [Warning] No further splits with positive gain, best gain: -inf\n",
      "[LightGBM] [Warning] No further splits with positive gain, best gain: -inf\n",
      "[LightGBM] [Warning] No further splits with positive gain, best gain: -inf\n",
      "[LightGBM] [Warning] No further splits with positive gain, best gain: -inf\n",
      "[LightGBM] [Warning] No further splits with positive gain, best gain: -inf\n",
      "[LightGBM] [Warning] No further splits with positive gain, best gain: -inf\n",
      "[LightGBM] [Warning] No further splits with positive gain, best gain: -inf\n",
      "[LightGBM] [Warning] No further splits with positive gain, best gain: -inf\n",
      "[LightGBM] [Warning] No further splits with positive gain, best gain: -inf\n",
      "[LightGBM] [Warning] No further splits with positive gain, best gain: -inf\n",
      "[LightGBM] [Warning] No further splits with positive gain, best gain: -inf\n",
      "[LightGBM] [Warning] No further splits with positive gain, best gain: -inf\n",
      "[LightGBM] [Warning] No further splits with positive gain, best gain: -inf\n",
      "[LightGBM] [Warning] No further splits with positive gain, best gain: -inf\n",
      "[LightGBM] [Warning] No further splits with positive gain, best gain: -inf\n",
      "[LightGBM] [Warning] No further splits with positive gain, best gain: -inf\n",
      "[LightGBM] [Warning] No further splits with positive gain, best gain: -inf\n",
      "[LightGBM] [Warning] No further splits with positive gain, best gain: -inf\n",
      "[LightGBM] [Warning] No further splits with positive gain, best gain: -inf\n",
      "[LightGBM] [Warning] No further splits with positive gain, best gain: -inf\n",
      "[LightGBM] [Warning] No further splits with positive gain, best gain: -inf\n",
      "[LightGBM] [Warning] No further splits with positive gain, best gain: -inf\n",
      "[LightGBM] [Warning] No further splits with positive gain, best gain: -inf\n",
      "[LightGBM] [Warning] No further splits with positive gain, best gain: -inf\n",
      "[LightGBM] [Warning] No further splits with positive gain, best gain: -inf\n",
      "[LightGBM] [Warning] No further splits with positive gain, best gain: -inf\n",
      "[LightGBM] [Warning] No further splits with positive gain, best gain: -inf\n",
      "[LightGBM] [Warning] No further splits with positive gain, best gain: -inf\n",
      "[LightGBM] [Warning] No further splits with positive gain, best gain: -inf\n",
      "[LightGBM] [Warning] No further splits with positive gain, best gain: -inf\n",
      "[LightGBM] [Warning] No further splits with positive gain, best gain: -inf\n",
      "[LightGBM] [Warning] No further splits with positive gain, best gain: -inf\n",
      "[LightGBM] [Warning] No further splits with positive gain, best gain: -inf\n",
      "[LightGBM] [Warning] No further splits with positive gain, best gain: -inf\n",
      "[LightGBM] [Warning] No further splits with positive gain, best gain: -inf\n",
      "[LightGBM] [Warning] No further splits with positive gain, best gain: -inf\n",
      "[LightGBM] [Warning] No further splits with positive gain, best gain: -inf\n",
      "[LightGBM] [Warning] No further splits with positive gain, best gain: -inf\n",
      "[LightGBM] [Warning] No further splits with positive gain, best gain: -inf\n",
      "[LightGBM] [Warning] No further splits with positive gain, best gain: -inf\n",
      "[LightGBM] [Warning] No further splits with positive gain, best gain: -inf\n",
      "[LightGBM] [Warning] No further splits with positive gain, best gain: -inf\n",
      "[LightGBM] [Warning] No further splits with positive gain, best gain: -inf\n"
     ]
    },
    {
     "data": {
      "text/html": [
       "<style>#sk-container-id-9 {color: black;}#sk-container-id-9 pre{padding: 0;}#sk-container-id-9 div.sk-toggleable {background-color: white;}#sk-container-id-9 label.sk-toggleable__label {cursor: pointer;display: block;width: 100%;margin-bottom: 0;padding: 0.3em;box-sizing: border-box;text-align: center;}#sk-container-id-9 label.sk-toggleable__label-arrow:before {content: \"▸\";float: left;margin-right: 0.25em;color: #696969;}#sk-container-id-9 label.sk-toggleable__label-arrow:hover:before {color: black;}#sk-container-id-9 div.sk-estimator:hover label.sk-toggleable__label-arrow:before {color: black;}#sk-container-id-9 div.sk-toggleable__content {max-height: 0;max-width: 0;overflow: hidden;text-align: left;background-color: #f0f8ff;}#sk-container-id-9 div.sk-toggleable__content pre {margin: 0.2em;color: black;border-radius: 0.25em;background-color: #f0f8ff;}#sk-container-id-9 input.sk-toggleable__control:checked~div.sk-toggleable__content {max-height: 200px;max-width: 100%;overflow: auto;}#sk-container-id-9 input.sk-toggleable__control:checked~label.sk-toggleable__label-arrow:before {content: \"▾\";}#sk-container-id-9 div.sk-estimator input.sk-toggleable__control:checked~label.sk-toggleable__label {background-color: #d4ebff;}#sk-container-id-9 div.sk-label input.sk-toggleable__control:checked~label.sk-toggleable__label {background-color: #d4ebff;}#sk-container-id-9 input.sk-hidden--visually {border: 0;clip: rect(1px 1px 1px 1px);clip: rect(1px, 1px, 1px, 1px);height: 1px;margin: -1px;overflow: hidden;padding: 0;position: absolute;width: 1px;}#sk-container-id-9 div.sk-estimator {font-family: monospace;background-color: #f0f8ff;border: 1px dotted black;border-radius: 0.25em;box-sizing: border-box;margin-bottom: 0.5em;}#sk-container-id-9 div.sk-estimator:hover {background-color: #d4ebff;}#sk-container-id-9 div.sk-parallel-item::after {content: \"\";width: 100%;border-bottom: 1px solid gray;flex-grow: 1;}#sk-container-id-9 div.sk-label:hover label.sk-toggleable__label {background-color: #d4ebff;}#sk-container-id-9 div.sk-serial::before {content: \"\";position: absolute;border-left: 1px solid gray;box-sizing: border-box;top: 0;bottom: 0;left: 50%;z-index: 0;}#sk-container-id-9 div.sk-serial {display: flex;flex-direction: column;align-items: center;background-color: white;padding-right: 0.2em;padding-left: 0.2em;position: relative;}#sk-container-id-9 div.sk-item {position: relative;z-index: 1;}#sk-container-id-9 div.sk-parallel {display: flex;align-items: stretch;justify-content: center;background-color: white;position: relative;}#sk-container-id-9 div.sk-item::before, #sk-container-id-9 div.sk-parallel-item::before {content: \"\";position: absolute;border-left: 1px solid gray;box-sizing: border-box;top: 0;bottom: 0;left: 50%;z-index: -1;}#sk-container-id-9 div.sk-parallel-item {display: flex;flex-direction: column;z-index: 1;position: relative;background-color: white;}#sk-container-id-9 div.sk-parallel-item:first-child::after {align-self: flex-end;width: 50%;}#sk-container-id-9 div.sk-parallel-item:last-child::after {align-self: flex-start;width: 50%;}#sk-container-id-9 div.sk-parallel-item:only-child::after {width: 0;}#sk-container-id-9 div.sk-dashed-wrapped {border: 1px dashed gray;margin: 0 0.4em 0.5em 0.4em;box-sizing: border-box;padding-bottom: 0.4em;background-color: white;}#sk-container-id-9 div.sk-label label {font-family: monospace;font-weight: bold;display: inline-block;line-height: 1.2em;}#sk-container-id-9 div.sk-label-container {text-align: center;}#sk-container-id-9 div.sk-container {/* jupyter's `normalize.less` sets `[hidden] { display: none; }` but bootstrap.min.css set `[hidden] { display: none !important; }` so we also need the `!important` here to be able to override the default hidden behavior on the sphinx rendered scikit-learn.org. See: https://github.com/scikit-learn/scikit-learn/issues/21755 */display: inline-block !important;position: relative;}#sk-container-id-9 div.sk-text-repr-fallback {display: none;}</style><div id=\"sk-container-id-9\" class=\"sk-top-container\"><div class=\"sk-text-repr-fallback\"><pre>RandomizedSearchCV(cv=10, error_score=0,\n",
       "                   estimator=Pipeline(steps=[(&#x27;sc&#x27;, StandardScaler()),\n",
       "                                             (&#x27;clf&#x27;,\n",
       "                                              LGBMClassifier(metric=&#x27;binary_logloss&#x27;,\n",
       "                                                             n_estimators=1000,\n",
       "                                                             n_jobs=-1,\n",
       "                                                             objective=&#x27;binary&#x27;,\n",
       "                                                             random_state=24,\n",
       "                                                             scale_pos_weight=3.483098265895954))]),\n",
       "                   n_iter=100, n_jobs=-1,\n",
       "                   param_distributions={&#x27;clf__learning_rate&#x27;: &lt;scipy.stats._distn_infrastructure.rv_continuous_f...\n",
       "                                        &#x27;clf__reg_alpha&#x27;: &lt;scipy.stats._distn_infrastructure.rv_continuous_frozen object at 0x0000013CB1DFE7D0&gt;,\n",
       "                                        &#x27;clf__reg_lambda&#x27;: &lt;scipy.stats._distn_infrastructure.rv_continuous_frozen object at 0x0000013CB1DAFDC0&gt;,\n",
       "                                        &#x27;clf__subsample&#x27;: &lt;scipy.stats._distn_infrastructure.rv_continuous_frozen object at 0x0000013D197AE440&gt;},\n",
       "                   random_state=23, return_train_score=True,\n",
       "                   scoring=&#x27;precision&#x27;)</pre><b>In a Jupyter environment, please rerun this cell to show the HTML representation or trust the notebook. <br />On GitHub, the HTML representation is unable to render, please try loading this page with nbviewer.org.</b></div><div class=\"sk-container\" hidden><div class=\"sk-item sk-dashed-wrapped\"><div class=\"sk-label-container\"><div class=\"sk-label sk-toggleable\"><input class=\"sk-toggleable__control sk-hidden--visually\" id=\"sk-estimator-id-33\" type=\"checkbox\" ><label for=\"sk-estimator-id-33\" class=\"sk-toggleable__label sk-toggleable__label-arrow\">RandomizedSearchCV</label><div class=\"sk-toggleable__content\"><pre>RandomizedSearchCV(cv=10, error_score=0,\n",
       "                   estimator=Pipeline(steps=[(&#x27;sc&#x27;, StandardScaler()),\n",
       "                                             (&#x27;clf&#x27;,\n",
       "                                              LGBMClassifier(metric=&#x27;binary_logloss&#x27;,\n",
       "                                                             n_estimators=1000,\n",
       "                                                             n_jobs=-1,\n",
       "                                                             objective=&#x27;binary&#x27;,\n",
       "                                                             random_state=24,\n",
       "                                                             scale_pos_weight=3.483098265895954))]),\n",
       "                   n_iter=100, n_jobs=-1,\n",
       "                   param_distributions={&#x27;clf__learning_rate&#x27;: &lt;scipy.stats._distn_infrastructure.rv_continuous_f...\n",
       "                                        &#x27;clf__reg_alpha&#x27;: &lt;scipy.stats._distn_infrastructure.rv_continuous_frozen object at 0x0000013CB1DFE7D0&gt;,\n",
       "                                        &#x27;clf__reg_lambda&#x27;: &lt;scipy.stats._distn_infrastructure.rv_continuous_frozen object at 0x0000013CB1DAFDC0&gt;,\n",
       "                                        &#x27;clf__subsample&#x27;: &lt;scipy.stats._distn_infrastructure.rv_continuous_frozen object at 0x0000013D197AE440&gt;},\n",
       "                   random_state=23, return_train_score=True,\n",
       "                   scoring=&#x27;precision&#x27;)</pre></div></div></div><div class=\"sk-parallel\"><div class=\"sk-parallel-item\"><div class=\"sk-item\"><div class=\"sk-label-container\"><div class=\"sk-label sk-toggleable\"><input class=\"sk-toggleable__control sk-hidden--visually\" id=\"sk-estimator-id-34\" type=\"checkbox\" ><label for=\"sk-estimator-id-34\" class=\"sk-toggleable__label sk-toggleable__label-arrow\">estimator: Pipeline</label><div class=\"sk-toggleable__content\"><pre>Pipeline(steps=[(&#x27;sc&#x27;, StandardScaler()),\n",
       "                (&#x27;clf&#x27;,\n",
       "                 LGBMClassifier(metric=&#x27;binary_logloss&#x27;, n_estimators=1000,\n",
       "                                n_jobs=-1, objective=&#x27;binary&#x27;, random_state=24,\n",
       "                                scale_pos_weight=3.483098265895954))])</pre></div></div></div><div class=\"sk-serial\"><div class=\"sk-item\"><div class=\"sk-serial\"><div class=\"sk-item\"><div class=\"sk-estimator sk-toggleable\"><input class=\"sk-toggleable__control sk-hidden--visually\" id=\"sk-estimator-id-35\" type=\"checkbox\" ><label for=\"sk-estimator-id-35\" class=\"sk-toggleable__label sk-toggleable__label-arrow\">StandardScaler</label><div class=\"sk-toggleable__content\"><pre>StandardScaler()</pre></div></div></div><div class=\"sk-item\"><div class=\"sk-estimator sk-toggleable\"><input class=\"sk-toggleable__control sk-hidden--visually\" id=\"sk-estimator-id-36\" type=\"checkbox\" ><label for=\"sk-estimator-id-36\" class=\"sk-toggleable__label sk-toggleable__label-arrow\">LGBMClassifier</label><div class=\"sk-toggleable__content\"><pre>LGBMClassifier(metric=&#x27;binary_logloss&#x27;, n_estimators=1000, n_jobs=-1,\n",
       "               objective=&#x27;binary&#x27;, random_state=24,\n",
       "               scale_pos_weight=3.483098265895954)</pre></div></div></div></div></div></div></div></div></div></div></div></div>"
      ],
      "text/plain": [
       "RandomizedSearchCV(cv=10, error_score=0,\n",
       "                   estimator=Pipeline(steps=[('sc', StandardScaler()),\n",
       "                                             ('clf',\n",
       "                                              LGBMClassifier(metric='binary_logloss',\n",
       "                                                             n_estimators=1000,\n",
       "                                                             n_jobs=-1,\n",
       "                                                             objective='binary',\n",
       "                                                             random_state=24,\n",
       "                                                             scale_pos_weight=3.483098265895954))]),\n",
       "                   n_iter=100, n_jobs=-1,\n",
       "                   param_distributions={'clf__learning_rate': <scipy.stats._distn_infrastructure.rv_continuous_f...\n",
       "                                        'clf__reg_alpha': <scipy.stats._distn_infrastructure.rv_continuous_frozen object at 0x0000013CB1DFE7D0>,\n",
       "                                        'clf__reg_lambda': <scipy.stats._distn_infrastructure.rv_continuous_frozen object at 0x0000013CB1DAFDC0>,\n",
       "                                        'clf__subsample': <scipy.stats._distn_infrastructure.rv_continuous_frozen object at 0x0000013D197AE440>},\n",
       "                   random_state=23, return_train_score=True,\n",
       "                   scoring='precision')"
      ]
     },
     "execution_count": 82,
     "metadata": {},
     "output_type": "execute_result"
    }
   ],
   "source": [
    "# balancing_param calculation\n",
    "balancing_param = len(y_train[y_train == 0]) / len(y_train[y_train == 1])\n",
    "# creating model\n",
    "model = LGBMClassifier(objective = 'binary',\n",
    "                       metric = 'binary_logloss',\n",
    "                       scale_pos_weight = ratio * 1.3,\n",
    "                       n_estimators = 1000,\n",
    "                       random_state = 24, \n",
    "                       n_jobs = -1)\n",
    "pipe = Pipeline([('sc', scaler), ('clf', model)])\n",
    "\n",
    "# define search space for Bayesian optimization\n",
    "hyperparameter_ranges = {\n",
    "    'clf__reg_alpha': uniform(0, 1200),\n",
    "    'clf__reg_lambda': uniform(0, 1200),\n",
    "    'clf__num_leaves': randint(2, 101),  # 100 + 1 for inclusive range\n",
    "    'clf__max_depth': randint(0, 13),  # 12 + 1 for inclusive range\n",
    "    'clf__learning_rate': uniform(0.001, 0.1),\n",
    "    'clf__subsample': uniform(0.5, 1),\n",
    "    'clf__n_estimators': randint(50, 151),  # 150 + 1 for inclusive range\n",
    "}\n",
    "\n",
    "# creating randomized search for recall\n",
    "lgbm_random_search = RandomizedSearchCV(estimator=pipe,\n",
    "                                       param_distributions=hyperparameter_ranges,\n",
    "                                       n_iter=100,  # máximo de 100 iteraciones\n",
    "                                       n_jobs=-1,\n",
    "                                       cv=10,\n",
    "                                       scoring='precision',\n",
    "                                       error_score=0,\n",
    "                                       random_state=23,\n",
    "                                       return_train_score=True)\n",
    "\n",
    "# Fit the model to the data\n",
    "lgbm_random_search.fit(X_train_sel, y_train)"
   ]
  },
  {
   "cell_type": "code",
   "execution_count": 83,
   "metadata": {
    "id": "dJw4JWVKUu8h"
   },
   "outputs": [
    {
     "data": {
      "text/plain": [
       "{'clf__learning_rate': 0.03156001857108461,\n",
       " 'clf__max_depth': 6,\n",
       " 'clf__n_estimators': 134,\n",
       " 'clf__num_leaves': 89,\n",
       " 'clf__reg_alpha': 7.713959440012408,\n",
       " 'clf__reg_lambda': 55.95585403403183,\n",
       " 'clf__subsample': 0.9187424000059132}"
      ]
     },
     "execution_count": 83,
     "metadata": {},
     "output_type": "execute_result"
    }
   ],
   "source": [
    "lgbm_random_search.best_params_"
   ]
  },
  {
   "cell_type": "code",
   "execution_count": 84,
   "metadata": {
    "id": "-lHHLeHqUvPp"
   },
   "outputs": [
    {
     "data": {
      "text/html": [
       "<div>\n",
       "<style scoped>\n",
       "    .dataframe tbody tr th:only-of-type {\n",
       "        vertical-align: middle;\n",
       "    }\n",
       "\n",
       "    .dataframe tbody tr th {\n",
       "        vertical-align: top;\n",
       "    }\n",
       "\n",
       "    .dataframe thead th {\n",
       "        text-align: right;\n",
       "    }\n",
       "</style>\n",
       "<table border=\"1\" class=\"dataframe\">\n",
       "  <thead>\n",
       "    <tr style=\"text-align: right;\">\n",
       "      <th></th>\n",
       "      <th>LGBM Train set</th>\n",
       "      <th>LGBM Test set</th>\n",
       "      <th>LGBM_TUNED Train set</th>\n",
       "      <th>LGBM_TUNED Test set</th>\n",
       "    </tr>\n",
       "  </thead>\n",
       "  <tbody>\n",
       "    <tr>\n",
       "      <th>Recall Score</th>\n",
       "      <td>0.961734</td>\n",
       "      <td>0.822785</td>\n",
       "      <td>0.871561</td>\n",
       "      <td>0.835091</td>\n",
       "    </tr>\n",
       "    <tr>\n",
       "      <th>Precision Score</th>\n",
       "      <td>0.335931</td>\n",
       "      <td>0.298127</td>\n",
       "      <td>0.303356</td>\n",
       "      <td>0.300861</td>\n",
       "    </tr>\n",
       "    <tr>\n",
       "      <th>F1 Score</th>\n",
       "      <td>0.497935</td>\n",
       "      <td>0.437670</td>\n",
       "      <td>0.450063</td>\n",
       "      <td>0.442354</td>\n",
       "    </tr>\n",
       "    <tr>\n",
       "      <th>Accuracy Score</th>\n",
       "      <td>0.472884</td>\n",
       "      <td>0.395739</td>\n",
       "      <td>0.421102</td>\n",
       "      <td>0.398251</td>\n",
       "    </tr>\n",
       "  </tbody>\n",
       "</table>\n",
       "</div>"
      ],
      "text/plain": [
       "                 LGBM Train set  LGBM Test set  LGBM_TUNED Train set  \\\n",
       "Recall Score           0.961734       0.822785              0.871561   \n",
       "Precision Score        0.335931       0.298127              0.303356   \n",
       "F1 Score               0.497935       0.437670              0.450063   \n",
       "Accuracy Score         0.472884       0.395739              0.421102   \n",
       "\n",
       "                 LGBM_TUNED Test set  \n",
       "Recall Score                0.835091  \n",
       "Precision Score             0.300861  \n",
       "F1 Score                    0.442354  \n",
       "Accuracy Score              0.398251  "
      ]
     },
     "execution_count": 84,
     "metadata": {},
     "output_type": "execute_result"
    }
   ],
   "source": [
    "lgbm_metrics = compare_base_tuner('LGBM', lgbm_pipe, lgbm_random_search,\n",
    "                                X_train_sel, X_test_sel, y_train, y_test)\n",
    "lgbm_metrics"
   ]
  },
  {
   "cell_type": "code",
   "execution_count": 95,
   "metadata": {},
   "outputs": [
    {
     "data": {
      "image/png": "[encoded data removed]",
      "text/plain": [
       "<Figure size 432x288 with 2 Axes>"
      ]
     },
     "metadata": {
      "needs_background": "light"
     },
     "output_type": "display_data"
    }
   ],
   "source": [
    "y_test_pred = lgbm_random_search.predict(X_test_sel)\n",
    "plot_confusion_matrix(y_test, y_test_pred)"
   ]
  },
  {
   "cell_type": "markdown",
   "metadata": {},
   "source": [
    "# Evaluating XGBoost and LightBGM"
   ]
  },
  {
   "cell_type": "markdown",
   "metadata": {},
   "source": [
    "It can ben seen that XGBoost and LightGBM have the highest balanced between Recall and Precision from the hyperparameters tuning"
   ]
  },
  {
   "cell_type": "code",
   "execution_count": 105,
   "metadata": {},
   "outputs": [],
   "source": [
    "def plot_precision_recall_vs_threshold(precisions, recalls, thresholds):\n",
    "    plt.plot(thresholds, precisions[:-1], 'b--', label = 'Precision', linewidth = 2)\n",
    "    plt.plot(thresholds, recalls[:-1], 'g--', label = 'Recall', linewidth = 2)\n",
    "    plt.legend(loc = 'center right', fontsize = 16)\n",
    "    plt.xlabel('Threshold', fontsize = 16)\n",
    "    plt.grid(True)\n",
    "    plt.show()\n",
    "\n",
    "def plot_precision_vs_recall(precisions, recalls):\n",
    "    plt.plot(recalls, precisions, 'b--', linewidth = 2)\n",
    "    plt.xlabel('Recall', fontsize = 16)\n",
    "    plt.ylabel('Precision', fontsize = 16)\n",
    "    plt.axis([0, 1, 0, 1])\n",
    "    plt.grid(True)\n",
    "    plt.show()"
   ]
  },
  {
   "cell_type": "markdown",
   "metadata": {},
   "source": [
    "## XGBoost"
   ]
  },
  {
   "cell_type": "code",
   "execution_count": 106,
   "metadata": {},
   "outputs": [
    {
     "data": {
      "image/png": "[encoded data removed]",
      "text/plain": [
       "<Figure size 576x288 with 1 Axes>"
      ]
     },
     "metadata": {
      "needs_background": "light"
     },
     "output_type": "display_data"
    },
    {
     "data": {
      "image/png": "[encoded data removed]",
      "text/plain": [
       "<Figure size 432x288 with 1 Axes>"
      ]
     },
     "metadata": {
      "needs_background": "light"
     },
     "output_type": "display_data"
    }
   ],
   "source": [
    "y_train_probs = xgb_random_search.predict_proba(X_train_sel)[:, 1]\n",
    "precisions, recalls, thresholds = precision_recall_curve(y_train, y_train_probs)\n",
    "\n",
    "plt.figure(figsize = (8, 4))\n",
    "plot_precision_recall_vs_threshold(precisions, recalls, thresholds)\n",
    "plot_precision_vs_recall(precisions, recalls)"
   ]
  },
  {
   "cell_type": "markdown",
   "metadata": {},
   "source": [
    "## LightGBM"
   ]
  },
  {
   "cell_type": "code",
   "execution_count": 107,
   "metadata": {},
   "outputs": [
    {
     "data": {
      "image/png": "[encoded data removed]",
      "text/plain": [
       "<Figure size 576x288 with 1 Axes>"
      ]
     },
     "metadata": {
      "needs_background": "light"
     },
     "output_type": "display_data"
    },
    {
     "data": {
      "image/png": "[encoded data removed]",
      "text/plain": [
       "<Figure size 432x288 with 1 Axes>"
      ]
     },
     "metadata": {
      "needs_background": "light"
     },
     "output_type": "display_data"
    }
   ],
   "source": [
    "y_train_probs = lgbm_random_search.predict_proba(X_train_sel)[:, 1]\n",
    "precisions, recalls, thresholds = precision_recall_curve(y_train, y_train_probs)\n",
    "\n",
    "plt.figure(figsize = (8, 4))\n",
    "plot_precision_recall_vs_threshold(precisions, recalls, thresholds)\n",
    "plot_precision_vs_recall(precisions, recalls)"
   ]
  }
 ],
 "metadata": {
  "accelerator": "GPU",
  "colab": {
   "gpuType": "T4",
   "provenance": []
  },
  "kernelspec": {
   "display_name": "Python 3",
   "language": "python",
   "name": "python3"
  },
  "language_info": {
   "codemirror_mode": {
    "name": "ipython",
    "version": 3
   },
   "file_extension": ".py",
   "mimetype": "text/x-python",
   "name": "python",
   "nbconvert_exporter": "python",
   "pygments_lexer": "ipython3",
   "version": "3.10.13"
  }
 },
 "nbformat": 4,
 "nbformat_minor": 4
}
