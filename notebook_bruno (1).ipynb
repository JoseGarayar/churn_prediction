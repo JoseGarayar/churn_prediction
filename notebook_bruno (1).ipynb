{
  "cells": [
    {
      "cell_type": "markdown",
      "metadata": {
        "id": "9caqdLmcVxnG"
      },
      "source": [
        "# Preprocessing"
      ]
    },
    {
      "cell_type": "markdown",
      "metadata": {
        "id": "E7qxLjzvVxnJ"
      },
      "source": [
        "Importing needed libraries"
      ]
    },
    {
      "cell_type": "code",
      "execution_count": 1,
      "metadata": {
        "id": "rYzhekMKVxnK"
      },
      "outputs": [],
      "source": [
        "import pandas as pd\n",
        "import numpy as np\n",
        "import seaborn as sns\n",
        "import matplotlib.pyplot as plt\n",
        "import dask\n",
        "import joblib\n",
        "import warnings\n",
        "from dask.distributed import LocalCluster, Client\n",
        "from sklearn.model_selection import train_test_split\n",
        "from sklearn.base import BaseEstimator, TransformerMixin\n",
        "from sklearn.pipeline import Pipeline, make_pipeline\n",
        "from sklearn.impute import SimpleImputer\n",
        "from sklearn.compose import ColumnTransformer\n",
        "from sklearn.preprocessing import StandardScaler, OneHotEncoder, LabelEncoder, TargetEncoder\n",
        "from sklearn.base import TransformerMixin\n",
        "from sklearn.linear_model import LogisticRegression\n",
        "from sklearn.cluster import DBSCAN\n",
        "from sklearn.neighbors import KNeighborsClassifier\n",
        "from sklearn.tree import DecisionTreeClassifier\n",
        "from sklearn.ensemble import RandomForestClassifier\n",
        "from sklearn.neural_network import MLPClassifier\n",
        "from xgboost import XGBClassifier\n",
        "from lightgbm import LGBMClassifier\n",
        "from sklearn.metrics import roc_auc_score, recall_score, precision_score, accuracy_score, f1_score\n",
        "from skopt import BayesSearchCV\n",
        "from skopt.space import Real, Categorical, Integer\n",
        "from umap import UMAP\n",
        "warnings.filterwarnings('ignore')"
      ]
    },
    {
      "cell_type": "markdown",
      "metadata": {
        "id": "c83L54HsVxnL"
      },
      "source": [
        "Initialize cluster"
      ]
    },
    {
      "cell_type": "code",
      "execution_count": 2,
      "metadata": {
        "colab": {
          "base_uri": "https://localhost:8080/"
        },
        "id": "hd0Q3ZE9VxnM",
        "outputId": "1b8c5c3a-5fd9-4b5b-a8c1-6ea7b77c09a8"
      },
      "outputs": [],
      "source": [
        "cluster = LocalCluster(n_workers = 4, threads_per_worker = 1, memory_limit = '6GB')\n",
        "client = Client(cluster)"
      ]
    },
    {
      "cell_type": "markdown",
      "metadata": {
        "id": "kF53zS0vVxnM"
      },
      "source": [
        "Reading csv file"
      ]
    },
    {
      "cell_type": "code",
      "execution_count": 5,
      "metadata": {
        "colab": {
          "base_uri": "https://localhost:8080/",
          "height": 256
        },
        "id": "F6wzJmNNVxnN",
        "outputId": "91759bb0-79ca-4ef7-dae3-f3c9c04ed695"
      },
      "outputs": [
        {
          "data": {
            "text/html": [
              "<div>\n",
              "<style scoped>\n",
              "    .dataframe tbody tr th:only-of-type {\n",
              "        vertical-align: middle;\n",
              "    }\n",
              "\n",
              "    .dataframe tbody tr th {\n",
              "        vertical-align: top;\n",
              "    }\n",
              "\n",
              "    .dataframe thead th {\n",
              "        text-align: right;\n",
              "    }\n",
              "</style>\n",
              "<table border=\"1\" class=\"dataframe\">\n",
              "  <thead>\n",
              "    <tr style=\"text-align: right;\">\n",
              "      <th></th>\n",
              "      <th>CustomerID</th>\n",
              "      <th>Churn</th>\n",
              "      <th>MonthlyRevenue</th>\n",
              "      <th>MonthlyMinutes</th>\n",
              "      <th>TotalRecurringCharge</th>\n",
              "      <th>DirectorAssistedCalls</th>\n",
              "      <th>OverageMinutes</th>\n",
              "      <th>RoamingCalls</th>\n",
              "      <th>PercChangeMinutes</th>\n",
              "      <th>PercChangeRevenues</th>\n",
              "      <th>...</th>\n",
              "      <th>ReferralsMadeBySubscriber</th>\n",
              "      <th>IncomeGroup</th>\n",
              "      <th>OwnsMotorcycle</th>\n",
              "      <th>AdjustmentsToCreditRating</th>\n",
              "      <th>HandsetPrice</th>\n",
              "      <th>MadeCallToRetentionTeam</th>\n",
              "      <th>CreditRating</th>\n",
              "      <th>PrizmCode</th>\n",
              "      <th>Occupation</th>\n",
              "      <th>MaritalStatus</th>\n",
              "    </tr>\n",
              "  </thead>\n",
              "  <tbody>\n",
              "    <tr>\n",
              "      <th>0</th>\n",
              "      <td>3000002</td>\n",
              "      <td>Yes</td>\n",
              "      <td>24.00</td>\n",
              "      <td>219.0</td>\n",
              "      <td>22.0</td>\n",
              "      <td>0.25</td>\n",
              "      <td>0.0</td>\n",
              "      <td>0.0</td>\n",
              "      <td>-157.0</td>\n",
              "      <td>-19.0</td>\n",
              "      <td>...</td>\n",
              "      <td>0</td>\n",
              "      <td>4</td>\n",
              "      <td>No</td>\n",
              "      <td>0</td>\n",
              "      <td>30</td>\n",
              "      <td>Yes</td>\n",
              "      <td>1-Highest</td>\n",
              "      <td>Suburban</td>\n",
              "      <td>Professional</td>\n",
              "      <td>No</td>\n",
              "    </tr>\n",
              "    <tr>\n",
              "      <th>1</th>\n",
              "      <td>3000010</td>\n",
              "      <td>Yes</td>\n",
              "      <td>16.99</td>\n",
              "      <td>10.0</td>\n",
              "      <td>17.0</td>\n",
              "      <td>0.00</td>\n",
              "      <td>0.0</td>\n",
              "      <td>0.0</td>\n",
              "      <td>-4.0</td>\n",
              "      <td>0.0</td>\n",
              "      <td>...</td>\n",
              "      <td>0</td>\n",
              "      <td>5</td>\n",
              "      <td>No</td>\n",
              "      <td>0</td>\n",
              "      <td>30</td>\n",
              "      <td>No</td>\n",
              "      <td>4-Medium</td>\n",
              "      <td>Suburban</td>\n",
              "      <td>Professional</td>\n",
              "      <td>Yes</td>\n",
              "    </tr>\n",
              "    <tr>\n",
              "      <th>2</th>\n",
              "      <td>3000014</td>\n",
              "      <td>No</td>\n",
              "      <td>38.00</td>\n",
              "      <td>8.0</td>\n",
              "      <td>38.0</td>\n",
              "      <td>0.00</td>\n",
              "      <td>0.0</td>\n",
              "      <td>0.0</td>\n",
              "      <td>-2.0</td>\n",
              "      <td>0.0</td>\n",
              "      <td>...</td>\n",
              "      <td>0</td>\n",
              "      <td>6</td>\n",
              "      <td>No</td>\n",
              "      <td>0</td>\n",
              "      <td>Unknown</td>\n",
              "      <td>No</td>\n",
              "      <td>3-Good</td>\n",
              "      <td>Town</td>\n",
              "      <td>Crafts</td>\n",
              "      <td>Yes</td>\n",
              "    </tr>\n",
              "    <tr>\n",
              "      <th>3</th>\n",
              "      <td>3000022</td>\n",
              "      <td>No</td>\n",
              "      <td>82.28</td>\n",
              "      <td>1312.0</td>\n",
              "      <td>75.0</td>\n",
              "      <td>1.24</td>\n",
              "      <td>0.0</td>\n",
              "      <td>0.0</td>\n",
              "      <td>157.0</td>\n",
              "      <td>8.1</td>\n",
              "      <td>...</td>\n",
              "      <td>0</td>\n",
              "      <td>6</td>\n",
              "      <td>No</td>\n",
              "      <td>0</td>\n",
              "      <td>10</td>\n",
              "      <td>No</td>\n",
              "      <td>4-Medium</td>\n",
              "      <td>Other</td>\n",
              "      <td>Other</td>\n",
              "      <td>No</td>\n",
              "    </tr>\n",
              "    <tr>\n",
              "      <th>4</th>\n",
              "      <td>3000026</td>\n",
              "      <td>Yes</td>\n",
              "      <td>17.14</td>\n",
              "      <td>0.0</td>\n",
              "      <td>17.0</td>\n",
              "      <td>0.00</td>\n",
              "      <td>0.0</td>\n",
              "      <td>0.0</td>\n",
              "      <td>0.0</td>\n",
              "      <td>-0.2</td>\n",
              "      <td>...</td>\n",
              "      <td>0</td>\n",
              "      <td>9</td>\n",
              "      <td>No</td>\n",
              "      <td>1</td>\n",
              "      <td>10</td>\n",
              "      <td>No</td>\n",
              "      <td>1-Highest</td>\n",
              "      <td>Other</td>\n",
              "      <td>Professional</td>\n",
              "      <td>Yes</td>\n",
              "    </tr>\n",
              "  </tbody>\n",
              "</table>\n",
              "<p>5 rows × 58 columns</p>\n",
              "</div>"
            ],
            "text/plain": [
              "   CustomerID Churn  MonthlyRevenue  MonthlyMinutes  TotalRecurringCharge  \\\n",
              "0     3000002   Yes           24.00           219.0                  22.0   \n",
              "1     3000010   Yes           16.99            10.0                  17.0   \n",
              "2     3000014    No           38.00             8.0                  38.0   \n",
              "3     3000022    No           82.28          1312.0                  75.0   \n",
              "4     3000026   Yes           17.14             0.0                  17.0   \n",
              "\n",
              "   DirectorAssistedCalls  OverageMinutes  RoamingCalls  PercChangeMinutes  \\\n",
              "0                   0.25             0.0           0.0             -157.0   \n",
              "1                   0.00             0.0           0.0               -4.0   \n",
              "2                   0.00             0.0           0.0               -2.0   \n",
              "3                   1.24             0.0           0.0              157.0   \n",
              "4                   0.00             0.0           0.0                0.0   \n",
              "\n",
              "   PercChangeRevenues  ...  ReferralsMadeBySubscriber  IncomeGroup  \\\n",
              "0               -19.0  ...                          0            4   \n",
              "1                 0.0  ...                          0            5   \n",
              "2                 0.0  ...                          0            6   \n",
              "3                 8.1  ...                          0            6   \n",
              "4                -0.2  ...                          0            9   \n",
              "\n",
              "   OwnsMotorcycle  AdjustmentsToCreditRating  HandsetPrice  \\\n",
              "0              No                          0            30   \n",
              "1              No                          0            30   \n",
              "2              No                          0       Unknown   \n",
              "3              No                          0            10   \n",
              "4              No                          1            10   \n",
              "\n",
              "   MadeCallToRetentionTeam  CreditRating  PrizmCode    Occupation  \\\n",
              "0                      Yes     1-Highest   Suburban  Professional   \n",
              "1                       No      4-Medium   Suburban  Professional   \n",
              "2                       No        3-Good       Town        Crafts   \n",
              "3                       No      4-Medium      Other         Other   \n",
              "4                       No     1-Highest      Other  Professional   \n",
              "\n",
              "   MaritalStatus  \n",
              "0             No  \n",
              "1            Yes  \n",
              "2            Yes  \n",
              "3             No  \n",
              "4            Yes  \n",
              "\n",
              "[5 rows x 58 columns]"
            ]
          },
          "execution_count": 5,
          "metadata": {},
          "output_type": "execute_result"
        }
      ],
      "source": [
        "df = pd.read_csv('datasets/Churn.csv', low_memory = False)\n",
        "df.head()"
      ]
    },
    {
      "cell_type": "markdown",
      "metadata": {
        "id": "XB4cA-UqVxnN"
      },
      "source": [
        "Checking dtypes"
      ]
    },
    {
      "cell_type": "code",
      "execution_count": 6,
      "metadata": {
        "colab": {
          "base_uri": "https://localhost:8080/"
        },
        "id": "PQlhca73VxnN",
        "outputId": "61f713c5-f33a-4144-a9fc-074fa81685a1"
      },
      "outputs": [
        {
          "name": "stdout",
          "output_type": "stream",
          "text": [
            "<class 'pandas.core.frame.DataFrame'>\n",
            "RangeIndex: 71047 entries, 0 to 71046\n",
            "Data columns (total 58 columns):\n",
            " #   Column                     Non-Null Count  Dtype  \n",
            "---  ------                     --------------  -----  \n",
            " 0   CustomerID                 71047 non-null  int64  \n",
            " 1   Churn                      51047 non-null  object \n",
            " 2   MonthlyRevenue             70831 non-null  float64\n",
            " 3   MonthlyMinutes             70831 non-null  float64\n",
            " 4   TotalRecurringCharge       70831 non-null  float64\n",
            " 5   DirectorAssistedCalls      70831 non-null  float64\n",
            " 6   OverageMinutes             70831 non-null  float64\n",
            " 7   RoamingCalls               70831 non-null  float64\n",
            " 8   PercChangeMinutes          70545 non-null  float64\n",
            " 9   PercChangeRevenues         70545 non-null  float64\n",
            " 10  DroppedCalls               71047 non-null  float64\n",
            " 11  BlockedCalls               71047 non-null  float64\n",
            " 12  UnansweredCalls            71047 non-null  float64\n",
            " 13  CustomerCareCalls          71047 non-null  float64\n",
            " 14  ThreewayCalls              71047 non-null  float64\n",
            " 15  ReceivedCalls              71047 non-null  float64\n",
            " 16  OutboundCalls              71047 non-null  float64\n",
            " 17  InboundCalls               71047 non-null  float64\n",
            " 18  PeakCallsInOut             71047 non-null  float64\n",
            " 19  OffPeakCallsInOut          71047 non-null  float64\n",
            " 20  DroppedBlockedCalls        71047 non-null  float64\n",
            " 21  CallForwardingCalls        71047 non-null  float64\n",
            " 22  CallWaitingCalls           71047 non-null  float64\n",
            " 23  MonthsInService            71047 non-null  int64  \n",
            " 24  UniqueSubs                 71047 non-null  int64  \n",
            " 25  ActiveSubs                 71047 non-null  int64  \n",
            " 26  ServiceArea                71019 non-null  object \n",
            " 27  Handsets                   71046 non-null  float64\n",
            " 28  HandsetModels              71046 non-null  float64\n",
            " 29  CurrentEquipmentDays       71046 non-null  float64\n",
            " 30  AgeHH1                     69803 non-null  float64\n",
            " 31  AgeHH2                     69803 non-null  float64\n",
            " 32  ChildrenInHH               71047 non-null  object \n",
            " 33  HandsetRefurbished         71047 non-null  object \n",
            " 34  HandsetWebCapable          71047 non-null  object \n",
            " 35  TruckOwner                 71047 non-null  object \n",
            " 36  RVOwner                    71047 non-null  object \n",
            " 37  Homeownership              71047 non-null  object \n",
            " 38  BuysViaMailOrder           71047 non-null  object \n",
            " 39  RespondsToMailOffers       71047 non-null  object \n",
            " 40  OptOutMailings             71047 non-null  object \n",
            " 41  NonUSTravel                71047 non-null  object \n",
            " 42  OwnsComputer               71047 non-null  object \n",
            " 43  HasCreditCard              71047 non-null  object \n",
            " 44  RetentionCalls             71047 non-null  int64  \n",
            " 45  RetentionOffersAccepted    71047 non-null  int64  \n",
            " 46  NewCellphoneUser           71047 non-null  object \n",
            " 47  NotNewCellphoneUser        71047 non-null  object \n",
            " 48  ReferralsMadeBySubscriber  71047 non-null  int64  \n",
            " 49  IncomeGroup                71047 non-null  int64  \n",
            " 50  OwnsMotorcycle             71047 non-null  object \n",
            " 51  AdjustmentsToCreditRating  71047 non-null  int64  \n",
            " 52  HandsetPrice               71047 non-null  object \n",
            " 53  MadeCallToRetentionTeam    71047 non-null  object \n",
            " 54  CreditRating               71047 non-null  object \n",
            " 55  PrizmCode                  71047 non-null  object \n",
            " 56  Occupation                 71047 non-null  object \n",
            " 57  MaritalStatus              71047 non-null  object \n",
            "dtypes: float64(26), int64(9), object(23)\n",
            "memory usage: 31.4+ MB\n"
          ]
        }
      ],
      "source": [
        "df.info()"
      ]
    },
    {
      "cell_type": "markdown",
      "metadata": {
        "id": "bUMl3gewVxnO"
      },
      "source": [
        "Verifying null values"
      ]
    },
    {
      "cell_type": "code",
      "execution_count": 7,
      "metadata": {
        "colab": {
          "base_uri": "https://localhost:8080/",
          "height": 520
        },
        "id": "esXJK5SoVxnO",
        "outputId": "29932de4-e03f-49b1-fb95-6aee318caf94"
      },
      "outputs": [
        {
          "data": {
            "text/html": [
              "<div>\n",
              "<style scoped>\n",
              "    .dataframe tbody tr th:only-of-type {\n",
              "        vertical-align: middle;\n",
              "    }\n",
              "\n",
              "    .dataframe tbody tr th {\n",
              "        vertical-align: top;\n",
              "    }\n",
              "\n",
              "    .dataframe thead th {\n",
              "        text-align: right;\n",
              "    }\n",
              "</style>\n",
              "<table border=\"1\" class=\"dataframe\">\n",
              "  <thead>\n",
              "    <tr style=\"text-align: right;\">\n",
              "      <th></th>\n",
              "      <th>feature</th>\n",
              "      <th>missing_count</th>\n",
              "      <th>missin_count_relavite</th>\n",
              "      <th>dtype</th>\n",
              "    </tr>\n",
              "  </thead>\n",
              "  <tbody>\n",
              "    <tr>\n",
              "      <th>0</th>\n",
              "      <td>Churn</td>\n",
              "      <td>20000</td>\n",
              "      <td>0.281504</td>\n",
              "      <td>object</td>\n",
              "    </tr>\n",
              "    <tr>\n",
              "      <th>1</th>\n",
              "      <td>MonthlyRevenue</td>\n",
              "      <td>216</td>\n",
              "      <td>0.003040</td>\n",
              "      <td>float64</td>\n",
              "    </tr>\n",
              "    <tr>\n",
              "      <th>2</th>\n",
              "      <td>MonthlyMinutes</td>\n",
              "      <td>216</td>\n",
              "      <td>0.003040</td>\n",
              "      <td>float64</td>\n",
              "    </tr>\n",
              "    <tr>\n",
              "      <th>3</th>\n",
              "      <td>TotalRecurringCharge</td>\n",
              "      <td>216</td>\n",
              "      <td>0.003040</td>\n",
              "      <td>float64</td>\n",
              "    </tr>\n",
              "    <tr>\n",
              "      <th>4</th>\n",
              "      <td>DirectorAssistedCalls</td>\n",
              "      <td>216</td>\n",
              "      <td>0.003040</td>\n",
              "      <td>float64</td>\n",
              "    </tr>\n",
              "    <tr>\n",
              "      <th>5</th>\n",
              "      <td>OverageMinutes</td>\n",
              "      <td>216</td>\n",
              "      <td>0.003040</td>\n",
              "      <td>float64</td>\n",
              "    </tr>\n",
              "    <tr>\n",
              "      <th>6</th>\n",
              "      <td>RoamingCalls</td>\n",
              "      <td>216</td>\n",
              "      <td>0.003040</td>\n",
              "      <td>float64</td>\n",
              "    </tr>\n",
              "    <tr>\n",
              "      <th>7</th>\n",
              "      <td>PercChangeMinutes</td>\n",
              "      <td>502</td>\n",
              "      <td>0.007066</td>\n",
              "      <td>float64</td>\n",
              "    </tr>\n",
              "    <tr>\n",
              "      <th>8</th>\n",
              "      <td>PercChangeRevenues</td>\n",
              "      <td>502</td>\n",
              "      <td>0.007066</td>\n",
              "      <td>float64</td>\n",
              "    </tr>\n",
              "    <tr>\n",
              "      <th>9</th>\n",
              "      <td>ServiceArea</td>\n",
              "      <td>28</td>\n",
              "      <td>0.000394</td>\n",
              "      <td>object</td>\n",
              "    </tr>\n",
              "    <tr>\n",
              "      <th>10</th>\n",
              "      <td>Handsets</td>\n",
              "      <td>1</td>\n",
              "      <td>0.000014</td>\n",
              "      <td>float64</td>\n",
              "    </tr>\n",
              "    <tr>\n",
              "      <th>11</th>\n",
              "      <td>HandsetModels</td>\n",
              "      <td>1</td>\n",
              "      <td>0.000014</td>\n",
              "      <td>float64</td>\n",
              "    </tr>\n",
              "    <tr>\n",
              "      <th>12</th>\n",
              "      <td>CurrentEquipmentDays</td>\n",
              "      <td>1</td>\n",
              "      <td>0.000014</td>\n",
              "      <td>float64</td>\n",
              "    </tr>\n",
              "    <tr>\n",
              "      <th>13</th>\n",
              "      <td>AgeHH1</td>\n",
              "      <td>1244</td>\n",
              "      <td>0.017510</td>\n",
              "      <td>float64</td>\n",
              "    </tr>\n",
              "    <tr>\n",
              "      <th>14</th>\n",
              "      <td>AgeHH2</td>\n",
              "      <td>1244</td>\n",
              "      <td>0.017510</td>\n",
              "      <td>float64</td>\n",
              "    </tr>\n",
              "  </tbody>\n",
              "</table>\n",
              "</div>"
            ],
            "text/plain": [
              "                  feature  missing_count  missin_count_relavite    dtype\n",
              "0                   Churn          20000               0.281504   object\n",
              "1          MonthlyRevenue            216               0.003040  float64\n",
              "2          MonthlyMinutes            216               0.003040  float64\n",
              "3    TotalRecurringCharge            216               0.003040  float64\n",
              "4   DirectorAssistedCalls            216               0.003040  float64\n",
              "5          OverageMinutes            216               0.003040  float64\n",
              "6            RoamingCalls            216               0.003040  float64\n",
              "7       PercChangeMinutes            502               0.007066  float64\n",
              "8      PercChangeRevenues            502               0.007066  float64\n",
              "9             ServiceArea             28               0.000394   object\n",
              "10               Handsets              1               0.000014  float64\n",
              "11          HandsetModels              1               0.000014  float64\n",
              "12   CurrentEquipmentDays              1               0.000014  float64\n",
              "13                 AgeHH1           1244               0.017510  float64\n",
              "14                 AgeHH2           1244               0.017510  float64"
            ]
          },
          "execution_count": 7,
          "metadata": {},
          "output_type": "execute_result"
        }
      ],
      "source": [
        "# grabbing all missing values\n",
        "total_missing = df.isnull().sum().reset_index().rename(columns = {'index': 'feature', 0: 'missing_count'})\n",
        "\n",
        "# selecting ones whic have missing_count greater than 0\n",
        "actual_missing = total_missing[total_missing.missing_count > 0].copy().reset_index(drop = True)\n",
        "\n",
        "# showing in terms of relative percentages\n",
        "actual_missing['missin_count_relavite'] = actual_missing['missing_count'] / len(df)\n",
        "\n",
        "# adding its dtypes\n",
        "dtype_dict = df.dtypes.to_dict()\n",
        "actual_missing['dtype'] = actual_missing.feature.map(dtype_dict)\n",
        "\n",
        "# missing dataframe\n",
        "actual_missing"
      ]
    },
    {
      "cell_type": "markdown",
      "metadata": {
        "id": "AZn4pK1HVxnO"
      },
      "source": [
        "As it can be seen, there are 20000 missing values on the target \"Churn\", this group is stored in another datadrame for future purposes, but as first step we clean the null values by dropping their rows cause they represent fewer than 2%"
      ]
    },
    {
      "cell_type": "code",
      "execution_count": 8,
      "metadata": {
        "colab": {
          "base_uri": "https://localhost:8080/"
        },
        "id": "NDKpmPStVxnP",
        "outputId": "b0776ced-30c9-44be-ab2b-f199c36a4145"
      },
      "outputs": [
        {
          "data": {
            "text/plain": [
              "(49752, 58)"
            ]
          },
          "execution_count": 8,
          "metadata": {},
          "output_type": "execute_result"
        }
      ],
      "source": [
        "# drop null values\n",
        "values_to_drop = actual_missing.feature.tolist()[1:]\n",
        "\n",
        "df = df.dropna(subset = values_to_drop, axis = 0)\n",
        "\n",
        "# getting those\n",
        "df_no_target = df[df.Churn.isnull()].copy().reset_index(drop = True)\n",
        "\n",
        "# dropping 20000 nan values in the original dataframe\n",
        "df = df.dropna(subset = 'Churn')\n",
        "\n",
        "# removing churn feature from actual_missing\n",
        "actual_missing = actual_missing[actual_missing.feature != 'Churn']\n",
        "\n",
        "# verifying new shape\n",
        "df.shape"
      ]
    },
    {
      "cell_type": "markdown",
      "metadata": {
        "id": "6d58DjvwVxnP"
      },
      "source": [
        "Verifying null values"
      ]
    },
    {
      "cell_type": "code",
      "execution_count": 9,
      "metadata": {
        "colab": {
          "base_uri": "https://localhost:8080/"
        },
        "id": "BrYC6QlOVxnP",
        "outputId": "a2f89dca-70ee-494e-f6ad-1c05b8bc6a00"
      },
      "outputs": [
        {
          "data": {
            "text/plain": [
              "0"
            ]
          },
          "execution_count": 9,
          "metadata": {},
          "output_type": "execute_result"
        }
      ],
      "source": [
        "df.isnull().sum().sum()"
      ]
    },
    {
      "cell_type": "markdown",
      "metadata": {
        "id": "2RMCBWezVxnP"
      },
      "source": [
        "Labeling target"
      ]
    },
    {
      "cell_type": "code",
      "execution_count": 10,
      "metadata": {
        "id": "ZyP2U8fXVxnP"
      },
      "outputs": [],
      "source": [
        "df['Churn'] = np.where(df['Churn'] == 'Yes', 1, 0)"
      ]
    },
    {
      "cell_type": "markdown",
      "metadata": {
        "id": "xIcLSOgZVxnP"
      },
      "source": [
        "Creating a class to clean outliers"
      ]
    },
    {
      "cell_type": "code",
      "execution_count": 11,
      "metadata": {
        "id": "1GuUgddkVxnP"
      },
      "outputs": [],
      "source": [
        "class CleanOutliers(TransformerMixin):\n",
        "    def __init__(self):\n",
        "        '''\n",
        "        Treat outliers\n",
        "        '''\n",
        "    def set_output(self, transform = 'pandas'):\n",
        "        return self\n",
        "\n",
        "    def _get_boundaries(self, X_feature):\n",
        "        q1 = X_feature.quantile(0.25)\n",
        "        q3 = X_feature.quantile(0.75)\n",
        "        irs = q3 - q1\n",
        "        lower_bound = q1 - 1.5 * irs\n",
        "        upper_bound = q3 + 1.5 * irs\n",
        "        return lower_bound, upper_bound\n",
        "\n",
        "    def fit(self, X, y = None):\n",
        "        self.boundary = {column: self._get_boundaries(X[column]) for column in X.columns}\n",
        "        return self\n",
        "\n",
        "    def transform(self, X, y = None):\n",
        "        X_gei = X.copy()\n",
        "        current_columns = X_gei.columns.tolist()\n",
        "        for column in current_columns:\n",
        "            lower_bound, upper_bound = self.boundary[column]\n",
        "            X_gei[column] = X_gei[column].clip(lower = lower_bound,\n",
        "                                        upper = upper_bound)\n",
        "        return X_gei.copy()"
      ]
    },
    {
      "cell_type": "markdown",
      "metadata": {
        "id": "1-7TZNMVVxnQ"
      },
      "source": [
        "Verfying categorical values before performing encoding"
      ]
    },
    {
      "cell_type": "code",
      "execution_count": 12,
      "metadata": {
        "colab": {
          "base_uri": "https://localhost:8080/",
          "height": 175
        },
        "id": "qxbRzz8oVxnQ",
        "outputId": "5dc7aa69-7b2d-43f8-bf45-605d9bec11c8"
      },
      "outputs": [
        {
          "data": {
            "text/html": [
              "<div>\n",
              "<style scoped>\n",
              "    .dataframe tbody tr th:only-of-type {\n",
              "        vertical-align: middle;\n",
              "    }\n",
              "\n",
              "    .dataframe tbody tr th {\n",
              "        vertical-align: top;\n",
              "    }\n",
              "\n",
              "    .dataframe thead th {\n",
              "        text-align: right;\n",
              "    }\n",
              "</style>\n",
              "<table border=\"1\" class=\"dataframe\">\n",
              "  <thead>\n",
              "    <tr style=\"text-align: right;\">\n",
              "      <th></th>\n",
              "      <th>count</th>\n",
              "      <th>unique</th>\n",
              "      <th>top</th>\n",
              "      <th>freq</th>\n",
              "    </tr>\n",
              "  </thead>\n",
              "  <tbody>\n",
              "    <tr>\n",
              "      <th>ServiceArea</th>\n",
              "      <td>49752</td>\n",
              "      <td>743</td>\n",
              "      <td>NYCBRO917</td>\n",
              "      <td>1646</td>\n",
              "    </tr>\n",
              "    <tr>\n",
              "      <th>HandsetPrice</th>\n",
              "      <td>49752</td>\n",
              "      <td>16</td>\n",
              "      <td>Unknown</td>\n",
              "      <td>28263</td>\n",
              "    </tr>\n",
              "    <tr>\n",
              "      <th>CreditRating</th>\n",
              "      <td>49752</td>\n",
              "      <td>7</td>\n",
              "      <td>2-High</td>\n",
              "      <td>18692</td>\n",
              "    </tr>\n",
              "    <tr>\n",
              "      <th>Occupation</th>\n",
              "      <td>49752</td>\n",
              "      <td>8</td>\n",
              "      <td>Other</td>\n",
              "      <td>36453</td>\n",
              "    </tr>\n",
              "  </tbody>\n",
              "</table>\n",
              "</div>"
            ],
            "text/plain": [
              "              count unique        top   freq\n",
              "ServiceArea   49752    743  NYCBRO917   1646\n",
              "HandsetPrice  49752     16    Unknown  28263\n",
              "CreditRating  49752      7     2-High  18692\n",
              "Occupation    49752      8      Other  36453"
            ]
          },
          "execution_count": 12,
          "metadata": {},
          "output_type": "execute_result"
        }
      ],
      "source": [
        "cat_features = df.describe(include = object).T\n",
        "cat_features_to_regroup = cat_features[cat_features.unique > 4]\n",
        "cat_features_to_regroup"
      ]
    },
    {
      "cell_type": "markdown",
      "metadata": {
        "id": "RNQZvvjYVxnQ"
      },
      "source": [
        "Selecting those columns to check on its values"
      ]
    },
    {
      "cell_type": "code",
      "execution_count": 13,
      "metadata": {
        "colab": {
          "base_uri": "https://localhost:8080/",
          "height": 424
        },
        "id": "Tf91AI-EVxnQ",
        "outputId": "051a32bd-7791-4a7b-d60c-571fa694e002"
      },
      "outputs": [
        {
          "data": {
            "text/html": [
              "<div>\n",
              "<style scoped>\n",
              "    .dataframe tbody tr th:only-of-type {\n",
              "        vertical-align: middle;\n",
              "    }\n",
              "\n",
              "    .dataframe tbody tr th {\n",
              "        vertical-align: top;\n",
              "    }\n",
              "\n",
              "    .dataframe thead th {\n",
              "        text-align: right;\n",
              "    }\n",
              "</style>\n",
              "<table border=\"1\" class=\"dataframe\">\n",
              "  <thead>\n",
              "    <tr style=\"text-align: right;\">\n",
              "      <th></th>\n",
              "      <th>ServiceArea</th>\n",
              "      <th>HandsetPrice</th>\n",
              "      <th>CreditRating</th>\n",
              "      <th>Occupation</th>\n",
              "    </tr>\n",
              "  </thead>\n",
              "  <tbody>\n",
              "    <tr>\n",
              "      <th>0</th>\n",
              "      <td>SEAPOR503</td>\n",
              "      <td>30</td>\n",
              "      <td>1-Highest</td>\n",
              "      <td>Professional</td>\n",
              "    </tr>\n",
              "    <tr>\n",
              "      <th>1</th>\n",
              "      <td>PITHOM412</td>\n",
              "      <td>30</td>\n",
              "      <td>4-Medium</td>\n",
              "      <td>Professional</td>\n",
              "    </tr>\n",
              "    <tr>\n",
              "      <th>2</th>\n",
              "      <td>MILMIL414</td>\n",
              "      <td>Unknown</td>\n",
              "      <td>3-Good</td>\n",
              "      <td>Crafts</td>\n",
              "    </tr>\n",
              "    <tr>\n",
              "      <th>3</th>\n",
              "      <td>PITHOM412</td>\n",
              "      <td>10</td>\n",
              "      <td>4-Medium</td>\n",
              "      <td>Other</td>\n",
              "    </tr>\n",
              "    <tr>\n",
              "      <th>4</th>\n",
              "      <td>OKCTUL918</td>\n",
              "      <td>10</td>\n",
              "      <td>1-Highest</td>\n",
              "      <td>Professional</td>\n",
              "    </tr>\n",
              "    <tr>\n",
              "      <th>...</th>\n",
              "      <td>...</td>\n",
              "      <td>...</td>\n",
              "      <td>...</td>\n",
              "      <td>...</td>\n",
              "    </tr>\n",
              "    <tr>\n",
              "      <th>51035</th>\n",
              "      <td>NEVELC619</td>\n",
              "      <td>Unknown</td>\n",
              "      <td>2-High</td>\n",
              "      <td>Professional</td>\n",
              "    </tr>\n",
              "    <tr>\n",
              "      <th>51037</th>\n",
              "      <td>NEVENC760</td>\n",
              "      <td>Unknown</td>\n",
              "      <td>3-Good</td>\n",
              "      <td>Other</td>\n",
              "    </tr>\n",
              "    <tr>\n",
              "      <th>51040</th>\n",
              "      <td>LAXVNY818</td>\n",
              "      <td>Unknown</td>\n",
              "      <td>1-Highest</td>\n",
              "      <td>Professional</td>\n",
              "    </tr>\n",
              "    <tr>\n",
              "      <th>51041</th>\n",
              "      <td>LAXDOW562</td>\n",
              "      <td>30</td>\n",
              "      <td>5-Low</td>\n",
              "      <td>Professional</td>\n",
              "    </tr>\n",
              "    <tr>\n",
              "      <th>51043</th>\n",
              "      <td>LAXCDG310</td>\n",
              "      <td>60</td>\n",
              "      <td>3-Good</td>\n",
              "      <td>Other</td>\n",
              "    </tr>\n",
              "  </tbody>\n",
              "</table>\n",
              "<p>49752 rows × 4 columns</p>\n",
              "</div>"
            ],
            "text/plain": [
              "      ServiceArea HandsetPrice CreditRating    Occupation\n",
              "0       SEAPOR503           30    1-Highest  Professional\n",
              "1       PITHOM412           30     4-Medium  Professional\n",
              "2       MILMIL414      Unknown       3-Good        Crafts\n",
              "3       PITHOM412           10     4-Medium         Other\n",
              "4       OKCTUL918           10    1-Highest  Professional\n",
              "...           ...          ...          ...           ...\n",
              "51035   NEVELC619      Unknown       2-High  Professional\n",
              "51037   NEVENC760      Unknown       3-Good         Other\n",
              "51040   LAXVNY818      Unknown    1-Highest  Professional\n",
              "51041   LAXDOW562           30        5-Low  Professional\n",
              "51043   LAXCDG310           60       3-Good         Other\n",
              "\n",
              "[49752 rows x 4 columns]"
            ]
          },
          "execution_count": 13,
          "metadata": {},
          "output_type": "execute_result"
        }
      ],
      "source": [
        "df_cat_features_to_regroup = df[['ServiceArea', 'HandsetPrice', 'CreditRating', 'Occupation']]\n",
        "df_cat_features_to_regroup"
      ]
    },
    {
      "cell_type": "markdown",
      "metadata": {
        "id": "CVS_L1AVVxnQ"
      },
      "source": [
        "Value counts per cat feature"
      ]
    },
    {
      "cell_type": "code",
      "execution_count": 14,
      "metadata": {
        "colab": {
          "base_uri": "https://localhost:8080/"
        },
        "id": "GI-DzdgrVxnR",
        "outputId": "c01f82ae-82c3-4ec9-9990-c8bf5d02eb15"
      },
      "outputs": [
        {
          "data": {
            "text/plain": [
              "NYCBRO917    1646\n",
              "DALDAL214    1479\n",
              "HOUHOU281    1471\n",
              "NYCMAN917    1156\n",
              "DALFTW817     771\n",
              "             ... \n",
              "SANROM956       1\n",
              "INDCRA765       1\n",
              "SEWSUN509       1\n",
              "ATLDBL478       1\n",
              "NCRDNN910       1\n",
              "Name: ServiceArea, Length: 743, dtype: int64"
            ]
          },
          "execution_count": 14,
          "metadata": {},
          "output_type": "execute_result"
        }
      ],
      "source": [
        "df.ServiceArea.value_counts()"
      ]
    },
    {
      "cell_type": "code",
      "execution_count": 15,
      "metadata": {
        "colab": {
          "base_uri": "https://localhost:8080/"
        },
        "id": "eaQ_d8i5VxnR",
        "outputId": "a602c67d-e6bc-4c96-9d48-f80361dadcfe"
      },
      "outputs": [
        {
          "data": {
            "text/plain": [
              "Unknown    28263\n",
              "30          7147\n",
              "150         4024\n",
              "130         2043\n",
              "80          1901\n",
              "10          1869\n",
              "60          1730\n",
              "200         1227\n",
              "100         1209\n",
              "40           240\n",
              "400           45\n",
              "250           20\n",
              "300           12\n",
              "180            9\n",
              "500            7\n",
              "240            6\n",
              "Name: HandsetPrice, dtype: int64"
            ]
          },
          "execution_count": 15,
          "metadata": {},
          "output_type": "execute_result"
        }
      ],
      "source": [
        "df.HandsetPrice.value_counts()"
      ]
    },
    {
      "cell_type": "markdown",
      "metadata": {
        "id": "Uvrke5IhVxnR"
      },
      "source": [
        "Creating a function to regroup specific features"
      ]
    },
    {
      "cell_type": "code",
      "execution_count": 16,
      "metadata": {
        "colab": {
          "base_uri": "https://localhost:8080/"
        },
        "id": "RmqkhF1NVxnR",
        "outputId": "3444af21-a2c4-4d20-aa8f-71361edba32e"
      },
      "outputs": [
        {
          "data": {
            "text/plain": [
              "array(['30', 'Unknown', '10', '80', '150', '300', '40', '200', '100',\n",
              "       '130', '60', '400', '240', '250', '180', '500'], dtype=object)"
            ]
          },
          "execution_count": 16,
          "metadata": {},
          "output_type": "execute_result"
        }
      ],
      "source": [
        "df.HandsetPrice.unique()"
      ]
    },
    {
      "cell_type": "code",
      "execution_count": 17,
      "metadata": {
        "id": "MQ9_2Je8VxnR"
      },
      "outputs": [],
      "source": [
        "def regroup_cat_values(data):\n",
        "    # ServiceArea\n",
        "    top_4 = df.ServiceArea.value_counts().head(4).index.tolist()\n",
        "    data['ServiceArea'] = np.where(data['ServiceArea'].isin(top_4),\n",
        "                                    data['ServiceArea'],\n",
        "                                    'OTHER')\n",
        "    # HandsetPrice\n",
        "    data['HandsetPrice'] = np.where(data['HandsetPrice'] == 'Unknown', '30', data['HandsetPrice'])\n",
        "    data['HandsetPrice'] = data['HandsetPrice'].astype('int16')\n",
        "\n",
        "    return data"
      ]
    },
    {
      "cell_type": "markdown",
      "metadata": {
        "id": "YocWJIcnVxnR"
      },
      "source": [
        "Apply the function to both dataframes"
      ]
    },
    {
      "cell_type": "code",
      "execution_count": 18,
      "metadata": {
        "id": "iqQ9g1J6VxnR"
      },
      "outputs": [],
      "source": [
        "df = regroup_cat_values(df)\n",
        "df_no_target = regroup_cat_values(df_no_target)"
      ]
    },
    {
      "cell_type": "code",
      "execution_count": 19,
      "metadata": {
        "colab": {
          "base_uri": "https://localhost:8080/",
          "height": 708
        },
        "id": "kVpR9e1UVxnS",
        "outputId": "1a530a83-95a6-4bd3-e806-03ebf7e0977b"
      },
      "outputs": [
        {
          "data": {
            "text/html": [
              "<div>\n",
              "<style scoped>\n",
              "    .dataframe tbody tr th:only-of-type {\n",
              "        vertical-align: middle;\n",
              "    }\n",
              "\n",
              "    .dataframe tbody tr th {\n",
              "        vertical-align: top;\n",
              "    }\n",
              "\n",
              "    .dataframe thead th {\n",
              "        text-align: right;\n",
              "    }\n",
              "</style>\n",
              "<table border=\"1\" class=\"dataframe\">\n",
              "  <thead>\n",
              "    <tr style=\"text-align: right;\">\n",
              "      <th></th>\n",
              "      <th>count</th>\n",
              "      <th>unique</th>\n",
              "      <th>top</th>\n",
              "      <th>freq</th>\n",
              "    </tr>\n",
              "  </thead>\n",
              "  <tbody>\n",
              "    <tr>\n",
              "      <th>ServiceArea</th>\n",
              "      <td>49752</td>\n",
              "      <td>5</td>\n",
              "      <td>OTHER</td>\n",
              "      <td>44000</td>\n",
              "    </tr>\n",
              "    <tr>\n",
              "      <th>ChildrenInHH</th>\n",
              "      <td>49752</td>\n",
              "      <td>2</td>\n",
              "      <td>No</td>\n",
              "      <td>37483</td>\n",
              "    </tr>\n",
              "    <tr>\n",
              "      <th>HandsetRefurbished</th>\n",
              "      <td>49752</td>\n",
              "      <td>2</td>\n",
              "      <td>No</td>\n",
              "      <td>42852</td>\n",
              "    </tr>\n",
              "    <tr>\n",
              "      <th>HandsetWebCapable</th>\n",
              "      <td>49752</td>\n",
              "      <td>2</td>\n",
              "      <td>Yes</td>\n",
              "      <td>44905</td>\n",
              "    </tr>\n",
              "    <tr>\n",
              "      <th>TruckOwner</th>\n",
              "      <td>49752</td>\n",
              "      <td>2</td>\n",
              "      <td>No</td>\n",
              "      <td>40280</td>\n",
              "    </tr>\n",
              "    <tr>\n",
              "      <th>RVOwner</th>\n",
              "      <td>49752</td>\n",
              "      <td>2</td>\n",
              "      <td>No</td>\n",
              "      <td>45619</td>\n",
              "    </tr>\n",
              "    <tr>\n",
              "      <th>Homeownership</th>\n",
              "      <td>49752</td>\n",
              "      <td>2</td>\n",
              "      <td>Known</td>\n",
              "      <td>33725</td>\n",
              "    </tr>\n",
              "    <tr>\n",
              "      <th>BuysViaMailOrder</th>\n",
              "      <td>49752</td>\n",
              "      <td>2</td>\n",
              "      <td>No</td>\n",
              "      <td>31432</td>\n",
              "    </tr>\n",
              "    <tr>\n",
              "      <th>RespondsToMailOffers</th>\n",
              "      <td>49752</td>\n",
              "      <td>2</td>\n",
              "      <td>No</td>\n",
              "      <td>30667</td>\n",
              "    </tr>\n",
              "    <tr>\n",
              "      <th>OptOutMailings</th>\n",
              "      <td>49752</td>\n",
              "      <td>2</td>\n",
              "      <td>No</td>\n",
              "      <td>49006</td>\n",
              "    </tr>\n",
              "    <tr>\n",
              "      <th>NonUSTravel</th>\n",
              "      <td>49752</td>\n",
              "      <td>2</td>\n",
              "      <td>No</td>\n",
              "      <td>46896</td>\n",
              "    </tr>\n",
              "    <tr>\n",
              "      <th>OwnsComputer</th>\n",
              "      <td>49752</td>\n",
              "      <td>2</td>\n",
              "      <td>No</td>\n",
              "      <td>40368</td>\n",
              "    </tr>\n",
              "    <tr>\n",
              "      <th>HasCreditCard</th>\n",
              "      <td>49752</td>\n",
              "      <td>2</td>\n",
              "      <td>Yes</td>\n",
              "      <td>34241</td>\n",
              "    </tr>\n",
              "    <tr>\n",
              "      <th>NewCellphoneUser</th>\n",
              "      <td>49752</td>\n",
              "      <td>2</td>\n",
              "      <td>No</td>\n",
              "      <td>40141</td>\n",
              "    </tr>\n",
              "    <tr>\n",
              "      <th>NotNewCellphoneUser</th>\n",
              "      <td>49752</td>\n",
              "      <td>2</td>\n",
              "      <td>No</td>\n",
              "      <td>42877</td>\n",
              "    </tr>\n",
              "    <tr>\n",
              "      <th>OwnsMotorcycle</th>\n",
              "      <td>49752</td>\n",
              "      <td>2</td>\n",
              "      <td>No</td>\n",
              "      <td>49078</td>\n",
              "    </tr>\n",
              "    <tr>\n",
              "      <th>MadeCallToRetentionTeam</th>\n",
              "      <td>49752</td>\n",
              "      <td>2</td>\n",
              "      <td>No</td>\n",
              "      <td>48131</td>\n",
              "    </tr>\n",
              "    <tr>\n",
              "      <th>CreditRating</th>\n",
              "      <td>49752</td>\n",
              "      <td>7</td>\n",
              "      <td>2-High</td>\n",
              "      <td>18692</td>\n",
              "    </tr>\n",
              "    <tr>\n",
              "      <th>PrizmCode</th>\n",
              "      <td>49752</td>\n",
              "      <td>4</td>\n",
              "      <td>Other</td>\n",
              "      <td>23820</td>\n",
              "    </tr>\n",
              "    <tr>\n",
              "      <th>Occupation</th>\n",
              "      <td>49752</td>\n",
              "      <td>8</td>\n",
              "      <td>Other</td>\n",
              "      <td>36453</td>\n",
              "    </tr>\n",
              "    <tr>\n",
              "      <th>MaritalStatus</th>\n",
              "      <td>49752</td>\n",
              "      <td>3</td>\n",
              "      <td>Unknown</td>\n",
              "      <td>18649</td>\n",
              "    </tr>\n",
              "  </tbody>\n",
              "</table>\n",
              "</div>"
            ],
            "text/plain": [
              "                         count unique      top   freq\n",
              "ServiceArea              49752      5    OTHER  44000\n",
              "ChildrenInHH             49752      2       No  37483\n",
              "HandsetRefurbished       49752      2       No  42852\n",
              "HandsetWebCapable        49752      2      Yes  44905\n",
              "TruckOwner               49752      2       No  40280\n",
              "RVOwner                  49752      2       No  45619\n",
              "Homeownership            49752      2    Known  33725\n",
              "BuysViaMailOrder         49752      2       No  31432\n",
              "RespondsToMailOffers     49752      2       No  30667\n",
              "OptOutMailings           49752      2       No  49006\n",
              "NonUSTravel              49752      2       No  46896\n",
              "OwnsComputer             49752      2       No  40368\n",
              "HasCreditCard            49752      2      Yes  34241\n",
              "NewCellphoneUser         49752      2       No  40141\n",
              "NotNewCellphoneUser      49752      2       No  42877\n",
              "OwnsMotorcycle           49752      2       No  49078\n",
              "MadeCallToRetentionTeam  49752      2       No  48131\n",
              "CreditRating             49752      7   2-High  18692\n",
              "PrizmCode                49752      4    Other  23820\n",
              "Occupation               49752      8    Other  36453\n",
              "MaritalStatus            49752      3  Unknown  18649"
            ]
          },
          "execution_count": 19,
          "metadata": {},
          "output_type": "execute_result"
        }
      ],
      "source": [
        "df.describe(include = object).T"
      ]
    },
    {
      "cell_type": "markdown",
      "metadata": {
        "id": "Z3tF2C6uVxnS"
      },
      "source": [
        "It is observed that can be label encoded is CreditRating"
      ]
    },
    {
      "cell_type": "code",
      "execution_count": 20,
      "metadata": {
        "colab": {
          "base_uri": "https://localhost:8080/"
        },
        "id": "Sr1L-8k0VxnS",
        "outputId": "7b20d200-1246-42f9-90c0-c9a5f2e684e6"
      },
      "outputs": [
        {
          "data": {
            "text/plain": [
              "array(['1-Highest', '4-Medium', '3-Good', '2-High', '5-Low', '6-VeryLow',\n",
              "       '7-Lowest'], dtype=object)"
            ]
          },
          "execution_count": 20,
          "metadata": {},
          "output_type": "execute_result"
        }
      ],
      "source": [
        "df.CreditRating.unique()"
      ]
    },
    {
      "cell_type": "markdown",
      "metadata": {
        "id": "9MvZBTuWVxnS"
      },
      "source": [
        "Creating a local class for label encoding"
      ]
    },
    {
      "cell_type": "markdown",
      "metadata": {
        "id": "iisp7E-6VxnS"
      },
      "source": [
        "Splitting dataframe"
      ]
    },
    {
      "cell_type": "code",
      "execution_count": 21,
      "metadata": {
        "id": "L8Jx6OQ6VxnS"
      },
      "outputs": [],
      "source": [
        "# Getting X and y matrices\n",
        "X = df.drop(columns = ['CustomerID','Churn'])\n",
        "y = df.Churn\n",
        "\n",
        "# splitting\n",
        "X_train, X_test, y_train, y_test = train_test_split(X, y, test_size = 0.2, shuffle = True, random_state = 24)"
      ]
    },
    {
      "cell_type": "markdown",
      "metadata": {
        "id": "eDT4P9XfVxnT"
      },
      "source": [
        "Performing the final treatment"
      ]
    },
    {
      "cell_type": "code",
      "execution_count": 22,
      "metadata": {
        "id": "x29QMlTjVxnT"
      },
      "outputs": [],
      "source": [
        "# selecting dtypes\n",
        "num_col = X_train.select_dtypes(include = np.number).columns.tolist()\n",
        "cat_col = X_train.select_dtypes(include = ['object', 'category']).columns.tolist()\n",
        "\n",
        "# creating pipelines or transformers\n",
        "num_prep = Pipeline([('outlier', CleanOutliers().set_output(transform ='pandas')),\n",
        "                    ('impute', SimpleImputer(strategy = 'mean').set_output(transform = 'pandas'))])\n",
        "\n",
        "cat_prep = TargetEncoder(random_state=23).set_output(transform = 'pandas')\n",
        "\n",
        "# creating transformer\n",
        "column_transformer = ColumnTransformer([('num', num_prep, num_col),\n",
        "                                        ('cat', cat_prep, cat_col)],\n",
        "                                        remainder = 'passthrough')\\\n",
        "                                    .set_output(transform = 'pandas')\n",
        "\n",
        "# testing transformer\n",
        "X_train_tr = column_transformer.fit_transform(X_train, y_train)"
      ]
    },
    {
      "cell_type": "markdown",
      "metadata": {
        "id": "uBYmjEzGVyH_"
      },
      "source": [
        "Removing multivariate outliers from testing set"
      ]
    },
    {
      "cell_type": "code",
      "execution_count": 23,
      "metadata": {
        "colab": {
          "base_uri": "https://localhost:8080/"
        },
        "id": "DQPC81SzV3M3",
        "outputId": "0d62e6bc-a00e-4b6e-dc38-1a0deed37a7c"
      },
      "outputs": [],
      "source": [
        "# In order to verify outlier groups, it is important to reduce the data into a two-featured one so that the\n",
        "# minority class would be considered as outlier\n",
        "min_samples = len(X_train) * 0.05\n",
        "reducer = UMAP(n_components = 2, random_state = 23)\n",
        "detector = DBSCAN(eps = 1.2, min_samples = int(min_samples), n_jobs = -1)\n",
        "# scaling\n",
        "scaler = StandardScaler()\n",
        "X_train_sc = scaler.fit_transform(X_train_tr)\n",
        "# reducing\n",
        "X_train_re = reducer.fit_transform(X_train_sc)\n",
        "# detecting labels\n",
        "labels = detector.fit_predict(X_train_re)"
      ]
    },
    {
      "cell_type": "markdown",
      "metadata": {
        "id": "F8TM88TUWGEI"
      },
      "source": [
        "Plotting classes"
      ]
    },
    {
      "cell_type": "code",
      "execution_count": 24,
      "metadata": {
        "colab": {
          "base_uri": "https://localhost:8080/",
          "height": 449
        },
        "id": "01UC0FWWWHIy",
        "outputId": "20b9a65a-8708-476a-f2f6-534b7d574c91"
      },
      "outputs": [
        {
          "data": {
            "image/png": "[encoded data removed]",
            "text/plain": [
              "<Figure size 640x480 with 1 Axes>"
            ]
          },
          "metadata": {},
          "output_type": "display_data"
        }
      ],
      "source": [
        "evaluator = pd.DataFrame(X_train_re, columns = ['Feature 1', 'Feature 2'])\n",
        "outlier = pd.DataFrame(labels, columns = ['label'])\n",
        "evaluator = pd.concat([evaluator, outlier], axis = 1)\n",
        "sns.scatterplot(evaluator, x = 'Feature 1', y = 'Feature 2', hue = 'label')\n",
        "plt.show()"
      ]
    },
    {
      "cell_type": "markdown",
      "metadata": {
        "id": "7xAUeZ8GWJTW"
      },
      "source": [
        "Creating a class to clean multivariate outliers"
      ]
    },
    {
      "cell_type": "code",
      "execution_count": 25,
      "metadata": {
        "id": "kiInE6i8WJu6"
      },
      "outputs": [],
      "source": [
        "class MultivariateOutliers(BaseEstimator, TransformerMixin):\n",
        "    def __init__(self):\n",
        "        \"\"\"\n",
        "        Removes outliers\n",
        "        \"\"\"\n",
        "    def set_output(self, transform = 'pandas'):\n",
        "        return self\n",
        "\n",
        "    def fit(self, X, y = None):\n",
        "        scaler = StandardScaler()\n",
        "        reducer = UMAP(n_components = 2, random_state = 23)\n",
        "        self.pipe_transform = make_pipeline(scaler, reducer)\n",
        "        self.pipe_transform.fit(X)\n",
        "        return self\n",
        "\n",
        "    def transform(self, X, y):\n",
        "        min_samples = len(X) * 0.05\n",
        "        X_tr = self.pipe_transform.transform(X)\n",
        "        detector = DBSCAN(eps = 1.2, min_samples = int(min_samples), n_jobs = -1)\n",
        "        labels = detector.fit_predict(X_tr)\n",
        "        outlier = pd.DataFrame(labels, columns = ['label'])\n",
        "        df = pd.concat([X, y], axis = 1).reset_index(drop = True)\n",
        "        data = pd.concat([df, outlier], axis = 1)\n",
        "        most_common = data.label.value_counts().index.values[0]\n",
        "        data = data[data['label'] == most_common].drop(columns = 'label')\n",
        "        return data.drop(columns = 'Churn'), data.Churn"
      ]
    },
    {
      "cell_type": "markdown",
      "metadata": {
        "id": "YdzwZFX_WLc3"
      },
      "source": [
        "Removing outliers"
      ]
    },
    {
      "cell_type": "code",
      "execution_count": 26,
      "metadata": {
        "colab": {
          "base_uri": "https://localhost:8080/"
        },
        "id": "Sebrf706WMqa",
        "outputId": "3631d3d9-8494-48a0-e7a7-81ee03ff35c4"
      },
      "outputs": [],
      "source": [
        "# declaring outlier detector\n",
        "outlier_removal = MultivariateOutliers()\n",
        "\n",
        "# transform features\n",
        "X_train_tr = column_transformer.fit_transform(X_train, y_train)\n",
        "X_test_tr = column_transformer.transform(X_test)\n",
        "\n",
        "# removing outliers\n",
        "outlier_removal.fit(X_train_tr)\n",
        "X_train_tr, y_train_tr = outlier_removal.transform(X_train_tr, y_train)"
      ]
    },
    {
      "cell_type": "markdown",
      "metadata": {
        "id": "10Lup_1fVxnb"
      },
      "source": [
        "# Data Modelling"
      ]
    },
    {
      "cell_type": "markdown",
      "metadata": {
        "id": "4l-i1EbcVxnb"
      },
      "source": [
        "Creating a function to evaluate performance"
      ]
    },
    {
      "cell_type": "code",
      "execution_count": 27,
      "metadata": {
        "id": "kFE3B10VVxnb"
      },
      "outputs": [],
      "source": [
        "def evaluation_metric(model_name, y_train_probs, y_test_probs, y_train_actual, y_train_pred, y_test_actual, y_test_pred):\n",
        "    roc_auc_train = roc_auc_score(y_train_actual, y_train_probs)\n",
        "    roc_auc_test = roc_auc_score(y_test_actual, y_test_probs)\n",
        "\n",
        "    gini_train = 2 * roc_auc_train - 1\n",
        "    gini_test = 2 * roc_auc_test - 1\n",
        "\n",
        "    recall_train = recall_score(y_train_actual, y_train_pred)\n",
        "    recall_test = recall_score(y_test_actual, y_test_pred)\n",
        "\n",
        "    precision_train = precision_score(y_train_actual, y_train_pred)\n",
        "    precision_test = precision_score(y_test_actual, y_test_pred)\n",
        "\n",
        "    f1_train = f1_score(y_train_actual, y_train_pred)\n",
        "    f1_test = f1_score(y_test_actual, y_test_pred)\n",
        "\n",
        "    accuracy_train = accuracy_score(y_train_actual, y_train_pred)\n",
        "    accuracy_test = accuracy_score(y_test_actual, y_test_pred)\n",
        "\n",
        "    # Table creation\n",
        "    results_dict = {f'{model_name} Train set': [roc_auc_train, gini_train, recall_train, precision_train, f1_train, accuracy_train],\n",
        "                f'{model_name} Test set': [roc_auc_test, gini_test, recall_test, precision_test, f1_test, accuracy_test]}\n",
        "\n",
        "    results = pd.DataFrame(results_dict, index = ['ROC AUC Score', 'Gini Score', 'Recall Score', 'Precision Score',\n",
        "                                                'F1 Score', 'Accuracy Score'])\n",
        "    return results"
      ]
    },
    {
      "cell_type": "markdown",
      "metadata": {
        "id": "BNqNvfDzVxnb"
      },
      "source": [
        "Creating base models"
      ]
    },
    {
      "cell_type": "code",
      "execution_count": 28,
      "metadata": {
        "colab": {
          "base_uri": "https://localhost:8080/"
        },
        "id": "lVOq8jqsVxnb",
        "outputId": "b520a939-0db5-4008-e8cd-550e1e46a0ab"
      },
      "outputs": [
        {
          "name": "stdout",
          "output_type": "stream",
          "text": [
            "[LightGBM] [Info] Number of positive: 11401, number of negative: 28400\n",
            "[LightGBM] [Info] Auto-choosing row-wise multi-threading, the overhead of testing was 0.002398 seconds.\n",
            "You can set `force_row_wise=true` to remove the overhead.\n",
            "And if memory is not enough, you can set `force_col_wise=true`.\n",
            "[LightGBM] [Info] Total Bins 3521\n",
            "[LightGBM] [Info] Number of data points in the train set: 39801, number of used features: 51\n",
            "[LightGBM] [Info] [binary:BoostFromScore]: pavg=0.500000 -> initscore=-0.000000\n",
            "[LightGBM] [Info] Start training from score -0.000000\n"
          ]
        }
      ],
      "source": [
        "# classifiers and scaler\n",
        "scaler = StandardScaler()\n",
        "lr = LogisticRegression(class_weight = 'balanced', random_state = 24, n_jobs = -1)\n",
        "knn = KNeighborsClassifier(weights = 'distance', n_jobs = -1)\n",
        "dtc = DecisionTreeClassifier(class_weight = 'balanced', random_state = 24)\n",
        "rfc = RandomForestClassifier(class_weight = 'balanced', random_state = 24)\n",
        "xgb = XGBClassifier(scale_pos_weight = len(y_train[y_train == 0]) / len(y_train[y_train == 1]), random_state = 24, n_jobs = -1)\n",
        "lgbm = LGBMClassifier(class_weight = 'balanced', random_state = 24, n_jobs = -1)\n",
        "mlp = MLPClassifier(hidden_layer_sizes = (4, 4), random_state = 24, solver = 'adam', activation = 'relu')\n",
        "\n",
        "# declaring pipelines\n",
        "lr_pipe = Pipeline([('prep', column_transformer), ('sc', scaler), ('clf', lr)])\n",
        "knn_pipe = Pipeline([('prep', column_transformer), ('sc', scaler), ('clf', knn)])\n",
        "dtc_pipe = Pipeline([('prep', column_transformer), ('sc', scaler), ('clf', dtc)])\n",
        "rfc_pipe = Pipeline([('prep', column_transformer), ('sc', scaler), ('clf', rfc)])\n",
        "xgb_pipe = Pipeline([('prep', column_transformer), ('sc', scaler), ('clf', xgb)])\n",
        "lgbm_pipe = Pipeline([('prep', column_transformer), ('sc', scaler), ('clf', lgbm)])\n",
        "mlp_pipe = Pipeline([('prep', column_transformer), ('sc', scaler), ('clf', mlp)])\n",
        "\n",
        "# fitting pipelines\n",
        "with joblib.parallel_backend('dask', scatter = (X_train, y_train)):\n",
        "    lr_pipe.fit(X_train, y_train)\n",
        "    knn_pipe.fit(X_train, y_train)\n",
        "    dtc_pipe.fit(X_train, y_train)\n",
        "    rfc_pipe.fit(X_train, y_train)\n",
        "    xgb_pipe.fit(X_train, y_train)\n",
        "    lgbm_pipe.fit(X_train, y_train)\n",
        "    mlp_pipe.fit(X_train, y_train)"
      ]
    },
    {
      "cell_type": "markdown",
      "metadata": {
        "id": "LbsGS15KVxnb"
      },
      "source": [
        "Base metrics"
      ]
    },
    {
      "cell_type": "code",
      "execution_count": 29,
      "metadata": {
        "colab": {
          "base_uri": "https://localhost:8080/",
          "height": 324
        },
        "id": "Yqcfs6m7Vxnc",
        "outputId": "a4dcec9b-c44f-44c0-8f78-d147b3c55ad5"
      },
      "outputs": [
        {
          "data": {
            "text/html": [
              "<div>\n",
              "<style scoped>\n",
              "    .dataframe tbody tr th:only-of-type {\n",
              "        vertical-align: middle;\n",
              "    }\n",
              "\n",
              "    .dataframe tbody tr th {\n",
              "        vertical-align: top;\n",
              "    }\n",
              "\n",
              "    .dataframe thead th {\n",
              "        text-align: right;\n",
              "    }\n",
              "</style>\n",
              "<table border=\"1\" class=\"dataframe\">\n",
              "  <thead>\n",
              "    <tr style=\"text-align: right;\">\n",
              "      <th></th>\n",
              "      <th>LR Train set</th>\n",
              "      <th>LR Test set</th>\n",
              "      <th>KNN Train set</th>\n",
              "      <th>KNN Test set</th>\n",
              "      <th>DTC Train set</th>\n",
              "      <th>DTC Test set</th>\n",
              "      <th>RFC Train set</th>\n",
              "      <th>RFC Test set</th>\n",
              "      <th>XGB Train set</th>\n",
              "      <th>XGB Test set</th>\n",
              "      <th>LGBM Train set</th>\n",
              "      <th>LGBM Test set</th>\n",
              "      <th>MLP Train set</th>\n",
              "      <th>MLP Test set</th>\n",
              "    </tr>\n",
              "  </thead>\n",
              "  <tbody>\n",
              "    <tr>\n",
              "      <th>ROC AUC Score</th>\n",
              "      <td>0.626755</td>\n",
              "      <td>0.620684</td>\n",
              "      <td>0.977146</td>\n",
              "      <td>0.543598</td>\n",
              "      <td>0.848646</td>\n",
              "      <td>0.539888</td>\n",
              "      <td>0.998549</td>\n",
              "      <td>0.663821</td>\n",
              "      <td>0.879383</td>\n",
              "      <td>0.661066</td>\n",
              "      <td>0.777032</td>\n",
              "      <td>0.683827</td>\n",
              "      <td>0.640344</td>\n",
              "      <td>0.629762</td>\n",
              "    </tr>\n",
              "    <tr>\n",
              "      <th>Gini Score</th>\n",
              "      <td>0.253510</td>\n",
              "      <td>0.241367</td>\n",
              "      <td>0.954293</td>\n",
              "      <td>0.087196</td>\n",
              "      <td>0.697292</td>\n",
              "      <td>0.079777</td>\n",
              "      <td>0.997098</td>\n",
              "      <td>0.327642</td>\n",
              "      <td>0.758766</td>\n",
              "      <td>0.322132</td>\n",
              "      <td>0.554064</td>\n",
              "      <td>0.367655</td>\n",
              "      <td>0.280688</td>\n",
              "      <td>0.259525</td>\n",
              "    </tr>\n",
              "    <tr>\n",
              "      <th>Recall Score</th>\n",
              "      <td>0.591615</td>\n",
              "      <td>0.584740</td>\n",
              "      <td>0.790106</td>\n",
              "      <td>0.172996</td>\n",
              "      <td>0.794229</td>\n",
              "      <td>0.342475</td>\n",
              "      <td>0.788264</td>\n",
              "      <td>0.050985</td>\n",
              "      <td>0.784493</td>\n",
              "      <td>0.507032</td>\n",
              "      <td>0.730111</td>\n",
              "      <td>0.620253</td>\n",
              "      <td>0.048768</td>\n",
              "      <td>0.037623</td>\n",
              "    </tr>\n",
              "    <tr>\n",
              "      <th>Precision Score</th>\n",
              "      <td>0.366457</td>\n",
              "      <td>0.369145</td>\n",
              "      <td>0.952321</td>\n",
              "      <td>0.341430</td>\n",
              "      <td>0.766853</td>\n",
              "      <td>0.342837</td>\n",
              "      <td>0.995018</td>\n",
              "      <td>0.599174</td>\n",
              "      <td>0.615808</td>\n",
              "      <td>0.413181</td>\n",
              "      <td>0.472632</td>\n",
              "      <td>0.405704</td>\n",
              "      <td>0.535645</td>\n",
              "      <td>0.457265</td>\n",
              "    </tr>\n",
              "    <tr>\n",
              "      <th>F1 Score</th>\n",
              "      <td>0.452578</td>\n",
              "      <td>0.452579</td>\n",
              "      <td>0.863663</td>\n",
              "      <td>0.229638</td>\n",
              "      <td>0.780301</td>\n",
              "      <td>0.342656</td>\n",
              "      <td>0.879655</td>\n",
              "      <td>0.093973</td>\n",
              "      <td>0.689990</td>\n",
              "      <td>0.455320</td>\n",
              "      <td>0.573812</td>\n",
              "      <td>0.490545</td>\n",
              "      <td>0.089396</td>\n",
              "      <td>0.069526</td>\n",
              "    </tr>\n",
              "    <tr>\n",
              "      <th>Accuracy Score</th>\n",
              "      <td>0.590035</td>\n",
              "      <td>0.595719</td>\n",
              "      <td>0.928545</td>\n",
              "      <td>0.668275</td>\n",
              "      <td>0.871888</td>\n",
              "      <td>0.624460</td>\n",
              "      <td>0.938218</td>\n",
              "      <td>0.719023</td>\n",
              "      <td>0.798070</td>\n",
              "      <td>0.653301</td>\n",
              "      <td>0.689329</td>\n",
              "      <td>0.631796</td>\n",
              "      <td>0.715409</td>\n",
              "      <td>0.712190</td>\n",
              "    </tr>\n",
              "  </tbody>\n",
              "</table>\n",
              "</div>"
            ],
            "text/plain": [
              "                 LR Train set  LR Test set  KNN Train set  KNN Test set  \\\n",
              "ROC AUC Score        0.626755     0.620684       0.977146      0.543598   \n",
              "Gini Score           0.253510     0.241367       0.954293      0.087196   \n",
              "Recall Score         0.591615     0.584740       0.790106      0.172996   \n",
              "Precision Score      0.366457     0.369145       0.952321      0.341430   \n",
              "F1 Score             0.452578     0.452579       0.863663      0.229638   \n",
              "Accuracy Score       0.590035     0.595719       0.928545      0.668275   \n",
              "\n",
              "                 DTC Train set  DTC Test set  RFC Train set  RFC Test set  \\\n",
              "ROC AUC Score         0.848646      0.539888       0.998549      0.663821   \n",
              "Gini Score            0.697292      0.079777       0.997098      0.327642   \n",
              "Recall Score          0.794229      0.342475       0.788264      0.050985   \n",
              "Precision Score       0.766853      0.342837       0.995018      0.599174   \n",
              "F1 Score              0.780301      0.342656       0.879655      0.093973   \n",
              "Accuracy Score        0.871888      0.624460       0.938218      0.719023   \n",
              "\n",
              "                 XGB Train set  XGB Test set  LGBM Train set  LGBM Test set  \\\n",
              "ROC AUC Score         0.879383      0.661066        0.777032       0.683827   \n",
              "Gini Score            0.758766      0.322132        0.554064       0.367655   \n",
              "Recall Score          0.784493      0.507032        0.730111       0.620253   \n",
              "Precision Score       0.615808      0.413181        0.472632       0.405704   \n",
              "F1 Score              0.689990      0.455320        0.573812       0.490545   \n",
              "Accuracy Score        0.798070      0.653301        0.689329       0.631796   \n",
              "\n",
              "                 MLP Train set  MLP Test set  \n",
              "ROC AUC Score         0.640344      0.629762  \n",
              "Gini Score            0.280688      0.259525  \n",
              "Recall Score          0.048768      0.037623  \n",
              "Precision Score       0.535645      0.457265  \n",
              "F1 Score              0.089396      0.069526  \n",
              "Accuracy Score        0.715409      0.712190  "
            ]
          },
          "execution_count": 29,
          "metadata": {},
          "output_type": "execute_result"
        }
      ],
      "source": [
        "total_metrics = pd.DataFrame()\n",
        "\n",
        "pipes = [('LR', lr_pipe), ('KNN', knn_pipe), ('DTC', dtc_pipe),\n",
        "         ('RFC', rfc_pipe), ('XGB', xgb_pipe), ('LGBM', lgbm_pipe),\n",
        "         ('MLP', mlp_pipe)]\n",
        "\n",
        "for clf_name, clf in pipes:\n",
        "    y_train_pred_probs = clf.predict_proba(X_train)[:, 1]\n",
        "    y_test_pred_probs = clf.predict_proba(X_test)[:, 1]\n",
        "\n",
        "    y_train_pred_class = clf.predict(X_train)\n",
        "    y_test_pred_class = clf.predict(X_test)\n",
        "\n",
        "    result = evaluation_metric(clf_name, y_train_pred_probs, y_test_pred_probs,\n",
        "                                y_train, y_train_pred_class, y_test, y_test_pred_class)\n",
        "\n",
        "    total_metrics = pd.concat([total_metrics, result], axis = 1)\n",
        "\n",
        "total_metrics"
      ]
    },
    {
      "cell_type": "markdown",
      "metadata": {
        "id": "pNjDEP9qVxnc"
      },
      "source": [
        "# Hyperparameter Tuning with Bayesian Search :)"
      ]
    },
    {
      "cell_type": "markdown",
      "metadata": {
        "id": "NopJ0EBpa54R"
      },
      "source": [
        "Setting a function to compare metrics"
      ]
    },
    {
      "cell_type": "code",
      "execution_count": 30,
      "metadata": {
        "id": "qWY_Wm9Ga6Mn"
      },
      "outputs": [],
      "source": [
        "def compare_base_tuner(name, base_pipe, tuned_pipe):\n",
        "    total_metrics = pd.DataFrame()\n",
        "    pipes = [(name, base_pipe), (f'{name}_TUNED', tuned_pipe.best_estimator_)]\n",
        "\n",
        "    for clf_name, clf in pipes:\n",
        "        y_train_pred_probs = clf.predict_proba(X_train)[:, 1]\n",
        "        y_test_pred_probs = clf.predict_proba(X_test)[:, 1]\n",
        "\n",
        "        y_train_pred_class = clf.predict(X_train)\n",
        "        y_test_pred_class = clf.predict(X_test)\n",
        "\n",
        "        result = evaluation_metric(clf_name, y_train_pred_probs, y_test_pred_probs,\n",
        "                                    y_train, y_train_pred_class, y_test, y_test_pred_class)\n",
        "\n",
        "        total_metrics = pd.concat([total_metrics, result], axis = 1)\n",
        "\n",
        "    return total_metrics"
      ]
    },
    {
      "cell_type": "markdown",
      "metadata": {
        "id": "KKS0PenbVxnc"
      },
      "source": [
        "## Logistic Regression"
      ]
    },
    {
      "cell_type": "code",
      "execution_count": 32,
      "metadata": {
        "colab": {
          "base_uri": "https://localhost:8080/",
          "height": 323
        },
        "id": "QpRH1xYjWwOE",
        "outputId": "8e7245f1-61ff-4fa3-b965-ce99ba870f2b"
      },
      "outputs": [
        {
          "name": "stdout",
          "output_type": "stream",
          "text": [
            "CPU times: user 2min 45s, sys: 57.1 s, total: 3min 42s\n",
            "Wall time: 15min 1s\n"
          ]
        },
        {
          "data": {
            "text/html": [
              "<style>#sk-container-id-1 {color: black;}#sk-container-id-1 pre{padding: 0;}#sk-container-id-1 div.sk-toggleable {background-color: white;}#sk-container-id-1 label.sk-toggleable__label {cursor: pointer;display: block;width: 100%;margin-bottom: 0;padding: 0.3em;box-sizing: border-box;text-align: center;}#sk-container-id-1 label.sk-toggleable__label-arrow:before {content: \"▸\";float: left;margin-right: 0.25em;color: #696969;}#sk-container-id-1 label.sk-toggleable__label-arrow:hover:before {color: black;}#sk-container-id-1 div.sk-estimator:hover label.sk-toggleable__label-arrow:before {color: black;}#sk-container-id-1 div.sk-toggleable__content {max-height: 0;max-width: 0;overflow: hidden;text-align: left;background-color: #f0f8ff;}#sk-container-id-1 div.sk-toggleable__content pre {margin: 0.2em;color: black;border-radius: 0.25em;background-color: #f0f8ff;}#sk-container-id-1 input.sk-toggleable__control:checked~div.sk-toggleable__content {max-height: 200px;max-width: 100%;overflow: auto;}#sk-container-id-1 input.sk-toggleable__control:checked~label.sk-toggleable__label-arrow:before {content: \"▾\";}#sk-container-id-1 div.sk-estimator input.sk-toggleable__control:checked~label.sk-toggleable__label {background-color: #d4ebff;}#sk-container-id-1 div.sk-label input.sk-toggleable__control:checked~label.sk-toggleable__label {background-color: #d4ebff;}#sk-container-id-1 input.sk-hidden--visually {border: 0;clip: rect(1px 1px 1px 1px);clip: rect(1px, 1px, 1px, 1px);height: 1px;margin: -1px;overflow: hidden;padding: 0;position: absolute;width: 1px;}#sk-container-id-1 div.sk-estimator {font-family: monospace;background-color: #f0f8ff;border: 1px dotted black;border-radius: 0.25em;box-sizing: border-box;margin-bottom: 0.5em;}#sk-container-id-1 div.sk-estimator:hover {background-color: #d4ebff;}#sk-container-id-1 div.sk-parallel-item::after {content: \"\";width: 100%;border-bottom: 1px solid gray;flex-grow: 1;}#sk-container-id-1 div.sk-label:hover label.sk-toggleable__label {background-color: #d4ebff;}#sk-container-id-1 div.sk-serial::before {content: \"\";position: absolute;border-left: 1px solid gray;box-sizing: border-box;top: 0;bottom: 0;left: 50%;z-index: 0;}#sk-container-id-1 div.sk-serial {display: flex;flex-direction: column;align-items: center;background-color: white;padding-right: 0.2em;padding-left: 0.2em;position: relative;}#sk-container-id-1 div.sk-item {position: relative;z-index: 1;}#sk-container-id-1 div.sk-parallel {display: flex;align-items: stretch;justify-content: center;background-color: white;position: relative;}#sk-container-id-1 div.sk-item::before, #sk-container-id-1 div.sk-parallel-item::before {content: \"\";position: absolute;border-left: 1px solid gray;box-sizing: border-box;top: 0;bottom: 0;left: 50%;z-index: -1;}#sk-container-id-1 div.sk-parallel-item {display: flex;flex-direction: column;z-index: 1;position: relative;background-color: white;}#sk-container-id-1 div.sk-parallel-item:first-child::after {align-self: flex-end;width: 50%;}#sk-container-id-1 div.sk-parallel-item:last-child::after {align-self: flex-start;width: 50%;}#sk-container-id-1 div.sk-parallel-item:only-child::after {width: 0;}#sk-container-id-1 div.sk-dashed-wrapped {border: 1px dashed gray;margin: 0 0.4em 0.5em 0.4em;box-sizing: border-box;padding-bottom: 0.4em;background-color: white;}#sk-container-id-1 div.sk-label label {font-family: monospace;font-weight: bold;display: inline-block;line-height: 1.2em;}#sk-container-id-1 div.sk-label-container {text-align: center;}#sk-container-id-1 div.sk-container {/* jupyter's `normalize.less` sets `[hidden] { display: none; }` but bootstrap.min.css set `[hidden] { display: none !important; }` so we also need the `!important` here to be able to override the default hidden behavior on the sphinx rendered scikit-learn.org. See: https://github.com/scikit-learn/scikit-learn/issues/21755 */display: inline-block !important;position: relative;}#sk-container-id-1 div.sk-text-repr-fallback {display: none;}</style><div id=\"sk-container-id-1\" class=\"sk-top-container\"><div class=\"sk-text-repr-fallback\"><pre>BayesSearchCV(cv=10, error_score=0,\n",
              "              estimator=Pipeline(steps=[(&#x27;prep&#x27;,\n",
              "                                         ColumnTransformer(remainder=&#x27;passthrough&#x27;,\n",
              "                                                           transformers=[(&#x27;num&#x27;,\n",
              "                                                                          Pipeline(steps=[(&#x27;outlier&#x27;,\n",
              "                                                                                           &lt;__main__.CleanOutliers object at 0x7bc8ae7af910&gt;),\n",
              "                                                                                          (&#x27;impute&#x27;,\n",
              "                                                                                           SimpleImputer())]),\n",
              "                                                                          [&#x27;MonthlyRevenue&#x27;,\n",
              "                                                                           &#x27;MonthlyMinutes&#x27;,\n",
              "                                                                           &#x27;TotalRecurringCharge&#x27;,\n",
              "                                                                           &#x27;DirectorAssistedCalls&#x27;,\n",
              "                                                                           &#x27;OverageMinutes&#x27;,\n",
              "                                                                           &#x27;RoamingCalls&#x27;,\n",
              "                                                                           &#x27;...\n",
              "              n_jobs=-1, random_state=23, return_train_score=True,\n",
              "              scoring=&#x27;recall&#x27;,\n",
              "              search_spaces={&#x27;clf__C&#x27;: Real(low=1, high=100, prior=&#x27;uniform&#x27;, transform=&#x27;normalize&#x27;),\n",
              "                             &#x27;clf__max_iter&#x27;: Integer(low=100, high=500, prior=&#x27;uniform&#x27;, transform=&#x27;normalize&#x27;),\n",
              "                             &#x27;clf__penalty&#x27;: Categorical(categories=(&#x27;l2&#x27;, None), prior=None),\n",
              "                             &#x27;clf__solver&#x27;: Categorical(categories=(&#x27;lbfgs&#x27;, &#x27;newton-cg&#x27;, &#x27;newton-cholesky&#x27;, &#x27;sag&#x27;, &#x27;saga&#x27;), prior=None)})</pre><b>In a Jupyter environment, please rerun this cell to show the HTML representation or trust the notebook. <br />On GitHub, the HTML representation is unable to render, please try loading this page with nbviewer.org.</b></div><div class=\"sk-container\" hidden><div class=\"sk-item sk-dashed-wrapped\"><div class=\"sk-label-container\"><div class=\"sk-label sk-toggleable\"><input class=\"sk-toggleable__control sk-hidden--visually\" id=\"sk-estimator-id-1\" type=\"checkbox\" ><label for=\"sk-estimator-id-1\" class=\"sk-toggleable__label sk-toggleable__label-arrow\">BayesSearchCV</label><div class=\"sk-toggleable__content\"><pre>BayesSearchCV(cv=10, error_score=0,\n",
              "              estimator=Pipeline(steps=[(&#x27;prep&#x27;,\n",
              "                                         ColumnTransformer(remainder=&#x27;passthrough&#x27;,\n",
              "                                                           transformers=[(&#x27;num&#x27;,\n",
              "                                                                          Pipeline(steps=[(&#x27;outlier&#x27;,\n",
              "                                                                                           &lt;__main__.CleanOutliers object at 0x7bc8ae7af910&gt;),\n",
              "                                                                                          (&#x27;impute&#x27;,\n",
              "                                                                                           SimpleImputer())]),\n",
              "                                                                          [&#x27;MonthlyRevenue&#x27;,\n",
              "                                                                           &#x27;MonthlyMinutes&#x27;,\n",
              "                                                                           &#x27;TotalRecurringCharge&#x27;,\n",
              "                                                                           &#x27;DirectorAssistedCalls&#x27;,\n",
              "                                                                           &#x27;OverageMinutes&#x27;,\n",
              "                                                                           &#x27;RoamingCalls&#x27;,\n",
              "                                                                           &#x27;...\n",
              "              n_jobs=-1, random_state=23, return_train_score=True,\n",
              "              scoring=&#x27;recall&#x27;,\n",
              "              search_spaces={&#x27;clf__C&#x27;: Real(low=1, high=100, prior=&#x27;uniform&#x27;, transform=&#x27;normalize&#x27;),\n",
              "                             &#x27;clf__max_iter&#x27;: Integer(low=100, high=500, prior=&#x27;uniform&#x27;, transform=&#x27;normalize&#x27;),\n",
              "                             &#x27;clf__penalty&#x27;: Categorical(categories=(&#x27;l2&#x27;, None), prior=None),\n",
              "                             &#x27;clf__solver&#x27;: Categorical(categories=(&#x27;lbfgs&#x27;, &#x27;newton-cg&#x27;, &#x27;newton-cholesky&#x27;, &#x27;sag&#x27;, &#x27;saga&#x27;), prior=None)})</pre></div></div></div><div class=\"sk-parallel\"><div class=\"sk-parallel-item\"><div class=\"sk-item\"><div class=\"sk-label-container\"><div class=\"sk-label sk-toggleable\"><input class=\"sk-toggleable__control sk-hidden--visually\" id=\"sk-estimator-id-2\" type=\"checkbox\" ><label for=\"sk-estimator-id-2\" class=\"sk-toggleable__label sk-toggleable__label-arrow\">estimator: Pipeline</label><div class=\"sk-toggleable__content\"><pre>Pipeline(steps=[(&#x27;prep&#x27;,\n",
              "                 ColumnTransformer(remainder=&#x27;passthrough&#x27;,\n",
              "                                   transformers=[(&#x27;num&#x27;,\n",
              "                                                  Pipeline(steps=[(&#x27;outlier&#x27;,\n",
              "                                                                   &lt;__main__.CleanOutliers object at 0x7bc8ae7af910&gt;),\n",
              "                                                                  (&#x27;impute&#x27;,\n",
              "                                                                   SimpleImputer())]),\n",
              "                                                  [&#x27;MonthlyRevenue&#x27;,\n",
              "                                                   &#x27;MonthlyMinutes&#x27;,\n",
              "                                                   &#x27;TotalRecurringCharge&#x27;,\n",
              "                                                   &#x27;DirectorAssistedCalls&#x27;,\n",
              "                                                   &#x27;OverageMinutes&#x27;,\n",
              "                                                   &#x27;RoamingCalls&#x27;,\n",
              "                                                   &#x27;PercChangeMinutes&#x27;,\n",
              "                                                   &#x27;PercChangeRevenues&#x27;,\n",
              "                                                   &#x27;Dro...\n",
              "                                                   &#x27;BuysViaMailOrder&#x27;,\n",
              "                                                   &#x27;RespondsToMailOffers&#x27;,\n",
              "                                                   &#x27;OptOutMailings&#x27;,\n",
              "                                                   &#x27;NonUSTravel&#x27;,\n",
              "                                                   &#x27;OwnsComputer&#x27;,\n",
              "                                                   &#x27;HasCreditCard&#x27;,\n",
              "                                                   &#x27;NewCellphoneUser&#x27;,\n",
              "                                                   &#x27;NotNewCellphoneUser&#x27;,\n",
              "                                                   &#x27;OwnsMotorcycle&#x27;,\n",
              "                                                   &#x27;MadeCallToRetentionTeam&#x27;,\n",
              "                                                   &#x27;CreditRating&#x27;, &#x27;PrizmCode&#x27;,\n",
              "                                                   &#x27;Occupation&#x27;,\n",
              "                                                   &#x27;MaritalStatus&#x27;])])),\n",
              "                (&#x27;sc&#x27;, StandardScaler()),\n",
              "                (&#x27;clf&#x27;,\n",
              "                 LogisticRegression(class_weight=&#x27;balanced&#x27;, n_jobs=-1,\n",
              "                                    random_state=24))])</pre></div></div></div><div class=\"sk-serial\"><div class=\"sk-item\"><div class=\"sk-serial\"><div class=\"sk-item sk-dashed-wrapped\"><div class=\"sk-label-container\"><div class=\"sk-label sk-toggleable\"><input class=\"sk-toggleable__control sk-hidden--visually\" id=\"sk-estimator-id-3\" type=\"checkbox\" ><label for=\"sk-estimator-id-3\" class=\"sk-toggleable__label sk-toggleable__label-arrow\">prep: ColumnTransformer</label><div class=\"sk-toggleable__content\"><pre>ColumnTransformer(remainder=&#x27;passthrough&#x27;,\n",
              "                  transformers=[(&#x27;num&#x27;,\n",
              "                                 Pipeline(steps=[(&#x27;outlier&#x27;,\n",
              "                                                  &lt;__main__.CleanOutliers object at 0x7bc8ae7af910&gt;),\n",
              "                                                 (&#x27;impute&#x27;, SimpleImputer())]),\n",
              "                                 [&#x27;MonthlyRevenue&#x27;, &#x27;MonthlyMinutes&#x27;,\n",
              "                                  &#x27;TotalRecurringCharge&#x27;,\n",
              "                                  &#x27;DirectorAssistedCalls&#x27;, &#x27;OverageMinutes&#x27;,\n",
              "                                  &#x27;RoamingCalls&#x27;, &#x27;PercChangeMinutes&#x27;,\n",
              "                                  &#x27;PercChangeRevenues&#x27;, &#x27;DroppedCalls&#x27;,\n",
              "                                  &#x27;BlockedCalls...\n",
              "                                 [&#x27;ServiceArea&#x27;, &#x27;ChildrenInHH&#x27;,\n",
              "                                  &#x27;HandsetRefurbished&#x27;, &#x27;HandsetWebCapable&#x27;,\n",
              "                                  &#x27;TruckOwner&#x27;, &#x27;RVOwner&#x27;, &#x27;Homeownership&#x27;,\n",
              "                                  &#x27;BuysViaMailOrder&#x27;, &#x27;RespondsToMailOffers&#x27;,\n",
              "                                  &#x27;OptOutMailings&#x27;, &#x27;NonUSTravel&#x27;,\n",
              "                                  &#x27;OwnsComputer&#x27;, &#x27;HasCreditCard&#x27;,\n",
              "                                  &#x27;NewCellphoneUser&#x27;, &#x27;NotNewCellphoneUser&#x27;,\n",
              "                                  &#x27;OwnsMotorcycle&#x27;, &#x27;MadeCallToRetentionTeam&#x27;,\n",
              "                                  &#x27;CreditRating&#x27;, &#x27;PrizmCode&#x27;, &#x27;Occupation&#x27;,\n",
              "                                  &#x27;MaritalStatus&#x27;])])</pre></div></div></div><div class=\"sk-parallel\"><div class=\"sk-parallel-item\"><div class=\"sk-item\"><div class=\"sk-label-container\"><div class=\"sk-label sk-toggleable\"><input class=\"sk-toggleable__control sk-hidden--visually\" id=\"sk-estimator-id-4\" type=\"checkbox\" ><label for=\"sk-estimator-id-4\" class=\"sk-toggleable__label sk-toggleable__label-arrow\">num</label><div class=\"sk-toggleable__content\"><pre>[&#x27;MonthlyRevenue&#x27;, &#x27;MonthlyMinutes&#x27;, &#x27;TotalRecurringCharge&#x27;, &#x27;DirectorAssistedCalls&#x27;, &#x27;OverageMinutes&#x27;, &#x27;RoamingCalls&#x27;, &#x27;PercChangeMinutes&#x27;, &#x27;PercChangeRevenues&#x27;, &#x27;DroppedCalls&#x27;, &#x27;BlockedCalls&#x27;, &#x27;UnansweredCalls&#x27;, &#x27;CustomerCareCalls&#x27;, &#x27;ThreewayCalls&#x27;, &#x27;ReceivedCalls&#x27;, &#x27;OutboundCalls&#x27;, &#x27;InboundCalls&#x27;, &#x27;PeakCallsInOut&#x27;, &#x27;OffPeakCallsInOut&#x27;, &#x27;DroppedBlockedCalls&#x27;, &#x27;CallForwardingCalls&#x27;, &#x27;CallWaitingCalls&#x27;, &#x27;MonthsInService&#x27;, &#x27;UniqueSubs&#x27;, &#x27;ActiveSubs&#x27;, &#x27;Handsets&#x27;, &#x27;HandsetModels&#x27;, &#x27;CurrentEquipmentDays&#x27;, &#x27;AgeHH1&#x27;, &#x27;AgeHH2&#x27;, &#x27;RetentionCalls&#x27;, &#x27;RetentionOffersAccepted&#x27;, &#x27;ReferralsMadeBySubscriber&#x27;, &#x27;IncomeGroup&#x27;, &#x27;AdjustmentsToCreditRating&#x27;, &#x27;HandsetPrice&#x27;]</pre></div></div></div><div class=\"sk-serial\"><div class=\"sk-item\"><div class=\"sk-serial\"><div class=\"sk-item\"><div class=\"sk-estimator sk-toggleable\"><input class=\"sk-toggleable__control sk-hidden--visually\" id=\"sk-estimator-id-5\" type=\"checkbox\" ><label for=\"sk-estimator-id-5\" class=\"sk-toggleable__label sk-toggleable__label-arrow\">CleanOutliers</label><div class=\"sk-toggleable__content\"><pre>&lt;__main__.CleanOutliers object at 0x7bc8ae7af910&gt;</pre></div></div></div><div class=\"sk-item\"><div class=\"sk-estimator sk-toggleable\"><input class=\"sk-toggleable__control sk-hidden--visually\" id=\"sk-estimator-id-6\" type=\"checkbox\" ><label for=\"sk-estimator-id-6\" class=\"sk-toggleable__label sk-toggleable__label-arrow\">SimpleImputer</label><div class=\"sk-toggleable__content\"><pre>SimpleImputer()</pre></div></div></div></div></div></div></div></div><div class=\"sk-parallel-item\"><div class=\"sk-item\"><div class=\"sk-label-container\"><div class=\"sk-label sk-toggleable\"><input class=\"sk-toggleable__control sk-hidden--visually\" id=\"sk-estimator-id-7\" type=\"checkbox\" ><label for=\"sk-estimator-id-7\" class=\"sk-toggleable__label sk-toggleable__label-arrow\">cat</label><div class=\"sk-toggleable__content\"><pre>[&#x27;ServiceArea&#x27;, &#x27;ChildrenInHH&#x27;, &#x27;HandsetRefurbished&#x27;, &#x27;HandsetWebCapable&#x27;, &#x27;TruckOwner&#x27;, &#x27;RVOwner&#x27;, &#x27;Homeownership&#x27;, &#x27;BuysViaMailOrder&#x27;, &#x27;RespondsToMailOffers&#x27;, &#x27;OptOutMailings&#x27;, &#x27;NonUSTravel&#x27;, &#x27;OwnsComputer&#x27;, &#x27;HasCreditCard&#x27;, &#x27;NewCellphoneUser&#x27;, &#x27;NotNewCellphoneUser&#x27;, &#x27;OwnsMotorcycle&#x27;, &#x27;MadeCallToRetentionTeam&#x27;, &#x27;CreditRating&#x27;, &#x27;PrizmCode&#x27;, &#x27;Occupation&#x27;, &#x27;MaritalStatus&#x27;]</pre></div></div></div><div class=\"sk-serial\"><div class=\"sk-item\"><div class=\"sk-estimator sk-toggleable\"><input class=\"sk-toggleable__control sk-hidden--visually\" id=\"sk-estimator-id-8\" type=\"checkbox\" ><label for=\"sk-estimator-id-8\" class=\"sk-toggleable__label sk-toggleable__label-arrow\">TargetEncoder</label><div class=\"sk-toggleable__content\"><pre>TargetEncoder(random_state=23)</pre></div></div></div></div></div></div><div class=\"sk-parallel-item\"><div class=\"sk-item\"><div class=\"sk-label-container\"><div class=\"sk-label sk-toggleable\"><input class=\"sk-toggleable__control sk-hidden--visually\" id=\"sk-estimator-id-9\" type=\"checkbox\" ><label for=\"sk-estimator-id-9\" class=\"sk-toggleable__label sk-toggleable__label-arrow\">remainder</label><div class=\"sk-toggleable__content\"><pre>[]</pre></div></div></div><div class=\"sk-serial\"><div class=\"sk-item\"><div class=\"sk-estimator sk-toggleable\"><input class=\"sk-toggleable__control sk-hidden--visually\" id=\"sk-estimator-id-10\" type=\"checkbox\" ><label for=\"sk-estimator-id-10\" class=\"sk-toggleable__label sk-toggleable__label-arrow\">passthrough</label><div class=\"sk-toggleable__content\"><pre>passthrough</pre></div></div></div></div></div></div></div></div><div class=\"sk-item\"><div class=\"sk-estimator sk-toggleable\"><input class=\"sk-toggleable__control sk-hidden--visually\" id=\"sk-estimator-id-11\" type=\"checkbox\" ><label for=\"sk-estimator-id-11\" class=\"sk-toggleable__label sk-toggleable__label-arrow\">StandardScaler</label><div class=\"sk-toggleable__content\"><pre>StandardScaler()</pre></div></div></div><div class=\"sk-item\"><div class=\"sk-estimator sk-toggleable\"><input class=\"sk-toggleable__control sk-hidden--visually\" id=\"sk-estimator-id-12\" type=\"checkbox\" ><label for=\"sk-estimator-id-12\" class=\"sk-toggleable__label sk-toggleable__label-arrow\">LogisticRegression</label><div class=\"sk-toggleable__content\"><pre>LogisticRegression(class_weight=&#x27;balanced&#x27;, n_jobs=-1, random_state=24)</pre></div></div></div></div></div></div></div></div></div></div></div></div>"
            ],
            "text/plain": [
              "BayesSearchCV(cv=10, error_score=0,\n",
              "              estimator=Pipeline(steps=[('prep',\n",
              "                                         ColumnTransformer(remainder='passthrough',\n",
              "                                                           transformers=[('num',\n",
              "                                                                          Pipeline(steps=[('outlier',\n",
              "                                                                                           <__main__.CleanOutliers object at 0x7bc8ae7af910>),\n",
              "                                                                                          ('impute',\n",
              "                                                                                           SimpleImputer())]),\n",
              "                                                                          ['MonthlyRevenue',\n",
              "                                                                           'MonthlyMinutes',\n",
              "                                                                           'TotalRecurringCharge',\n",
              "                                                                           'DirectorAssistedCalls',\n",
              "                                                                           'OverageMinutes',\n",
              "                                                                           'RoamingCalls',\n",
              "                                                                           '...\n",
              "              n_jobs=-1, random_state=23, return_train_score=True,\n",
              "              scoring='recall',\n",
              "              search_spaces={'clf__C': Real(low=1, high=100, prior='uniform', transform='normalize'),\n",
              "                             'clf__max_iter': Integer(low=100, high=500, prior='uniform', transform='normalize'),\n",
              "                             'clf__penalty': Categorical(categories=('l2', None), prior=None),\n",
              "                             'clf__solver': Categorical(categories=('lbfgs', 'newton-cg', 'newton-cholesky', 'sag', 'saga'), prior=None)})"
            ]
          },
          "execution_count": 32,
          "metadata": {},
          "output_type": "execute_result"
        }
      ],
      "source": [
        "%%time\n",
        "\n",
        "# creating model\n",
        "model = LogisticRegression(class_weight = 'balanced', random_state = 24, n_jobs = -1)\n",
        "pipe = Pipeline([('prep', column_transformer), ('sc', scaler), ('clf', model)])\n",
        "hyperparameter_ranges = {\n",
        "    'clf__C': Real(1, 100),\n",
        "    'clf__solver': Categorical(['lbfgs', 'newton-cg', 'newton-cholesky', 'sag', 'saga']),\n",
        "    'clf__penalty': Categorical(['l2', None]),\n",
        "    'clf__max_iter': Integer(100, 500),\n",
        "}\n",
        "\n",
        "# creating grid\n",
        "lr_bayes_search = BayesSearchCV(estimator = pipe,\n",
        "                              search_spaces = hyperparameter_ranges,\n",
        "                              n_jobs=-1,\n",
        "                              cv = 10,\n",
        "                              scoring = 'recall',\n",
        "                              error_score = 0,\n",
        "                              random_state = 23,\n",
        "                              return_train_score = True)\n",
        "lr_bayes_search.fit(X_train, y_train)"
      ]
    },
    {
      "cell_type": "code",
      "execution_count": 33,
      "metadata": {
        "colab": {
          "base_uri": "https://localhost:8080/"
        },
        "id": "0_MZJZNyfXdc",
        "outputId": "69c7c7d7-ee14-4fb6-b5ec-a86e8d4dbc6f"
      },
      "outputs": [
        {
          "data": {
            "text/plain": [
              "OrderedDict([('clf__C', 19.093626973347316),\n",
              "             ('clf__max_iter', 126),\n",
              "             ('clf__penalty', 'l2'),\n",
              "             ('clf__solver', 'newton-cg')])"
            ]
          },
          "execution_count": 33,
          "metadata": {},
          "output_type": "execute_result"
        }
      ],
      "source": [
        "lr_bayes_search.best_params_"
      ]
    },
    {
      "cell_type": "code",
      "execution_count": 34,
      "metadata": {
        "colab": {
          "base_uri": "https://localhost:8080/"
        },
        "id": "pNKmoE24ffw_",
        "outputId": "bd35f806-4ea9-482f-bc8d-18dc7ba3eb03"
      },
      "outputs": [
        {
          "data": {
            "text/plain": [
              "{'C': 1.0,\n",
              " 'class_weight': 'balanced',\n",
              " 'dual': False,\n",
              " 'fit_intercept': True,\n",
              " 'intercept_scaling': 1,\n",
              " 'l1_ratio': None,\n",
              " 'max_iter': 100,\n",
              " 'multi_class': 'auto',\n",
              " 'n_jobs': -1,\n",
              " 'penalty': 'l2',\n",
              " 'random_state': 24,\n",
              " 'solver': 'lbfgs',\n",
              " 'tol': 0.0001,\n",
              " 'verbose': 0,\n",
              " 'warm_start': False}"
            ]
          },
          "execution_count": 34,
          "metadata": {},
          "output_type": "execute_result"
        }
      ],
      "source": [
        "lr_pipe[-1].get_params()"
      ]
    },
    {
      "cell_type": "code",
      "execution_count": 35,
      "metadata": {
        "colab": {
          "base_uri": "https://localhost:8080/",
          "height": 238
        },
        "id": "U0dD0WlzZaZL",
        "outputId": "06405720-e016-418b-cf65-7a5133caa867"
      },
      "outputs": [
        {
          "data": {
            "text/html": [
              "\n",
              "  <div id=\"df-0485349f-668c-4dfb-8b4b-eed651f2e1cd\" class=\"colab-df-container\">\n",
              "    <div>\n",
              "<style scoped>\n",
              "    .dataframe tbody tr th:only-of-type {\n",
              "        vertical-align: middle;\n",
              "    }\n",
              "\n",
              "    .dataframe tbody tr th {\n",
              "        vertical-align: top;\n",
              "    }\n",
              "\n",
              "    .dataframe thead th {\n",
              "        text-align: right;\n",
              "    }\n",
              "</style>\n",
              "<table border=\"1\" class=\"dataframe\">\n",
              "  <thead>\n",
              "    <tr style=\"text-align: right;\">\n",
              "      <th></th>\n",
              "      <th>LR Train set</th>\n",
              "      <th>LR Test set</th>\n",
              "      <th>LR_TUNED Train set</th>\n",
              "      <th>LR_TUNED Test set</th>\n",
              "    </tr>\n",
              "  </thead>\n",
              "  <tbody>\n",
              "    <tr>\n",
              "      <th>ROC AUC Score</th>\n",
              "      <td>0.626755</td>\n",
              "      <td>0.620684</td>\n",
              "      <td>0.626755</td>\n",
              "      <td>0.620688</td>\n",
              "    </tr>\n",
              "    <tr>\n",
              "      <th>Gini Score</th>\n",
              "      <td>0.253510</td>\n",
              "      <td>0.241367</td>\n",
              "      <td>0.253511</td>\n",
              "      <td>0.241376</td>\n",
              "    </tr>\n",
              "    <tr>\n",
              "      <th>Recall Score</th>\n",
              "      <td>0.591615</td>\n",
              "      <td>0.584740</td>\n",
              "      <td>0.591615</td>\n",
              "      <td>0.584740</td>\n",
              "    </tr>\n",
              "    <tr>\n",
              "      <th>Precision Score</th>\n",
              "      <td>0.366457</td>\n",
              "      <td>0.369145</td>\n",
              "      <td>0.366437</td>\n",
              "      <td>0.369227</td>\n",
              "    </tr>\n",
              "    <tr>\n",
              "      <th>F1 Score</th>\n",
              "      <td>0.452578</td>\n",
              "      <td>0.452579</td>\n",
              "      <td>0.452563</td>\n",
              "      <td>0.452640</td>\n",
              "    </tr>\n",
              "    <tr>\n",
              "      <th>Accuracy Score</th>\n",
              "      <td>0.590035</td>\n",
              "      <td>0.595719</td>\n",
              "      <td>0.590010</td>\n",
              "      <td>0.595820</td>\n",
              "    </tr>\n",
              "  </tbody>\n",
              "</table>\n",
              "</div>\n",
              "    <div class=\"colab-df-buttons\">\n",
              "\n",
              "  <div class=\"colab-df-container\">\n",
              "    <button class=\"colab-df-convert\" onclick=\"convertToInteractive('df-0485349f-668c-4dfb-8b4b-eed651f2e1cd')\"\n",
              "            title=\"Convert this dataframe to an interactive table.\"\n",
              "            style=\"display:none;\">\n",
              "\n",
              "  <svg xmlns=\"http://www.w3.org/2000/svg\" height=\"24px\" viewBox=\"0 -960 960 960\">\n",
              "    <path d=\"M120-120v-720h720v720H120Zm60-500h600v-160H180v160Zm220 220h160v-160H400v160Zm0 220h160v-160H400v160ZM180-400h160v-160H180v160Zm440 0h160v-160H620v160ZM180-180h160v-160H180v160Zm440 0h160v-160H620v160Z\"/>\n",
              "  </svg>\n",
              "    </button>\n",
              "\n",
              "  <style>\n",
              "    .colab-df-container {\n",
              "      display:flex;\n",
              "      gap: 12px;\n",
              "    }\n",
              "\n",
              "    .colab-df-convert {\n",
              "      background-color: #E8F0FE;\n",
              "      border: none;\n",
              "      border-radius: 50%;\n",
              "      cursor: pointer;\n",
              "      display: none;\n",
              "      fill: #1967D2;\n",
              "      height: 32px;\n",
              "      padding: 0 0 0 0;\n",
              "      width: 32px;\n",
              "    }\n",
              "\n",
              "    .colab-df-convert:hover {\n",
              "      background-color: #E2EBFA;\n",
              "      box-shadow: 0px 1px 2px rgba(60, 64, 67, 0.3), 0px 1px 3px 1px rgba(60, 64, 67, 0.15);\n",
              "      fill: #174EA6;\n",
              "    }\n",
              "\n",
              "    .colab-df-buttons div {\n",
              "      margin-bottom: 4px;\n",
              "    }\n",
              "\n",
              "    [theme=dark] .colab-df-convert {\n",
              "      background-color: #3B4455;\n",
              "      fill: #D2E3FC;\n",
              "    }\n",
              "\n",
              "    [theme=dark] .colab-df-convert:hover {\n",
              "      background-color: #434B5C;\n",
              "      box-shadow: 0px 1px 3px 1px rgba(0, 0, 0, 0.15);\n",
              "      filter: drop-shadow(0px 1px 2px rgba(0, 0, 0, 0.3));\n",
              "      fill: #FFFFFF;\n",
              "    }\n",
              "  </style>\n",
              "\n",
              "    <script>\n",
              "      const buttonEl =\n",
              "        document.querySelector('#df-0485349f-668c-4dfb-8b4b-eed651f2e1cd button.colab-df-convert');\n",
              "      buttonEl.style.display =\n",
              "        google.colab.kernel.accessAllowed ? 'block' : 'none';\n",
              "\n",
              "      async function convertToInteractive(key) {\n",
              "        const element = document.querySelector('#df-0485349f-668c-4dfb-8b4b-eed651f2e1cd');\n",
              "        const dataTable =\n",
              "          await google.colab.kernel.invokeFunction('convertToInteractive',\n",
              "                                                    [key], {});\n",
              "        if (!dataTable) return;\n",
              "\n",
              "        const docLinkHtml = 'Like what you see? Visit the ' +\n",
              "          '<a target=\"_blank\" href=https://colab.research.google.com/notebooks/data_table.ipynb>data table notebook</a>'\n",
              "          + ' to learn more about interactive tables.';\n",
              "        element.innerHTML = '';\n",
              "        dataTable['output_type'] = 'display_data';\n",
              "        await google.colab.output.renderOutput(dataTable, element);\n",
              "        const docLink = document.createElement('div');\n",
              "        docLink.innerHTML = docLinkHtml;\n",
              "        element.appendChild(docLink);\n",
              "      }\n",
              "    </script>\n",
              "  </div>\n",
              "\n",
              "\n",
              "<div id=\"df-a5a0ee59-826f-4d0e-9d6b-ac604ed847d7\">\n",
              "  <button class=\"colab-df-quickchart\" onclick=\"quickchart('df-a5a0ee59-826f-4d0e-9d6b-ac604ed847d7')\"\n",
              "            title=\"Suggest charts\"\n",
              "            style=\"display:none;\">\n",
              "\n",
              "<svg xmlns=\"http://www.w3.org/2000/svg\" height=\"24px\"viewBox=\"0 0 24 24\"\n",
              "     width=\"24px\">\n",
              "    <g>\n",
              "        <path d=\"M19 3H5c-1.1 0-2 .9-2 2v14c0 1.1.9 2 2 2h14c1.1 0 2-.9 2-2V5c0-1.1-.9-2-2-2zM9 17H7v-7h2v7zm4 0h-2V7h2v10zm4 0h-2v-4h2v4z\"/>\n",
              "    </g>\n",
              "</svg>\n",
              "  </button>\n",
              "\n",
              "<style>\n",
              "  .colab-df-quickchart {\n",
              "      --bg-color: #E8F0FE;\n",
              "      --fill-color: #1967D2;\n",
              "      --hover-bg-color: #E2EBFA;\n",
              "      --hover-fill-color: #174EA6;\n",
              "      --disabled-fill-color: #AAA;\n",
              "      --disabled-bg-color: #DDD;\n",
              "  }\n",
              "\n",
              "  [theme=dark] .colab-df-quickchart {\n",
              "      --bg-color: #3B4455;\n",
              "      --fill-color: #D2E3FC;\n",
              "      --hover-bg-color: #434B5C;\n",
              "      --hover-fill-color: #FFFFFF;\n",
              "      --disabled-bg-color: #3B4455;\n",
              "      --disabled-fill-color: #666;\n",
              "  }\n",
              "\n",
              "  .colab-df-quickchart {\n",
              "    background-color: var(--bg-color);\n",
              "    border: none;\n",
              "    border-radius: 50%;\n",
              "    cursor: pointer;\n",
              "    display: none;\n",
              "    fill: var(--fill-color);\n",
              "    height: 32px;\n",
              "    padding: 0;\n",
              "    width: 32px;\n",
              "  }\n",
              "\n",
              "  .colab-df-quickchart:hover {\n",
              "    background-color: var(--hover-bg-color);\n",
              "    box-shadow: 0 1px 2px rgba(60, 64, 67, 0.3), 0 1px 3px 1px rgba(60, 64, 67, 0.15);\n",
              "    fill: var(--button-hover-fill-color);\n",
              "  }\n",
              "\n",
              "  .colab-df-quickchart-complete:disabled,\n",
              "  .colab-df-quickchart-complete:disabled:hover {\n",
              "    background-color: var(--disabled-bg-color);\n",
              "    fill: var(--disabled-fill-color);\n",
              "    box-shadow: none;\n",
              "  }\n",
              "\n",
              "  .colab-df-spinner {\n",
              "    border: 2px solid var(--fill-color);\n",
              "    border-color: transparent;\n",
              "    border-bottom-color: var(--fill-color);\n",
              "    animation:\n",
              "      spin 1s steps(1) infinite;\n",
              "  }\n",
              "\n",
              "  @keyframes spin {\n",
              "    0% {\n",
              "      border-color: transparent;\n",
              "      border-bottom-color: var(--fill-color);\n",
              "      border-left-color: var(--fill-color);\n",
              "    }\n",
              "    20% {\n",
              "      border-color: transparent;\n",
              "      border-left-color: var(--fill-color);\n",
              "      border-top-color: var(--fill-color);\n",
              "    }\n",
              "    30% {\n",
              "      border-color: transparent;\n",
              "      border-left-color: var(--fill-color);\n",
              "      border-top-color: var(--fill-color);\n",
              "      border-right-color: var(--fill-color);\n",
              "    }\n",
              "    40% {\n",
              "      border-color: transparent;\n",
              "      border-right-color: var(--fill-color);\n",
              "      border-top-color: var(--fill-color);\n",
              "    }\n",
              "    60% {\n",
              "      border-color: transparent;\n",
              "      border-right-color: var(--fill-color);\n",
              "    }\n",
              "    80% {\n",
              "      border-color: transparent;\n",
              "      border-right-color: var(--fill-color);\n",
              "      border-bottom-color: var(--fill-color);\n",
              "    }\n",
              "    90% {\n",
              "      border-color: transparent;\n",
              "      border-bottom-color: var(--fill-color);\n",
              "    }\n",
              "  }\n",
              "</style>\n",
              "\n",
              "  <script>\n",
              "    async function quickchart(key) {\n",
              "      const quickchartButtonEl =\n",
              "        document.querySelector('#' + key + ' button');\n",
              "      quickchartButtonEl.disabled = true;  // To prevent multiple clicks.\n",
              "      quickchartButtonEl.classList.add('colab-df-spinner');\n",
              "      try {\n",
              "        const charts = await google.colab.kernel.invokeFunction(\n",
              "            'suggestCharts', [key], {});\n",
              "      } catch (error) {\n",
              "        console.error('Error during call to suggestCharts:', error);\n",
              "      }\n",
              "      quickchartButtonEl.classList.remove('colab-df-spinner');\n",
              "      quickchartButtonEl.classList.add('colab-df-quickchart-complete');\n",
              "    }\n",
              "    (() => {\n",
              "      let quickchartButtonEl =\n",
              "        document.querySelector('#df-a5a0ee59-826f-4d0e-9d6b-ac604ed847d7 button');\n",
              "      quickchartButtonEl.style.display =\n",
              "        google.colab.kernel.accessAllowed ? 'block' : 'none';\n",
              "    })();\n",
              "  </script>\n",
              "</div>\n",
              "    </div>\n",
              "  </div>\n"
            ],
            "text/plain": [
              "                 LR Train set  LR Test set  LR_TUNED Train set  \\\n",
              "ROC AUC Score        0.626755     0.620684            0.626755   \n",
              "Gini Score           0.253510     0.241367            0.253511   \n",
              "Recall Score         0.591615     0.584740            0.591615   \n",
              "Precision Score      0.366457     0.369145            0.366437   \n",
              "F1 Score             0.452578     0.452579            0.452563   \n",
              "Accuracy Score       0.590035     0.595719            0.590010   \n",
              "\n",
              "                 LR_TUNED Test set  \n",
              "ROC AUC Score             0.620688  \n",
              "Gini Score                0.241376  \n",
              "Recall Score              0.584740  \n",
              "Precision Score           0.369227  \n",
              "F1 Score                  0.452640  \n",
              "Accuracy Score            0.595820  "
            ]
          },
          "execution_count": 35,
          "metadata": {},
          "output_type": "execute_result"
        }
      ],
      "source": [
        "lr_metrics = compare_base_tuner('LR', lr_pipe, lr_bayes_search)\n",
        "lr_metrics\n"
      ]
    },
    {
      "cell_type": "markdown",
      "metadata": {
        "id": "w1Dl2m7wf7Il"
      },
      "source": [
        "## KNN"
      ]
    },
    {
      "cell_type": "code",
      "execution_count": null,
      "metadata": {
        "id": "O50ZeNEkf8iN"
      },
      "outputs": [],
      "source": [
        "%%time\n",
        "\n",
        "# creating model\n",
        "model = KNeighborsClassifier(weights = 'distance', n_jobs = -1)\n",
        "pipe = Pipeline([('prep', column_transformer), ('sc', scaler), ('clf', model)])\n",
        "hyperparameter_ranges = {\n",
        "    'clf__n_neighbors': Integer(2, 10),\n",
        "    'clf__p': Integer(1, 2)\n",
        "}\n",
        "\n",
        "# creating grid\n",
        "knn_bayes_search = BayesSearchCV(estimator = pipe,\n",
        "                              search_spaces = hyperparameter_ranges,\n",
        "                              n_jobs=-1,\n",
        "                              cv = 10,\n",
        "                              scoring = 'recall',\n",
        "                              error_score = 0,\n",
        "                              random_state = 23,\n",
        "                              return_train_score = True)\n",
        "knn_bayes_search.fit(X_train, y_train)"
      ]
    },
    {
      "cell_type": "code",
      "execution_count": null,
      "metadata": {
        "id": "2HmoH32Dhzi0"
      },
      "outputs": [],
      "source": [
        "knn_bayes_search.best_params_"
      ]
    },
    {
      "cell_type": "code",
      "execution_count": null,
      "metadata": {
        "id": "mEYatKETMf4z"
      },
      "outputs": [],
      "source": [
        "knn_metrics = compare_base_tuner('KNN', knn_pipe, knn_bayes_search)\n",
        "knn_metrics"
      ]
    },
    {
      "cell_type": "markdown",
      "metadata": {
        "id": "t6Bp9JxUNrF3"
      },
      "source": [
        "## Decision Tree"
      ]
    },
    {
      "cell_type": "code",
      "execution_count": null,
      "metadata": {
        "id": "EIq0nIMdNqmN"
      },
      "outputs": [],
      "source": [
        "%%time\n",
        "\n",
        "# creating model\n",
        "model = DecisionTreeClassifier(class_weight = 'balanced', random_state = 24)\n",
        "pipe = Pipeline([('prep', column_transformer), ('sc', scaler), ('clf', model)])\n",
        "hyperparameter_ranges = {\n",
        "    'clf__criterion': Categorical(['gini', 'entropy', 'log_loss']),\n",
        "    'clf__splitter': Categorical(['best', 'random']),\n",
        "    'clf__max_depth': Integer(2, 15),\n",
        "    'clf__min_samples_split': Integer(2, 10),\n",
        "    'clf__min_samples_leaf': Integer(1, 10),\n",
        "    'clf__max_features': Categorical(['sqrt', 'log2'])\n",
        "}\n",
        "\n",
        "# creating grid\n",
        "dct_bayes_search = BayesSearchCV(estimator = pipe,\n",
        "                              search_spaces = hyperparameter_ranges,\n",
        "                              n_jobs=-1,\n",
        "                              cv = 10,\n",
        "                              scoring = 'recall',\n",
        "                              error_score = 0,\n",
        "                              random_state = 23,\n",
        "                              return_train_score = True)\n",
        "dct_bayes_search.fit(X_train, y_train)"
      ]
    },
    {
      "cell_type": "code",
      "execution_count": null,
      "metadata": {
        "id": "-vEhYMOBPXtu"
      },
      "outputs": [],
      "source": [
        "dct_bayes_search.best_params_"
      ]
    },
    {
      "cell_type": "code",
      "execution_count": null,
      "metadata": {
        "id": "zLDkvYUmPYuO"
      },
      "outputs": [],
      "source": [
        "dct_metrics = compare_base_tuner('DTC', dtc_pipe, dct_bayes_search)\n",
        "dct_metrics"
      ]
    },
    {
      "cell_type": "markdown",
      "metadata": {
        "id": "9zaLgTm9QmoK"
      },
      "source": [
        "## Random Forest"
      ]
    },
    {
      "cell_type": "code",
      "execution_count": null,
      "metadata": {
        "id": "f4a4D1I1QpKa"
      },
      "outputs": [],
      "source": [
        "%%time\n",
        "\n",
        "# creating model\n",
        "model = RandomForestClassifier(class_weight = 'balanced', random_state = 24)\n",
        "pipe = Pipeline([('prep', column_transformer), ('sc', scaler), ('clf', model)])\n",
        "hyperparameter_ranges = {\n",
        "    'clf__criterion': Categorical(['gini', 'entropy', 'log_loss']),\n",
        "    'clf__max_depth': Integer(2, 15),\n",
        "    'clf__min_samples_split': Integer(2, 10),\n",
        "    'clf__min_samples_leaf': Integer(1, 10),\n",
        "    'clf__max_features': Categorical(['sqrt', 'log2']),\n",
        "}\n",
        "\n",
        "# creating grid\n",
        "rfc_bayes_search = BayesSearchCV(estimator = pipe,\n",
        "                              search_spaces = hyperparameter_ranges,\n",
        "                              n_jobs=-1,\n",
        "                              cv = 10,\n",
        "                              scoring = 'recall',\n",
        "                              error_score = 0,\n",
        "                              random_state = 23,\n",
        "                              return_train_score = True)\n",
        "rfc_bayes_search.fit(X_train, y_train)"
      ]
    },
    {
      "cell_type": "code",
      "execution_count": null,
      "metadata": {
        "id": "gsN-hgaxSkoY"
      },
      "outputs": [],
      "source": [
        "rfc_bayes_search.best_params_"
      ]
    },
    {
      "cell_type": "code",
      "execution_count": null,
      "metadata": {
        "id": "sXycHM_eSk41"
      },
      "outputs": [],
      "source": [
        "rfc_metrics = compare_base_tuner('RFC', rfc_pipe, rfc_bayes_search)\n",
        "rfc_metrics"
      ]
    },
    {
      "cell_type": "markdown",
      "metadata": {
        "id": "nkUFXTgyWxND"
      },
      "source": [
        "## XGBoost"
      ]
    },
    {
      "cell_type": "code",
      "execution_count": null,
      "metadata": {
        "id": "dCA3kA-zVxnc"
      },
      "outputs": [],
      "source": [
        "balancing_param = len(y_train[y_train == 0]) / len(y_train[y_train == 1])\n",
        "# creating model\n",
        "model = XGBClassifier(scale_pos_weight = balancing_param,\n",
        "                      random_state = 23)\n",
        "pipe = Pipeline([('prep', column_transformer), ('sc', scaler), ('clf', model)])\n",
        "hyperparameter_ranges = {\n",
        "    'clf__alpha': Real(0, 1200),#c\n",
        "    'clf__lambda': Real(0, 1500),#c\n",
        "    'clf__gamma': Real(0, 10),#c\n",
        "    'clf__max_depth': Integer(0, 12),\n",
        "    'clf__max_delta_step': Integer(0, 10),\n",
        "    'clf__subsample': Real(0.5, 1),#c\n",
        "    'clf__min_child_weight': Real(0, 120),#c\n",
        "    'clf__eta': Real(0.01, 0.9),#c\n",
        "    'clf__colsample_bytree': Real(0.5, 1),#c\n",
        "    'clf__colsample_bynode': Real(0.1, 1),#c\n",
        "    'clf__colsample_bylevel': Real(0.1, 1),\n",
        "    'clf__rate_drop': Real(0, 1),\n",
        "    'clf__one_drop': Integer(0, 1),\n",
        "    'clf__skip_drop': Real(0, 1)\n",
        "}\n",
        "\n",
        "\n",
        "# creating grid\n",
        "xgb_bayes_search = BayesSearchCV(estimator = pipe,\n",
        "                              search_spaces = hyperparameter_ranges,\n",
        "                              cv = 10,\n",
        "                              scoring = 'recall',\n",
        "                              error_score = 0,\n",
        "                              random_state = 23,\n",
        "                              return_train_score = True)\n",
        "xgb_bayes_search.fit(X_train, y_train)"
      ]
    },
    {
      "cell_type": "code",
      "execution_count": null,
      "metadata": {
        "id": "j0Hcue6AUM6P"
      },
      "outputs": [],
      "source": [
        "xgb_bayes_search.best_params_"
      ]
    },
    {
      "cell_type": "code",
      "execution_count": null,
      "metadata": {
        "id": "Jtu98_aVUNH6"
      },
      "outputs": [],
      "source": [
        "xgb_metrics = compare_base_tuner('XGB', xgb_pipe, xgb_bayes_search)\n",
        "xgb_metrics"
      ]
    },
    {
      "cell_type": "markdown",
      "metadata": {
        "id": "7jiXPNiMStgJ"
      },
      "source": [
        "## LGBM"
      ]
    },
    {
      "cell_type": "code",
      "execution_count": null,
      "metadata": {
        "id": "P9I8wg7DTYnY"
      },
      "outputs": [],
      "source": [
        "# creating model\n",
        "model = LGBMClassifier(class_weight = 'balanced', random_state = 24, n_jobs = -1)\n",
        "pipe = Pipeline([('prep', column_transformer), ('sc', scaler), ('clf', model)])\n",
        "hyperparameter_ranges = {\n",
        "    'clf__reg_alpha': Real(0, 1200),#c\n",
        "    'clf__reg_lambda': Real(0, 1200),#c\n",
        "    'clf__num_leaves': Integer(2, 100),#c\n",
        "    'clf__max_depth': Integer(0, 12),\n",
        "    'clf__learning_rate': Real(0.001, 0.1),\n",
        "    'clf__subsample': Real(0.5, 1),#c\n",
        "    'clf__n_estimators': Integer(50, 150),#c\n",
        "}\n",
        "\n",
        "# creating grid\n",
        "lgbm_bayes_search = BayesSearchCV(estimator = pipe,\n",
        "                              search_spaces = hyperparameter_ranges,\n",
        "                              cv = 10,\n",
        "                              scoring = 'recall',\n",
        "                              error_score = 0,\n",
        "                              random_state = 23,\n",
        "                              return_train_score = True)\n",
        "lgbm_bayes_search.fit(X_train, y_train)"
      ]
    },
    {
      "cell_type": "code",
      "execution_count": null,
      "metadata": {
        "id": "dJw4JWVKUu8h"
      },
      "outputs": [],
      "source": [
        "lgbm_bayes_search.best_params_"
      ]
    },
    {
      "cell_type": "code",
      "execution_count": null,
      "metadata": {
        "id": "-lHHLeHqUvPp"
      },
      "outputs": [],
      "source": [
        "lgbm_metrics = compare_base_tuner('LGBM', lgbm_pipe, lgbm_bayes_search)\n",
        "lgbm_metrics"
      ]
    },
    {
      "cell_type": "markdown",
      "metadata": {
        "id": "aAeq7cPSU4CY"
      },
      "source": [
        "## MLP"
      ]
    },
    {
      "cell_type": "code",
      "execution_count": 33,
      "metadata": {
        "id": "KDohJb7nU6H_"
      },
      "outputs": [],
      "source": [
        "%%time\n",
        "\n",
        "# creating model\n",
        "model = MLPClassifier(random_state = 24, hidden_layer_sizes=[8,8,8])\n",
        "pipe = Pipeline([('prep', column_transformer), ('sc', scaler), ('clf', model)])\n",
        "hyperparameter_ranges = {\n",
        "    'clf__solver': Categorical(['lbfgs', 'sgd', 'adam']),\n",
        "    'clf__activation': Categorical(['identity', 'logistic', 'tanh', 'relu']),\n",
        "    'clf__alpha': Real(0.00001,0.01),\n",
        "    'clf__batch_size': Categorical([64, 128]),\n",
        "}\n",
        "\n",
        "# creating grid\n",
        "mlp_bayes_search = BayesSearchCV(estimator = pipe,\n",
        "                              search_spaces = hyperparameter_ranges,\n",
        "                              cv = 10,\n",
        "                              scoring = 'recall',\n",
        "                              error_score = 0,\n",
        "                              random_state = 23,\n",
        "                              return_train_score = True)\n",
        "mlp_bayes_search.fit(X_train, y_train)"
      ]
    },
    {
      "cell_type": "code",
      "execution_count": null,
      "metadata": {
        "id": "RSsJwfp2U8OO"
      },
      "outputs": [],
      "source": [
        "mlp_bayes_search.best_params_"
      ]
    },
    {
      "cell_type": "code",
      "execution_count": null,
      "metadata": {
        "id": "ryxavOwNU8e4"
      },
      "outputs": [],
      "source": [
        "mlp_metrics = compare_base_tuner('MLP', mlp_pipe, mlp_bayes_search)\n",
        "mlp_metrics"
      ]
    }
  ],
  "metadata": {
    "accelerator": "GPU",
    "colab": {
      "gpuType": "T4",
      "provenance": []
    },
    "kernelspec": {
      "display_name": "Python 3",
      "name": "python3"
    },
    "language_info": {
      "codemirror_mode": {
        "name": "ipython",
        "version": 3
      },
      "file_extension": ".py",
      "mimetype": "text/x-python",
      "name": "python",
      "nbconvert_exporter": "python",
      "pygments_lexer": "ipython3",
      "version": "3.11.6"
    }
  },
  "nbformat": 4,
  "nbformat_minor": 0
}
